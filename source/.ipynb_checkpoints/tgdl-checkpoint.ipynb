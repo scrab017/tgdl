{
 "cells": [
  {
   "cell_type": "markdown",
   "metadata": {},
   "source": [
    "### Imports"
   ]
  },
  {
   "cell_type": "code",
   "execution_count": 1,
   "metadata": {},
   "outputs": [],
   "source": [
    "from bs4 import BeautifulSoup\n",
    "import urllib3\n",
    "import re\n",
    "import pandas as pd\n",
    "import numpy as np\n",
    "\n",
    "import dateutil.parser as dup\n",
    "from dateutil.relativedelta import *\n",
    "import datetime\n",
    "import string\n",
    "\n",
    "import plotly.offline as py\n",
    "from plotly import graph_objs as go\n",
    "from plotly import tools as pltls\n",
    "import cufflinks as cf"
   ]
  },
  {
   "cell_type": "code",
   "execution_count": 2,
   "metadata": {},
   "outputs": [],
   "source": [
    "pltls.set_credentials_file(username='schakrab17', api_key='CdgzV1lTW5bcAsqyWOKL')"
   ]
  },
  {
   "cell_type": "code",
   "execution_count": 3,
   "metadata": {},
   "outputs": [
    {
     "data": {
      "text/html": [
       "<script>requirejs.config({paths: { 'plotly': ['https://cdn.plot.ly/plotly-latest.min']},});if(!window.Plotly) {{require(['plotly'],function(plotly) {window.Plotly=plotly;});}}</script>"
      ],
      "text/vnd.plotly.v1+html": [
       "<script>requirejs.config({paths: { 'plotly': ['https://cdn.plot.ly/plotly-latest.min']},});if(!window.Plotly) {{require(['plotly'],function(plotly) {window.Plotly=plotly;});}}</script>"
      ]
     },
     "metadata": {},
     "output_type": "display_data"
    }
   ],
   "source": [
    "py.init_notebook_mode(connected=True)"
   ]
  },
  {
   "cell_type": "markdown",
   "metadata": {},
   "source": [
    "### Scraping Web Contents"
   ]
  },
  {
   "cell_type": "code",
   "execution_count": 4,
   "metadata": {},
   "outputs": [],
   "source": [
    "url_tpdl = \"https://tsmc.tripura.gov.in/doc_list\""
   ]
  },
  {
   "cell_type": "markdown",
   "metadata": {},
   "source": [
    "#### Function to check for any csv/pdf files embedded in the web contents"
   ]
  },
  {
   "cell_type": "code",
   "execution_count": 5,
   "metadata": {},
   "outputs": [],
   "source": [
    "def getFileLinks(url,searchString):\n",
    "    \"\"\"\n",
    "    Returns a list of links for specified file type from a web page\n",
    "    \n",
    "    Parameters\n",
    "    ----------\n",
    "    url: string, url for website to parse\n",
    "    searchStringh: string, type of file to query for\n",
    "    \n",
    "    Returns\n",
    "    -------\n",
    "    listLinks: list, empty if none found\n",
    "    \"\"\"    \n",
    "    http = urllib3.PoolManager()\n",
    "    urllib3.disable_warnings()\n",
    "  \n",
    "    listLinks = []\n",
    "    \n",
    "    response = http.request('GET', url)\n",
    "    soup = BeautifulSoup(response.data)\n",
    "\n",
    "    for link in soup.findAll('a', attrs={'href': re.compile(searchString)}):\n",
    "        listLinks.append(link.get('href'))\n",
    "        \n",
    "    return listLinks"
   ]
  },
  {
   "cell_type": "code",
   "execution_count": 6,
   "metadata": {},
   "outputs": [
    {
     "data": {
      "text/plain": [
       "[]"
      ]
     },
     "execution_count": 6,
     "metadata": {},
     "output_type": "execute_result"
    }
   ],
   "source": [
    "getFileLinks(url_tpdl,'pdf')"
   ]
  },
  {
   "cell_type": "code",
   "execution_count": 7,
   "metadata": {},
   "outputs": [
    {
     "data": {
      "text/plain": [
       "['/?q=Doctor-list.csv']"
      ]
     },
     "execution_count": 7,
     "metadata": {},
     "output_type": "execute_result"
    }
   ],
   "source": [
    "getFileLinks(url_tpdl,'csv')"
   ]
  },
  {
   "cell_type": "markdown",
   "metadata": {},
   "source": [
    "#### Save File to Local"
   ]
  },
  {
   "cell_type": "code",
   "execution_count": 8,
   "metadata": {},
   "outputs": [
    {
     "data": {
      "text/html": [
       "<div>\n",
       "<style scoped>\n",
       "    .dataframe tbody tr th:only-of-type {\n",
       "        vertical-align: middle;\n",
       "    }\n",
       "\n",
       "    .dataframe tbody tr th {\n",
       "        vertical-align: top;\n",
       "    }\n",
       "\n",
       "    .dataframe thead th {\n",
       "        text-align: right;\n",
       "    }\n",
       "</style>\n",
       "<table border=\"1\" class=\"dataframe\">\n",
       "  <thead>\n",
       "    <tr style=\"text-align: right;\">\n",
       "      <th></th>\n",
       "      <th>Name &amp; Father Name</th>\n",
       "      <th>Qualification / Additional Qualification/ College/University and Year thereof</th>\n",
       "      <th>Reg. No</th>\n",
       "      <th>Reg. Date</th>\n",
       "      <th>Date of Birth/Sex</th>\n",
       "      <th>State &amp; Schedule</th>\n",
       "      <th>Address</th>\n",
       "      <th>Edit link</th>\n",
       "      <th>Delete link</th>\n",
       "    </tr>\n",
       "  </thead>\n",
       "  <tbody>\n",
       "    <tr>\n",
       "      <th>0</th>\n",
       "      <td>Dr. Tapan Kr. Bhattacharyya\\r\\nS/o, Lt, Tulsid...</td>\n",
       "      <td>MBBS , Armed Forces\\r\\nMedical College, 1977,\\...</td>\n",
       "      <td>1</td>\n",
       "      <td>03/04/2012</td>\n",
       "      <td>31/12/1953 M</td>\n",
       "      <td>Tripura 1st</td>\n",
       "      <td>DA-197,\\r\\nSector-1, Salt Lake City,\\r\\nPo. Sa...</td>\n",
       "      <td>NaN</td>\n",
       "      <td>NaN</td>\n",
       "    </tr>\n",
       "    <tr>\n",
       "      <th>1</th>\n",
       "      <td>Dr.Bijoy Kar\\r\\nS/o, Bishnu Pada kar</td>\n",
       "      <td>MBBS, Agartala\\r\\nGovernment Medical\\r\\nColleg...</td>\n",
       "      <td>10</td>\n",
       "      <td>03/04/2012</td>\n",
       "      <td>30/04/1987 M</td>\n",
       "      <td>Tripura 1st</td>\n",
       "      <td>Shibnagar Collage\\r\\nRoad,Agartala Tripura\\r\\n...</td>\n",
       "      <td>NaN</td>\n",
       "      <td>NaN</td>\n",
       "    </tr>\n",
       "    <tr>\n",
       "      <th>2</th>\n",
       "      <td>Dr.Avipsa Das\\r\\nD/o, Dr.Ajay Kumar Das</td>\n",
       "      <td>MBBS, Agartala\\r\\nGovernment Medical\\r\\nColleg...</td>\n",
       "      <td>11</td>\n",
       "      <td>03/04/2012</td>\n",
       "      <td>10/08/1988 F</td>\n",
       "      <td>Tripura 1st</td>\n",
       "      <td>47-Sarat Ghosh Garden\\r\\nRoad,Dhakuria South\\r...</td>\n",
       "      <td>NaN</td>\n",
       "      <td>NaN</td>\n",
       "    </tr>\n",
       "    <tr>\n",
       "      <th>3</th>\n",
       "      <td>Dr.Sambreeta Debbarma\\r\\nD/o, Dr.Sanjib Debbarma</td>\n",
       "      <td>MBBS, Agartala\\r\\nGovernment Medical\\r\\nColleg...</td>\n",
       "      <td>12</td>\n",
       "      <td>03-04-2012</td>\n",
       "      <td>15-06-1988 F</td>\n",
       "      <td>Tripura 1st</td>\n",
       "      <td>Opp. Of Magnet Club,\\r\\nNear B.K. Chowmuhani,K...</td>\n",
       "      <td>NaN</td>\n",
       "      <td>NaN</td>\n",
       "    </tr>\n",
       "    <tr>\n",
       "      <th>4</th>\n",
       "      <td>Dr.Saswati Das\\r\\nD/o: Sukhlal Das</td>\n",
       "      <td>MBBS, Agartala\\r\\nGovernment Medical\\r\\nColleg...</td>\n",
       "      <td>13</td>\n",
       "      <td>03-04-2012</td>\n",
       "      <td>16-10-1987 F</td>\n",
       "      <td>Tripura 1st</td>\n",
       "      <td>Gangail Road,\\r\\nMelarmath, Agartala\\r\\nWest T...</td>\n",
       "      <td>NaN</td>\n",
       "      <td>NaN</td>\n",
       "    </tr>\n",
       "  </tbody>\n",
       "</table>\n",
       "</div>"
      ],
      "text/plain": [
       "                                  Name & Father Name  \\\n",
       "0  Dr. Tapan Kr. Bhattacharyya\\r\\nS/o, Lt, Tulsid...   \n",
       "1               Dr.Bijoy Kar\\r\\nS/o, Bishnu Pada kar   \n",
       "2            Dr.Avipsa Das\\r\\nD/o, Dr.Ajay Kumar Das   \n",
       "3   Dr.Sambreeta Debbarma\\r\\nD/o, Dr.Sanjib Debbarma   \n",
       "4                 Dr.Saswati Das\\r\\nD/o: Sukhlal Das   \n",
       "\n",
       "  Qualification / Additional Qualification/ College/University and Year thereof   \\\n",
       "0  MBBS , Armed Forces\\r\\nMedical College, 1977,\\...                               \n",
       "1  MBBS, Agartala\\r\\nGovernment Medical\\r\\nColleg...                               \n",
       "2  MBBS, Agartala\\r\\nGovernment Medical\\r\\nColleg...                               \n",
       "3  MBBS, Agartala\\r\\nGovernment Medical\\r\\nColleg...                               \n",
       "4  MBBS, Agartala\\r\\nGovernment Medical\\r\\nColleg...                               \n",
       "\n",
       "   Reg. No   Reg. Date Date of Birth/Sex State & Schedule  \\\n",
       "0        1  03/04/2012      31/12/1953 M      Tripura 1st   \n",
       "1       10  03/04/2012      30/04/1987 M      Tripura 1st   \n",
       "2       11  03/04/2012      10/08/1988 F      Tripura 1st   \n",
       "3       12  03-04-2012      15-06-1988 F      Tripura 1st   \n",
       "4       13  03-04-2012      16-10-1987 F      Tripura 1st   \n",
       "\n",
       "                                             Address  Edit link  Delete link  \n",
       "0  DA-197,\\r\\nSector-1, Salt Lake City,\\r\\nPo. Sa...        NaN          NaN  \n",
       "1  Shibnagar Collage\\r\\nRoad,Agartala Tripura\\r\\n...        NaN          NaN  \n",
       "2  47-Sarat Ghosh Garden\\r\\nRoad,Dhakuria South\\r...        NaN          NaN  \n",
       "3  Opp. Of Magnet Club,\\r\\nNear B.K. Chowmuhani,K...        NaN          NaN  \n",
       "4  Gangail Road,\\r\\nMelarmath, Agartala\\r\\nWest T...        NaN          NaN  "
      ]
     },
     "execution_count": 8,
     "metadata": {},
     "output_type": "execute_result"
    }
   ],
   "source": [
    "df_docListWeb = pd.read_csv(url_tpdl+getFileLinks(url_tpdl,'csv')[0])\n",
    "df_docListWeb.head()"
   ]
  },
  {
   "cell_type": "code",
   "execution_count": 9,
   "metadata": {},
   "outputs": [],
   "source": [
    "df_docListWeb.to_csv('../data/doc_list_tripura.csv')"
   ]
  },
  {
   "cell_type": "markdown",
   "metadata": {},
   "source": [
    "### Load Data"
   ]
  },
  {
   "cell_type": "code",
   "execution_count": 10,
   "metadata": {},
   "outputs": [],
   "source": [
    "df_docListTripura = pd.read_csv('../data/doc_list_tripura.csv')"
   ]
  },
  {
   "cell_type": "markdown",
   "metadata": {},
   "source": [
    "<h1 align='center'> Cleansing </h1>"
   ]
  },
  {
   "cell_type": "code",
   "execution_count": 11,
   "metadata": {},
   "outputs": [
    {
     "data": {
      "text/plain": [
       "Index(['Unnamed: 0', 'Name & Father Name',\n",
       "       'Qualification / Additional Qualification/ College/University and Year thereof ',\n",
       "       'Reg. No', 'Reg. Date', 'Date of Birth/Sex', 'State & Schedule',\n",
       "       'Address', 'Edit link', 'Delete link'],\n",
       "      dtype='object')"
      ]
     },
     "execution_count": 11,
     "metadata": {},
     "output_type": "execute_result"
    }
   ],
   "source": [
    "df_docListTripura.columns"
   ]
  },
  {
   "cell_type": "code",
   "execution_count": 12,
   "metadata": {},
   "outputs": [
    {
     "data": {
      "text/plain": [
       "(876, 10)"
      ]
     },
     "execution_count": 12,
     "metadata": {},
     "output_type": "execute_result"
    }
   ],
   "source": [
    "df_docListTripura.shape"
   ]
  },
  {
   "cell_type": "code",
   "execution_count": 13,
   "metadata": {},
   "outputs": [
    {
     "data": {
      "text/html": [
       "<div>\n",
       "<style scoped>\n",
       "    .dataframe tbody tr th:only-of-type {\n",
       "        vertical-align: middle;\n",
       "    }\n",
       "\n",
       "    .dataframe tbody tr th {\n",
       "        vertical-align: top;\n",
       "    }\n",
       "\n",
       "    .dataframe thead th {\n",
       "        text-align: right;\n",
       "    }\n",
       "</style>\n",
       "<table border=\"1\" class=\"dataframe\">\n",
       "  <thead>\n",
       "    <tr style=\"text-align: right;\">\n",
       "      <th></th>\n",
       "      <th>Unnamed: 0</th>\n",
       "      <th>Name &amp; Father Name</th>\n",
       "      <th>Qualification / Additional Qualification/ College/University and Year thereof</th>\n",
       "      <th>Reg. No</th>\n",
       "      <th>Reg. Date</th>\n",
       "      <th>Date of Birth/Sex</th>\n",
       "      <th>State &amp; Schedule</th>\n",
       "      <th>Address</th>\n",
       "      <th>Edit link</th>\n",
       "      <th>Delete link</th>\n",
       "    </tr>\n",
       "  </thead>\n",
       "  <tbody>\n",
       "    <tr>\n",
       "      <th>0</th>\n",
       "      <td>0</td>\n",
       "      <td>Dr. Tapan Kr. Bhattacharyya\\r\\r\\nS/o, Lt, Tuls...</td>\n",
       "      <td>MBBS , Armed Forces\\r\\r\\nMedical College, 1977...</td>\n",
       "      <td>1</td>\n",
       "      <td>03/04/2012</td>\n",
       "      <td>31/12/1953 M</td>\n",
       "      <td>Tripura 1st</td>\n",
       "      <td>DA-197,\\r\\r\\nSector-1, Salt Lake City,\\r\\r\\nPo...</td>\n",
       "      <td>NaN</td>\n",
       "      <td>NaN</td>\n",
       "    </tr>\n",
       "    <tr>\n",
       "      <th>1</th>\n",
       "      <td>1</td>\n",
       "      <td>Dr.Bijoy Kar\\r\\r\\nS/o, Bishnu Pada kar</td>\n",
       "      <td>MBBS, Agartala\\r\\r\\nGovernment Medical\\r\\r\\nCo...</td>\n",
       "      <td>10</td>\n",
       "      <td>03/04/2012</td>\n",
       "      <td>30/04/1987 M</td>\n",
       "      <td>Tripura 1st</td>\n",
       "      <td>Shibnagar Collage\\r\\r\\nRoad,Agartala Tripura\\r...</td>\n",
       "      <td>NaN</td>\n",
       "      <td>NaN</td>\n",
       "    </tr>\n",
       "    <tr>\n",
       "      <th>2</th>\n",
       "      <td>2</td>\n",
       "      <td>Dr.Avipsa Das\\r\\r\\nD/o, Dr.Ajay Kumar Das</td>\n",
       "      <td>MBBS, Agartala\\r\\r\\nGovernment Medical\\r\\r\\nCo...</td>\n",
       "      <td>11</td>\n",
       "      <td>03/04/2012</td>\n",
       "      <td>10/08/1988 F</td>\n",
       "      <td>Tripura 1st</td>\n",
       "      <td>47-Sarat Ghosh Garden\\r\\r\\nRoad,Dhakuria South...</td>\n",
       "      <td>NaN</td>\n",
       "      <td>NaN</td>\n",
       "    </tr>\n",
       "    <tr>\n",
       "      <th>3</th>\n",
       "      <td>3</td>\n",
       "      <td>Dr.Sambreeta Debbarma\\r\\r\\nD/o, Dr.Sanjib Debb...</td>\n",
       "      <td>MBBS, Agartala\\r\\r\\nGovernment Medical\\r\\r\\nCo...</td>\n",
       "      <td>12</td>\n",
       "      <td>03-04-2012</td>\n",
       "      <td>15-06-1988 F</td>\n",
       "      <td>Tripura 1st</td>\n",
       "      <td>Opp. Of Magnet Club,\\r\\r\\nNear B.K. Chowmuhani...</td>\n",
       "      <td>NaN</td>\n",
       "      <td>NaN</td>\n",
       "    </tr>\n",
       "    <tr>\n",
       "      <th>4</th>\n",
       "      <td>4</td>\n",
       "      <td>Dr.Saswati Das\\r\\r\\nD/o: Sukhlal Das</td>\n",
       "      <td>MBBS, Agartala\\r\\r\\nGovernment Medical\\r\\r\\nCo...</td>\n",
       "      <td>13</td>\n",
       "      <td>03-04-2012</td>\n",
       "      <td>16-10-1987 F</td>\n",
       "      <td>Tripura 1st</td>\n",
       "      <td>Gangail Road,\\r\\r\\nMelarmath, Agartala\\r\\r\\nWe...</td>\n",
       "      <td>NaN</td>\n",
       "      <td>NaN</td>\n",
       "    </tr>\n",
       "  </tbody>\n",
       "</table>\n",
       "</div>"
      ],
      "text/plain": [
       "   Unnamed: 0                                 Name & Father Name  \\\n",
       "0           0  Dr. Tapan Kr. Bhattacharyya\\r\\r\\nS/o, Lt, Tuls...   \n",
       "1           1             Dr.Bijoy Kar\\r\\r\\nS/o, Bishnu Pada kar   \n",
       "2           2          Dr.Avipsa Das\\r\\r\\nD/o, Dr.Ajay Kumar Das   \n",
       "3           3  Dr.Sambreeta Debbarma\\r\\r\\nD/o, Dr.Sanjib Debb...   \n",
       "4           4               Dr.Saswati Das\\r\\r\\nD/o: Sukhlal Das   \n",
       "\n",
       "  Qualification / Additional Qualification/ College/University and Year thereof   \\\n",
       "0  MBBS , Armed Forces\\r\\r\\nMedical College, 1977...                               \n",
       "1  MBBS, Agartala\\r\\r\\nGovernment Medical\\r\\r\\nCo...                               \n",
       "2  MBBS, Agartala\\r\\r\\nGovernment Medical\\r\\r\\nCo...                               \n",
       "3  MBBS, Agartala\\r\\r\\nGovernment Medical\\r\\r\\nCo...                               \n",
       "4  MBBS, Agartala\\r\\r\\nGovernment Medical\\r\\r\\nCo...                               \n",
       "\n",
       "   Reg. No   Reg. Date Date of Birth/Sex State & Schedule  \\\n",
       "0        1  03/04/2012      31/12/1953 M      Tripura 1st   \n",
       "1       10  03/04/2012      30/04/1987 M      Tripura 1st   \n",
       "2       11  03/04/2012      10/08/1988 F      Tripura 1st   \n",
       "3       12  03-04-2012      15-06-1988 F      Tripura 1st   \n",
       "4       13  03-04-2012      16-10-1987 F      Tripura 1st   \n",
       "\n",
       "                                             Address  Edit link  Delete link  \n",
       "0  DA-197,\\r\\r\\nSector-1, Salt Lake City,\\r\\r\\nPo...        NaN          NaN  \n",
       "1  Shibnagar Collage\\r\\r\\nRoad,Agartala Tripura\\r...        NaN          NaN  \n",
       "2  47-Sarat Ghosh Garden\\r\\r\\nRoad,Dhakuria South...        NaN          NaN  \n",
       "3  Opp. Of Magnet Club,\\r\\r\\nNear B.K. Chowmuhani...        NaN          NaN  \n",
       "4  Gangail Road,\\r\\r\\nMelarmath, Agartala\\r\\r\\nWe...        NaN          NaN  "
      ]
     },
     "execution_count": 13,
     "metadata": {},
     "output_type": "execute_result"
    }
   ],
   "source": [
    "df_docListTripura.head()"
   ]
  },
  {
   "cell_type": "markdown",
   "metadata": {},
   "source": [
    "#### Check for null values in the dataframe"
   ]
  },
  {
   "cell_type": "code",
   "execution_count": 14,
   "metadata": {},
   "outputs": [
    {
     "data": {
      "text/plain": [
       "Unnamed: 0                                                                          0\n",
       "Name & Father Name                                                                  0\n",
       "Qualification / Additional Qualification/ College/University and Year thereof       0\n",
       "Reg. No                                                                             0\n",
       "Reg. Date                                                                           1\n",
       "Date of Birth/Sex                                                                   0\n",
       "State & Schedule                                                                    0\n",
       "Address                                                                             0\n",
       "Edit link                                                                         876\n",
       "Delete link                                                                       876\n",
       "dtype: int64"
      ]
     },
     "execution_count": 14,
     "metadata": {},
     "output_type": "execute_result"
    }
   ],
   "source": [
    "df_docListTripura.isna().sum()"
   ]
  },
  {
   "cell_type": "code",
   "execution_count": 15,
   "metadata": {},
   "outputs": [
    {
     "data": {
      "text/plain": [
       "array([[631]], dtype=int64)"
      ]
     },
     "execution_count": 15,
     "metadata": {},
     "output_type": "execute_result"
    }
   ],
   "source": [
    "np.argwhere(df_docListTripura['Reg. Date'].isna()==True)"
   ]
  },
  {
   "cell_type": "code",
   "execution_count": 16,
   "metadata": {},
   "outputs": [
    {
     "data": {
      "text/html": [
       "<div>\n",
       "<style scoped>\n",
       "    .dataframe tbody tr th:only-of-type {\n",
       "        vertical-align: middle;\n",
       "    }\n",
       "\n",
       "    .dataframe tbody tr th {\n",
       "        vertical-align: top;\n",
       "    }\n",
       "\n",
       "    .dataframe thead th {\n",
       "        text-align: right;\n",
       "    }\n",
       "</style>\n",
       "<table border=\"1\" class=\"dataframe\">\n",
       "  <thead>\n",
       "    <tr style=\"text-align: right;\">\n",
       "      <th></th>\n",
       "      <th>Unnamed: 0</th>\n",
       "      <th>Name &amp; Father Name</th>\n",
       "      <th>Qualification / Additional Qualification/ College/University and Year thereof</th>\n",
       "      <th>Reg. No</th>\n",
       "      <th>Reg. Date</th>\n",
       "      <th>Date of Birth/Sex</th>\n",
       "      <th>State &amp; Schedule</th>\n",
       "      <th>Address</th>\n",
       "      <th>Edit link</th>\n",
       "      <th>Delete link</th>\n",
       "    </tr>\n",
       "  </thead>\n",
       "  <tbody>\n",
       "    <tr>\n",
       "      <th>630</th>\n",
       "      <td>630</td>\n",
       "      <td>Dr.Rajat Goswami\\r\\r\\nS/o, Chandan Goswami</td>\n",
       "      <td>MBBS Agartala\\r\\r\\nGovernment\\r\\r\\nMedical Col...</td>\n",
       "      <td>158</td>\n",
       "      <td>28-05-2012</td>\n",
       "      <td>05-08-1986 M</td>\n",
       "      <td>Tripura 1st</td>\n",
       "      <td>Vill- Durga Chowmuhani\\r\\r\\nPo. Ramnagar- 8\\r\\...</td>\n",
       "      <td>NaN</td>\n",
       "      <td>NaN</td>\n",
       "    </tr>\n",
       "    <tr>\n",
       "      <th>631</th>\n",
       "      <td>631</td>\n",
       "      <td>Dr.Sandip Chakraborty\\r\\r\\nS/o, Santosh Chakra...</td>\n",
       "      <td>MBBS Agartala\\r\\r\\nGovernment\\r\\r\\nMedical Col...</td>\n",
       "      <td>159</td>\n",
       "      <td>NaN</td>\n",
       "      <td>02-01-1987 M</td>\n",
       "      <td>Tripura 1st</td>\n",
       "      <td>Dhaleswar Road No-1\\r\\r\\nPo. Dhaleswar, West\\r...</td>\n",
       "      <td>NaN</td>\n",
       "      <td>NaN</td>\n",
       "    </tr>\n",
       "  </tbody>\n",
       "</table>\n",
       "</div>"
      ],
      "text/plain": [
       "     Unnamed: 0                                 Name & Father Name  \\\n",
       "630         630         Dr.Rajat Goswami\\r\\r\\nS/o, Chandan Goswami   \n",
       "631         631  Dr.Sandip Chakraborty\\r\\r\\nS/o, Santosh Chakra...   \n",
       "\n",
       "    Qualification / Additional Qualification/ College/University and Year thereof   \\\n",
       "630  MBBS Agartala\\r\\r\\nGovernment\\r\\r\\nMedical Col...                               \n",
       "631  MBBS Agartala\\r\\r\\nGovernment\\r\\r\\nMedical Col...                               \n",
       "\n",
       "     Reg. No   Reg. Date Date of Birth/Sex State & Schedule  \\\n",
       "630      158  28-05-2012      05-08-1986 M      Tripura 1st   \n",
       "631      159         NaN      02-01-1987 M      Tripura 1st   \n",
       "\n",
       "                                               Address  Edit link  Delete link  \n",
       "630  Vill- Durga Chowmuhani\\r\\r\\nPo. Ramnagar- 8\\r\\...        NaN          NaN  \n",
       "631  Dhaleswar Road No-1\\r\\r\\nPo. Dhaleswar, West\\r...        NaN          NaN  "
      ]
     },
     "execution_count": 16,
     "metadata": {},
     "output_type": "execute_result"
    }
   ],
   "source": [
    "df_docListTripura[630:632]"
   ]
  },
  {
   "cell_type": "code",
   "execution_count": 17,
   "metadata": {},
   "outputs": [
    {
     "data": {
      "text/plain": [
       "Tripura, 1st      649\n",
       "Tripura 1st       173\n",
       "Tripura,1st        51\n",
       "Tripura, 1st        1\n",
       "Cancel              1\n",
       "Tripura, 1st        1\n",
       "Name: State & Schedule, dtype: int64"
      ]
     },
     "execution_count": 17,
     "metadata": {},
     "output_type": "execute_result"
    }
   ],
   "source": [
    "df_docListTripura['State & Schedule'].value_counts()"
   ]
  },
  {
   "cell_type": "code",
   "execution_count": 18,
   "metadata": {},
   "outputs": [
    {
     "data": {
      "text/html": [
       "<div>\n",
       "<style scoped>\n",
       "    .dataframe tbody tr th:only-of-type {\n",
       "        vertical-align: middle;\n",
       "    }\n",
       "\n",
       "    .dataframe tbody tr th {\n",
       "        vertical-align: top;\n",
       "    }\n",
       "\n",
       "    .dataframe thead th {\n",
       "        text-align: right;\n",
       "    }\n",
       "</style>\n",
       "<table border=\"1\" class=\"dataframe\">\n",
       "  <thead>\n",
       "    <tr style=\"text-align: right;\">\n",
       "      <th></th>\n",
       "      <th>Unnamed: 0</th>\n",
       "      <th>Name &amp; Father Name</th>\n",
       "      <th>Qualification / Additional Qualification/ College/University and Year thereof</th>\n",
       "      <th>Reg. No</th>\n",
       "      <th>Reg. Date</th>\n",
       "      <th>Date of Birth/Sex</th>\n",
       "      <th>State &amp; Schedule</th>\n",
       "      <th>Address</th>\n",
       "      <th>Edit link</th>\n",
       "      <th>Delete link</th>\n",
       "    </tr>\n",
       "  </thead>\n",
       "  <tbody>\n",
       "    <tr>\n",
       "      <th>727</th>\n",
       "      <td>727</td>\n",
       "      <td>Cancel</td>\n",
       "      <td>Cancel</td>\n",
       "      <td>852</td>\n",
       "      <td>Cancel</td>\n",
       "      <td>Cancel</td>\n",
       "      <td>Cancel</td>\n",
       "      <td>Cancel\\r\\r\\n</td>\n",
       "      <td>NaN</td>\n",
       "      <td>NaN</td>\n",
       "    </tr>\n",
       "  </tbody>\n",
       "</table>\n",
       "</div>"
      ],
      "text/plain": [
       "     Unnamed: 0 Name & Father Name  \\\n",
       "727         727             Cancel   \n",
       "\n",
       "    Qualification / Additional Qualification/ College/University and Year thereof   \\\n",
       "727                                             Cancel                               \n",
       "\n",
       "     Reg. No Reg. Date Date of Birth/Sex State & Schedule       Address  \\\n",
       "727      852    Cancel            Cancel           Cancel  Cancel\\r\\r\\n   \n",
       "\n",
       "     Edit link  Delete link  \n",
       "727        NaN          NaN  "
      ]
     },
     "execution_count": 18,
     "metadata": {},
     "output_type": "execute_result"
    }
   ],
   "source": [
    "df_docListTripura[df_docListTripura['State & Schedule']=='Cancel']"
   ]
  },
  {
   "cell_type": "markdown",
   "metadata": {},
   "source": [
    "#### Dropping 2 records (~.2%)"
   ]
  },
  {
   "cell_type": "code",
   "execution_count": 19,
   "metadata": {},
   "outputs": [],
   "source": [
    "df_docListTripura.drop(index=[631,727],inplace=True)\n",
    "df_docListTripura.reset_index(inplace=True)"
   ]
  },
  {
   "cell_type": "markdown",
   "metadata": {},
   "source": [
    "### Temporary DataFrame for feature wise cleansing"
   ]
  },
  {
   "cell_type": "code",
   "execution_count": 20,
   "metadata": {},
   "outputs": [
    {
     "data": {
      "text/plain": [
       "(874, 7)"
      ]
     },
     "execution_count": 20,
     "metadata": {},
     "output_type": "execute_result"
    }
   ],
   "source": [
    "df_temp = df_docListTripura.drop(['Unnamed: 0','Edit link', 'Delete link','index'],axis=1)\n",
    "df_temp.shape"
   ]
  },
  {
   "cell_type": "markdown",
   "metadata": {},
   "source": [
    "### Gender/Age"
   ]
  },
  {
   "cell_type": "code",
   "execution_count": 21,
   "metadata": {},
   "outputs": [],
   "source": [
    "temp_dob = df_temp['Date of Birth/Sex'].apply(lambda x:x.replace('M',''))\n",
    "dob = temp_dob.apply(lambda x:x.replace('F',''))\n",
    "gender_list = df_temp['Date of Birth/Sex'].str.contains('M').tolist()"
   ]
  },
  {
   "cell_type": "markdown",
   "metadata": {},
   "source": [
    "#### Find indices of malformed dates"
   ]
  },
  {
   "cell_type": "code",
   "execution_count": 22,
   "metadata": {},
   "outputs": [],
   "source": [
    "def find_malformed_dates(series_dates):\n",
    "    \"\"\"\n",
    "    Returns a list of malformed dates from a date series\n",
    "    \n",
    "    Parameters\n",
    "    ----------\n",
    "    series_dates: pandas series, series of dates to check\n",
    "    \n",
    "    Returns\n",
    "    -------\n",
    "    indices_malformed_dates: list, empty if none found\n",
    "    \"\"\" \n",
    "    \n",
    "    indices_malformed_dates = []\n",
    "\n",
    "    for i in range(0,len(series_dates)):\n",
    "        try:\n",
    "            str(relativedelta(datetime.date.today(),dup.parse(series_dates[i]).date()).years)\n",
    "        except Exception:\n",
    "            indices_malformed_dates.append(i)\n",
    "            \n",
    "    return indices_malformed_dates"
   ]
  },
  {
   "cell_type": "code",
   "execution_count": 23,
   "metadata": {},
   "outputs": [
    {
     "data": {
      "text/plain": [
       "[274, 365, 410, 471, 512, 552, 593, 612, 666, 772]"
      ]
     },
     "execution_count": 23,
     "metadata": {},
     "output_type": "execute_result"
    }
   ],
   "source": [
    "find_malformed_dates(dob)"
   ]
  },
  {
   "cell_type": "code",
   "execution_count": 24,
   "metadata": {},
   "outputs": [],
   "source": [
    "temp_dob_1 = dob[:]"
   ]
  },
  {
   "cell_type": "code",
   "execution_count": 25,
   "metadata": {},
   "outputs": [
    {
     "name": "stdout",
     "output_type": "stream",
     "text": [
      "274 19/1967/\n",
      "365 22/28/1978/\n",
      "410 136/3/1991/\n",
      "471 15-011988 \n",
      "512 16/13/1991/\n",
      "552 25/13/1961/\n",
      "593 16/-6/1991/\n",
      "612 15/ 01/1991/\n",
      "666 20/106/1985/\n",
      "772 28/091989/\n"
     ]
    }
   ],
   "source": [
    "for index in find_malformed_dates(temp_dob_1):\n",
    "    print (index,temp_dob_1[index])"
   ]
  },
  {
   "cell_type": "markdown",
   "metadata": {},
   "source": [
    "#### Manual imputation of malformed dates"
   ]
  },
  {
   "cell_type": "code",
   "execution_count": 26,
   "metadata": {},
   "outputs": [],
   "source": [
    "temp_dob_1[274]='1/9/1967'\n",
    "temp_dob_1[365]='12/18/1978'\n",
    "temp_dob_1[410]='13/3/1991'\n",
    "temp_dob_1[471]='15/01/1998'\n",
    "temp_dob_1[512]='16/3/1991'\n",
    "temp_dob_1[552]='25/12/1961'\n",
    "temp_dob_1[593]='16/6/1991'\n",
    "temp_dob_1[612]='15/1/1991'\n",
    "temp_dob_1[666]='20/10/1985'\n",
    "temp_dob_1[772]='28/09/1989'"
   ]
  },
  {
   "cell_type": "code",
   "execution_count": 27,
   "metadata": {},
   "outputs": [],
   "source": [
    "list_age_sex = []\n",
    "\n",
    "for i in range(0,len(temp_dob_1)):\n",
    "\n",
    "    if gender_list[i]==True:\n",
    "        list_age_sex.append('Male'+':'+str(relativedelta(datetime.date.today(),dup.parse(dob[i]).date()).years))\n",
    "    else:\n",
    "        list_age_sex.append('Female'+':'+str(relativedelta(datetime.date.today(),dup.parse(dob[i]).date()).years))"
   ]
  },
  {
   "cell_type": "code",
   "execution_count": 28,
   "metadata": {},
   "outputs": [],
   "source": [
    "age_series = pd.DataFrame([x.split(\":\") for x in list_age_sex])[0]\n",
    "sex_series = pd.DataFrame([x.split(\":\") for x in list_age_sex])[1]"
   ]
  },
  {
   "cell_type": "markdown",
   "metadata": {},
   "source": [
    "### Registration Year"
   ]
  },
  {
   "cell_type": "code",
   "execution_count": 29,
   "metadata": {},
   "outputs": [
    {
     "data": {
      "text/plain": [
       "[]"
      ]
     },
     "execution_count": 29,
     "metadata": {},
     "output_type": "execute_result"
    }
   ],
   "source": [
    "find_malformed_dates(df_temp['Reg. Date'])"
   ]
  },
  {
   "cell_type": "code",
   "execution_count": 30,
   "metadata": {},
   "outputs": [],
   "source": [
    "registration_year_series = df_temp['Reg. Date'].apply(lambda x:dup.parse(x).date().year)"
   ]
  },
  {
   "cell_type": "markdown",
   "metadata": {},
   "source": [
    "### Qualification"
   ]
  },
  {
   "cell_type": "code",
   "execution_count": 31,
   "metadata": {},
   "outputs": [],
   "source": [
    "temp_qual_series = df_temp['Qualification / Additional Qualification/ College/University and Year thereof '].apply(lambda x:re.sub('['+string.punctuation+']', '', x).strip().splitlines())"
   ]
  },
  {
   "cell_type": "code",
   "execution_count": 32,
   "metadata": {},
   "outputs": [],
   "source": [
    "temp_qual_series_1 = temp_qual_series.apply(lambda x:' '.join((' '.join(x)).split()))"
   ]
  },
  {
   "cell_type": "code",
   "execution_count": 33,
   "metadata": {},
   "outputs": [],
   "source": [
    "temp_qual_df = pd.DataFrame(temp_qual_series_1.str.contains('MBBS'))"
   ]
  },
  {
   "cell_type": "code",
   "execution_count": 34,
   "metadata": {},
   "outputs": [
    {
     "name": "stdout",
     "output_type": "stream",
     "text": [
      "110 M B B S Sambalpur University 1983\n",
      "117 M B B S Sambalpur University 1980\n",
      "118 M B B S Sambalpur University 1987\n",
      "158 MBBB Gauhati University 1979 MSGeneral Surgery Manipur University 1991\n",
      "397 MBbs Regional Medical College Imphal Manipur University 1993 MD MicrobiologyMG Institute of Medical Sciences Maharastra of Health Sciences 2014\n",
      "783 MD Physician from Volgograd Medical Academy Russian Federation 2011\n"
     ]
    }
   ],
   "source": [
    "for i in range(0,len(temp_qual_df)):\n",
    "    if temp_qual_df['Qualification / Additional Qualification/ College/University and Year thereof '][i]==False:\n",
    "        print(i,temp_qual_series_1[i])   "
   ]
  },
  {
   "cell_type": "code",
   "execution_count": 35,
   "metadata": {},
   "outputs": [],
   "source": [
    "temp_qual_series_2 = temp_qual_series_1.apply(lambda x:x.replace('M B B S','MBBS').replace('MBbs','MBBS').replace('MBBB','MBBS'))"
   ]
  },
  {
   "cell_type": "code",
   "execution_count": 36,
   "metadata": {},
   "outputs": [
    {
     "data": {
      "text/plain": [
       "True     873\n",
       "False      1\n",
       "Name: Qualification / Additional Qualification/ College/University and Year thereof , dtype: int64"
      ]
     },
     "execution_count": 36,
     "metadata": {},
     "output_type": "execute_result"
    }
   ],
   "source": [
    "temp_qual_series_2.str.contains('MBBS').value_counts()"
   ]
  },
  {
   "cell_type": "markdown",
   "metadata": {},
   "source": [
    "#### temp_qual_series_2[783] has no basic qualification only additional viz. MD is provided"
   ]
  },
  {
   "cell_type": "code",
   "execution_count": 37,
   "metadata": {},
   "outputs": [
    {
     "data": {
      "text/plain": [
       "'MD Physician from Volgograd Medical Academy Russian Federation 2011'"
      ]
     },
     "execution_count": 37,
     "metadata": {},
     "output_type": "execute_result"
    }
   ],
   "source": [
    "temp_qual_series_2[783]"
   ]
  },
  {
   "cell_type": "markdown",
   "metadata": {},
   "source": [
    "### Considering no break in studies MBBS should be completed at the highest resolution by 2008"
   ]
  },
  {
   "cell_type": "code",
   "execution_count": 38,
   "metadata": {},
   "outputs": [],
   "source": [
    "temp_qual_series_3 = temp_qual_series_2[:]\n",
    "temp_qual_series_3[783] = 'MBBS 2008 '+temp_qual_series_2[783]"
   ]
  },
  {
   "cell_type": "code",
   "execution_count": 39,
   "metadata": {},
   "outputs": [
    {
     "data": {
      "text/plain": [
       "True    874\n",
       "Name: Qualification / Additional Qualification/ College/University and Year thereof , dtype: int64"
      ]
     },
     "execution_count": 39,
     "metadata": {},
     "output_type": "execute_result"
    }
   ],
   "source": [
    "temp_qual_series_3.str.contains('MBBS').value_counts()"
   ]
  },
  {
   "cell_type": "code",
   "execution_count": 40,
   "metadata": {},
   "outputs": [],
   "source": [
    "temp_qual_list = temp_qual_series_3.apply(lambda x:list(filter(None,re.split(r'[0-9{4}].*?',x))))"
   ]
  },
  {
   "cell_type": "code",
   "execution_count": 41,
   "metadata": {},
   "outputs": [],
   "source": [
    "list_basic_qualification = []\n",
    "list_additional_qualification = []\n",
    "\n",
    "for item in temp_qual_list:\n",
    "    if len(item)==1:\n",
    "        list_basic_qualification.append(item[0].strip())\n",
    "        list_additional_qualification.append('')\n",
    "    else:\n",
    "        list_basic_qualification.append(item[0].strip())\n",
    "        list_additional_qualification.append(item[1].strip())"
   ]
  },
  {
   "cell_type": "code",
   "execution_count": 42,
   "metadata": {},
   "outputs": [],
   "source": [
    "basic_qualification_series = pd.Series(list_basic_qualification)\n",
    "additional_qualification_series = pd.Series(list_additional_qualification)"
   ]
  },
  {
   "cell_type": "markdown",
   "metadata": {},
   "source": [
    "### Address"
   ]
  },
  {
   "cell_type": "markdown",
   "metadata": {},
   "source": [
    "#### Fetch India City and State Mapping from https://www.census2011.co.in/city.php"
   ]
  },
  {
   "cell_type": "code",
   "execution_count": 43,
   "metadata": {},
   "outputs": [],
   "source": [
    "dataframes_census_city_state = pd.read_html('https://www.census2011.co.in/city.php')\n",
    "dataframes_census_states = pd.read_html('https://www.census2011.co.in/states.php')"
   ]
  },
  {
   "cell_type": "code",
   "execution_count": 44,
   "metadata": {},
   "outputs": [
    {
     "name": "stdout",
     "output_type": "stream",
     "text": [
      "(498, 7)\n",
      "(5, 3)\n",
      "(6, 3)\n",
      "(5, 3)\n"
     ]
    }
   ],
   "source": [
    "for dataframe in dataframes_census_city_state:\n",
    "    print(dataframe.shape)"
   ]
  },
  {
   "cell_type": "code",
   "execution_count": 45,
   "metadata": {},
   "outputs": [
    {
     "name": "stdout",
     "output_type": "stream",
     "text": [
      "(36, 8)\n",
      "(5, 3)\n",
      "(5, 3)\n",
      "(5, 3)\n"
     ]
    }
   ],
   "source": [
    "for dataframe in dataframes_census_states:\n",
    "    print(dataframe.shape)"
   ]
  },
  {
   "cell_type": "code",
   "execution_count": 46,
   "metadata": {},
   "outputs": [],
   "source": [
    "dataframes_census_city_state[0][['City','State']].to_csv('../data/india_city_states.csv')\n",
    "dataframes_census_states[0]['State'][1:].to_csv('../data/india_states.csv')"
   ]
  },
  {
   "cell_type": "code",
   "execution_count": 47,
   "metadata": {},
   "outputs": [],
   "source": [
    "df_city_state_mapping = pd.read_csv('../data/india_city_states.csv')\n",
    "df_city_state_mapping.drop('Unnamed: 0',axis=1,inplace=True)"
   ]
  },
  {
   "cell_type": "code",
   "execution_count": 48,
   "metadata": {},
   "outputs": [],
   "source": [
    "df_states = pd.read_csv('../data/india_states.csv',header=None)\n",
    "df_states.drop(0,axis=1,inplace=True)\n",
    "df_states.columns = ['State']"
   ]
  },
  {
   "cell_type": "code",
   "execution_count": 49,
   "metadata": {},
   "outputs": [],
   "source": [
    "temp_address = df_temp['Address'].apply(lambda x:re.sub('['+string.punctuation+']', '', x).strip().splitlines())\n",
    "temp_address_1 = temp_address.apply(lambda x:' '.join((' '.join(x)).split()))"
   ]
  },
  {
   "cell_type": "code",
   "execution_count": 50,
   "metadata": {},
   "outputs": [],
   "source": [
    "list_temp_address = [x.lower() for x in temp_address_1]\n",
    "list_temp_cities = [x.lower() for x in df_city_state_mapping.City]\n",
    "list_temp_states = [x.lower() for x in df_city_state_mapping.State]\n",
    "list_temp_states_1 = [x.lower() for x in df_states.State]"
   ]
  },
  {
   "cell_type": "code",
   "execution_count": 51,
   "metadata": {},
   "outputs": [],
   "source": [
    "city_state_dict = dict(zip(list_temp_cities,list_temp_states))\n",
    "state_list = set(list_temp_states_1)"
   ]
  },
  {
   "cell_type": "code",
   "execution_count": 52,
   "metadata": {},
   "outputs": [
    {
     "data": {
      "text/plain": [
       "497"
      ]
     },
     "execution_count": 52,
     "metadata": {},
     "output_type": "execute_result"
    }
   ],
   "source": [
    "len(set(df_city_state_mapping.City))"
   ]
  },
  {
   "cell_type": "code",
   "execution_count": 53,
   "metadata": {},
   "outputs": [
    {
     "data": {
      "text/html": [
       "<div>\n",
       "<style scoped>\n",
       "    .dataframe tbody tr th:only-of-type {\n",
       "        vertical-align: middle;\n",
       "    }\n",
       "\n",
       "    .dataframe tbody tr th {\n",
       "        vertical-align: top;\n",
       "    }\n",
       "\n",
       "    .dataframe thead th {\n",
       "        text-align: right;\n",
       "    }\n",
       "</style>\n",
       "<table border=\"1\" class=\"dataframe\">\n",
       "  <thead>\n",
       "    <tr style=\"text-align: right;\">\n",
       "      <th></th>\n",
       "      <th>City</th>\n",
       "      <th>State</th>\n",
       "    </tr>\n",
       "  </thead>\n",
       "  <tbody>\n",
       "    <tr>\n",
       "      <th>31</th>\n",
       "      <td>Aurangabad</td>\n",
       "      <td>Maharashtra</td>\n",
       "    </tr>\n",
       "    <tr>\n",
       "      <th>485</th>\n",
       "      <td>Aurangabad</td>\n",
       "      <td>Bihar</td>\n",
       "    </tr>\n",
       "  </tbody>\n",
       "</table>\n",
       "</div>"
      ],
      "text/plain": [
       "           City        State\n",
       "31   Aurangabad  Maharashtra\n",
       "485  Aurangabad        Bihar"
      ]
     },
     "execution_count": 53,
     "metadata": {},
     "output_type": "execute_result"
    }
   ],
   "source": [
    "df_city_state_mapping[df_city_state_mapping.City.str.contains('Aurangabad')]"
   ]
  },
  {
   "cell_type": "code",
   "execution_count": 54,
   "metadata": {},
   "outputs": [],
   "source": [
    "address_list = []\n",
    "indices = []\n",
    "\n",
    "for i in range(0,len(list_temp_address)):\n",
    "    \n",
    "    foundinstatelist=0\n",
    "    \n",
    "    for state in state_list:\n",
    "        if state in list_temp_address[i]:\n",
    "            address_list.append(state)\n",
    "            indices.append(i)\n",
    "            foundinstatelist=1\n",
    "            break\n",
    "        \n",
    "    #print(foundinstatelist,list_temp_address[i])\n",
    "    \n",
    "    if foundinstatelist==0:  \n",
    "        for city in city_state_dict.keys():\n",
    "            if city in list_temp_address[i]:\n",
    "                address_list.append(city_state_dict[city])\n",
    "                indices.append(i)\n",
    "                break"
   ]
  },
  {
   "cell_type": "code",
   "execution_count": 55,
   "metadata": {},
   "outputs": [
    {
     "data": {
      "text/plain": [
       "815"
      ]
     },
     "execution_count": 55,
     "metadata": {},
     "output_type": "execute_result"
    }
   ],
   "source": [
    "len(address_list)"
   ]
  },
  {
   "cell_type": "code",
   "execution_count": 56,
   "metadata": {},
   "outputs": [
    {
     "data": {
      "text/plain": [
       "874"
      ]
     },
     "execution_count": 56,
     "metadata": {},
     "output_type": "execute_result"
    }
   ],
   "source": [
    "len(list_temp_address)"
   ]
  },
  {
   "cell_type": "code",
   "execution_count": 57,
   "metadata": {},
   "outputs": [],
   "source": [
    "temp_missing_addresses_indices = set(range(min(indices), max(indices)+1))\n",
    "missing_address_indices = (list(set(indices).symmetric_difference(temp_missing_addresses_indices)))"
   ]
  },
  {
   "cell_type": "code",
   "execution_count": 58,
   "metadata": {},
   "outputs": [
    {
     "data": {
      "text/plain": [
       "815"
      ]
     },
     "execution_count": 58,
     "metadata": {},
     "output_type": "execute_result"
    }
   ],
   "source": [
    "len(indices)"
   ]
  },
  {
   "cell_type": "code",
   "execution_count": 59,
   "metadata": {},
   "outputs": [
    {
     "data": {
      "text/plain": [
       "59"
      ]
     },
     "execution_count": 59,
     "metadata": {},
     "output_type": "execute_result"
    }
   ],
   "source": [
    "len(missing_address_indices)"
   ]
  },
  {
   "cell_type": "code",
   "execution_count": 60,
   "metadata": {},
   "outputs": [
    {
     "name": "stdout",
     "output_type": "stream",
     "text": [
      "abhoy nagar near hindi hs school poabhoy nagar\n",
      "co basanti debbarma pokathalbagaban malanc haniba\n",
      "villhardia pohardia distsitamarhi\n",
      "vill nayanpur by lane no2 house no1ganeshguri\n",
      "vill podharma pur dist north 24 pgs\n",
      "villujan abhoynagarpo abhoynagar\n",
      "vill sonatan thakur parap o takarjala dist sepahijala\n",
      "villbhandari bari west champa hour pochampa hourkhowai\n",
      "villmadhyapara porkpurdist gomati\n",
      "vill – khwai brahmapur nagamapal ipphol west 795001\n",
      "villnoagaon near kamalpur sub jailpo kamalpurdisttdholai\n",
      "sky lake club krishnagaragatala\n",
      "dharia thalramnagardist sepahijala\n",
      "town rajabag r k pur dist gomati udaypur\n",
      "588 1st cross t r colonoy prima nagar wata tank bangalor\n",
      "vill bhanu para subdivision karbook po goumati projectdist goumati\n",
      "vill kallumala po mavelikara dist alleppey\n",
      "north badharghat near milon sanghapoadnagaragt\n",
      "vill routhkhala po bishalgarh dist sepahijala\n",
      "vill thakurmura sonamura po sonamura dist sepahijala\n",
      "tc 261682 leel cottage unnis lane po uppalam road dist trivandrum 695001\n",
      "villhatigaon po dispur dist kamrup\n",
      "nripendra ch avenukhowaidist khowai\n",
      "chandarmma po battalaps sonamuradist sepahijala\n",
      "ntu villageperen\n",
      "kambawest siang\n",
      "lebridumporijoap\n",
      "vill kandigram po manik bhander ps kamalpur\n",
      "po radhakrishnapur vill udaypur dist gomati\n",
      "khim u sriong vill jowai town dist west jaintia hills pin 793150\n",
      "kala ppurakkal gloria puthukkudi road po manjeri 676121 dist malappuram\n",
      "vill punya ps falta po sahararghat dist south 24 parganas pin 743504\n",
      "house no 243 kamala nagar ii vill chawngte po chawngte dist lawngtear 796772\n",
      "vill gabindapur old motorstand po kailashahar dist unakoti\n",
      "vill dudhpuskarini po jamjuri dist gomoti\n",
      "co life medical dakshinchuburi po sipajhar dist darrang\n",
      "palace compound akash lane agartal\n",
      "mohanpur naba shanti garja basan siphahijala\n",
      "vill madhya singichera po singhichera dist khowau\n",
      "villmaracheradist dholai\n",
      "vill lankapura po chankhola dist khowai\n",
      "lankapara po chhankhaladist khowai\n",
      "heigang pantholbilampakpo mantri pukurdist impahal east\n",
      "gouranga tillapoteliamura dist khowai\n",
      "mendi hour kamalpur dist dholai\n",
      "dhankali dist nagour rajesthan\n",
      "nepaltilla chailengta dist dholai\n",
      "laxmi narayan pur po gouranga\n",
      "main road near rajrappa more po chitarpur dist ramgarh\n",
      "noagaon kamalpurdholai\n",
      "north excharinutan bazar karbookjatanbarigomati\n",
      "villcharganki khowai\n",
      "e5 iii rabindra pally govt qtr complex paradise communition agartal\n",
      "35 ghandi nagar barailly\n",
      "79 tilla housing complex room no a3012nd floor po kunjaban pin 799001\n",
      "vill po noagaon ps kamalpur dist dhalai\n",
      "capital complex typeii g block qtr no 4 po kunjaban\n",
      "vill kalung p o ziro dist lawer subansiri\n",
      "sarath palli road east shibnagar college tilla post office\n"
     ]
    }
   ],
   "source": [
    "for index in missing_address_indices:\n",
    "    print(list_temp_address[index])"
   ]
  },
  {
   "cell_type": "code",
   "execution_count": 61,
   "metadata": {},
   "outputs": [
    {
     "data": {
      "text/plain": [
       "tripura              705\n",
       "west bengal           25\n",
       "manipur               19\n",
       "assam                 14\n",
       "uttar pradesh          7\n",
       "haryana                6\n",
       "kerala                 5\n",
       "nagaland               5\n",
       "rajasthan              5\n",
       "madhya pradesh         4\n",
       "delhi                  3\n",
       "tamil nadu             3\n",
       "mizoram                2\n",
       "meghalaya              2\n",
       "arunachal pradesh      2\n",
       "andhra pradesh         2\n",
       "jharkhand              1\n",
       "chandigarh             1\n",
       "orissa                 1\n",
       "bihar                  1\n",
       "gujarat                1\n",
       "chhattisgarh           1\n",
       "dtype: int64"
      ]
     },
     "execution_count": 61,
     "metadata": {},
     "output_type": "execute_result"
    }
   ],
   "source": [
    "pd.Series(address_list).value_counts()"
   ]
  },
  {
   "cell_type": "markdown",
   "metadata": {},
   "source": [
    "### Build dataframe for analysis"
   ]
  },
  {
   "cell_type": "code",
   "execution_count": 62,
   "metadata": {},
   "outputs": [],
   "source": [
    "temp_data_doc = {'Reg. Year':registration_year_series,'Sex':age_series,'Age':sex_series,'Basic Qualification':basic_qualification_series,'Additional Qualification':additional_qualification_series}\n",
    "df_temp_data_doc = pd.DataFrame(data=temp_data_doc)"
   ]
  },
  {
   "cell_type": "code",
   "execution_count": 63,
   "metadata": {},
   "outputs": [
    {
     "data": {
      "text/html": [
       "<div>\n",
       "<style scoped>\n",
       "    .dataframe tbody tr th:only-of-type {\n",
       "        vertical-align: middle;\n",
       "    }\n",
       "\n",
       "    .dataframe tbody tr th {\n",
       "        vertical-align: top;\n",
       "    }\n",
       "\n",
       "    .dataframe thead th {\n",
       "        text-align: right;\n",
       "    }\n",
       "</style>\n",
       "<table border=\"1\" class=\"dataframe\">\n",
       "  <thead>\n",
       "    <tr style=\"text-align: right;\">\n",
       "      <th></th>\n",
       "      <th>Reg. Year</th>\n",
       "      <th>Sex</th>\n",
       "      <th>Age</th>\n",
       "      <th>Basic Qualification</th>\n",
       "      <th>Additional Qualification</th>\n",
       "    </tr>\n",
       "  </thead>\n",
       "  <tbody>\n",
       "    <tr>\n",
       "      <th>0</th>\n",
       "      <td>2012</td>\n",
       "      <td>Male</td>\n",
       "      <td>65</td>\n",
       "      <td>MBBS Armed Forces Medical College</td>\n",
       "      <td>MD OBST GYNAE Poona University</td>\n",
       "    </tr>\n",
       "    <tr>\n",
       "      <th>1</th>\n",
       "      <td>2012</td>\n",
       "      <td>Male</td>\n",
       "      <td>31</td>\n",
       "      <td>MBBS Agartala Government Medical College Tripu...</td>\n",
       "      <td></td>\n",
       "    </tr>\n",
       "    <tr>\n",
       "      <th>2</th>\n",
       "      <td>2012</td>\n",
       "      <td>Female</td>\n",
       "      <td>30</td>\n",
       "      <td>MBBS Agartala Government Medical College Tripu...</td>\n",
       "      <td></td>\n",
       "    </tr>\n",
       "    <tr>\n",
       "      <th>3</th>\n",
       "      <td>2012</td>\n",
       "      <td>Female</td>\n",
       "      <td>30</td>\n",
       "      <td>MBBS Agartala Government Medical College Tripu...</td>\n",
       "      <td></td>\n",
       "    </tr>\n",
       "    <tr>\n",
       "      <th>4</th>\n",
       "      <td>2012</td>\n",
       "      <td>Female</td>\n",
       "      <td>31</td>\n",
       "      <td>MBBS Agartala Government Medical College Tripu...</td>\n",
       "      <td></td>\n",
       "    </tr>\n",
       "  </tbody>\n",
       "</table>\n",
       "</div>"
      ],
      "text/plain": [
       "   Reg. Year     Sex Age                                Basic Qualification  \\\n",
       "0       2012    Male  65                  MBBS Armed Forces Medical College   \n",
       "1       2012    Male  31  MBBS Agartala Government Medical College Tripu...   \n",
       "2       2012  Female  30  MBBS Agartala Government Medical College Tripu...   \n",
       "3       2012  Female  30  MBBS Agartala Government Medical College Tripu...   \n",
       "4       2012  Female  31  MBBS Agartala Government Medical College Tripu...   \n",
       "\n",
       "         Additional Qualification  \n",
       "0  MD OBST GYNAE Poona University  \n",
       "1                                  \n",
       "2                                  \n",
       "3                                  \n",
       "4                                  "
      ]
     },
     "execution_count": 63,
     "metadata": {},
     "output_type": "execute_result"
    }
   ],
   "source": [
    "df_temp_data_doc.head()"
   ]
  },
  {
   "cell_type": "markdown",
   "metadata": {},
   "source": [
    "#### Dropping malformed addresses"
   ]
  },
  {
   "cell_type": "code",
   "execution_count": 64,
   "metadata": {},
   "outputs": [],
   "source": [
    "df_data_doc = df_temp_data_doc.drop(missing_address_indices)"
   ]
  },
  {
   "cell_type": "code",
   "execution_count": 65,
   "metadata": {},
   "outputs": [],
   "source": [
    "df_data_doc['State']=address_list"
   ]
  },
  {
   "cell_type": "code",
   "execution_count": 66,
   "metadata": {},
   "outputs": [],
   "source": [
    "df_data_doc.to_csv('../data/doc_list_cleaned.csv')"
   ]
  },
  {
   "cell_type": "code",
   "execution_count": 67,
   "metadata": {},
   "outputs": [],
   "source": [
    "df_doc = pd.read_csv('../data/doc_list_cleaned.csv')\n",
    "df_doc.drop('Unnamed: 0',axis=1,inplace=True)"
   ]
  },
  {
   "cell_type": "code",
   "execution_count": 68,
   "metadata": {},
   "outputs": [
    {
     "data": {
      "text/plain": [
       "(815, 6)"
      ]
     },
     "execution_count": 68,
     "metadata": {},
     "output_type": "execute_result"
    }
   ],
   "source": [
    "df_doc.shape"
   ]
  },
  {
   "cell_type": "code",
   "execution_count": 69,
   "metadata": {},
   "outputs": [
    {
     "data": {
      "text/plain": [
       "22"
      ]
     },
     "execution_count": 69,
     "metadata": {},
     "output_type": "execute_result"
    }
   ],
   "source": [
    "len(set(list(df_doc.State.value_counts().keys())))"
   ]
  },
  {
   "cell_type": "code",
   "execution_count": 70,
   "metadata": {},
   "outputs": [
    {
     "data": {
      "text/plain": [
       "tripura              705\n",
       "west bengal           25\n",
       "manipur               19\n",
       "assam                 14\n",
       "uttar pradesh          7\n",
       "haryana                6\n",
       "kerala                 5\n",
       "nagaland               5\n",
       "rajasthan              5\n",
       "madhya pradesh         4\n",
       "delhi                  3\n",
       "tamil nadu             3\n",
       "mizoram                2\n",
       "meghalaya              2\n",
       "arunachal pradesh      2\n",
       "andhra pradesh         2\n",
       "jharkhand              1\n",
       "chandigarh             1\n",
       "orissa                 1\n",
       "bihar                  1\n",
       "gujarat                1\n",
       "chhattisgarh           1\n",
       "Name: State, dtype: int64"
      ]
     },
     "execution_count": 70,
     "metadata": {},
     "output_type": "execute_result"
    }
   ],
   "source": [
    "df_doc.State.value_counts()"
   ]
  },
  {
   "cell_type": "code",
   "execution_count": 71,
   "metadata": {},
   "outputs": [
    {
     "data": {
      "text/plain": [
       "2014    380\n",
       "2015    185\n",
       "2012    159\n",
       "2013     85\n",
       "201       3\n",
       "2016      2\n",
       "1990      1\n",
       "Name: Reg. Year, dtype: int64"
      ]
     },
     "execution_count": 71,
     "metadata": {},
     "output_type": "execute_result"
    }
   ],
   "source": [
    "df_doc['Reg. Year'].value_counts()"
   ]
  },
  {
   "cell_type": "code",
   "execution_count": 72,
   "metadata": {},
   "outputs": [
    {
     "data": {
      "text/plain": [
       "array([[560],\n",
       "       [561],\n",
       "       [563]], dtype=int64)"
      ]
     },
     "execution_count": 72,
     "metadata": {},
     "output_type": "execute_result"
    }
   ],
   "source": [
    "np.argwhere(df_doc['Reg. Year']==201)"
   ]
  },
  {
   "cell_type": "code",
   "execution_count": 73,
   "metadata": {},
   "outputs": [
    {
     "data": {
      "text/plain": [
       "Reg. Year                                                                 201\n",
       "Sex                                                                      Male\n",
       "Age                                                                        27\n",
       "Basic Qualification         MBBS Tripura Medical College Dr BRAM Traching ...\n",
       "Additional Qualification                                                  NaN\n",
       "State                                                                 tripura\n",
       "Name: 563, dtype: object"
      ]
     },
     "execution_count": 73,
     "metadata": {},
     "output_type": "execute_result"
    }
   ],
   "source": [
    "df_doc.iloc[563]"
   ]
  },
  {
   "cell_type": "markdown",
   "metadata": {},
   "source": [
    "### Further Cleansing"
   ]
  },
  {
   "cell_type": "code",
   "execution_count": 74,
   "metadata": {},
   "outputs": [
    {
     "data": {
      "text/html": [
       "<div>\n",
       "<style scoped>\n",
       "    .dataframe tbody tr th:only-of-type {\n",
       "        vertical-align: middle;\n",
       "    }\n",
       "\n",
       "    .dataframe tbody tr th {\n",
       "        vertical-align: top;\n",
       "    }\n",
       "\n",
       "    .dataframe thead th {\n",
       "        text-align: right;\n",
       "    }\n",
       "</style>\n",
       "<table border=\"1\" class=\"dataframe\">\n",
       "  <thead>\n",
       "    <tr style=\"text-align: right;\">\n",
       "      <th></th>\n",
       "      <th>Reg. Year</th>\n",
       "      <th>Sex</th>\n",
       "      <th>Age</th>\n",
       "      <th>Basic Qualification</th>\n",
       "      <th>Additional Qualification</th>\n",
       "      <th>State</th>\n",
       "    </tr>\n",
       "  </thead>\n",
       "  <tbody>\n",
       "    <tr>\n",
       "      <th>560</th>\n",
       "      <td>201</td>\n",
       "      <td>Male</td>\n",
       "      <td>27</td>\n",
       "      <td>MBBS Agartala Government Medical College Tripu...</td>\n",
       "      <td>NaN</td>\n",
       "      <td>tripura</td>\n",
       "    </tr>\n",
       "    <tr>\n",
       "      <th>561</th>\n",
       "      <td>201</td>\n",
       "      <td>Male</td>\n",
       "      <td>27</td>\n",
       "      <td>MBBS Agartala Government Medical College Tripu...</td>\n",
       "      <td>NaN</td>\n",
       "      <td>tripura</td>\n",
       "    </tr>\n",
       "    <tr>\n",
       "      <th>563</th>\n",
       "      <td>201</td>\n",
       "      <td>Male</td>\n",
       "      <td>27</td>\n",
       "      <td>MBBS Tripura Medical College Dr BRAM Traching ...</td>\n",
       "      <td>NaN</td>\n",
       "      <td>tripura</td>\n",
       "    </tr>\n",
       "  </tbody>\n",
       "</table>\n",
       "</div>"
      ],
      "text/plain": [
       "     Reg. Year   Sex  Age                                Basic Qualification  \\\n",
       "560        201  Male   27  MBBS Agartala Government Medical College Tripu...   \n",
       "561        201  Male   27  MBBS Agartala Government Medical College Tripu...   \n",
       "563        201  Male   27  MBBS Tripura Medical College Dr BRAM Traching ...   \n",
       "\n",
       "    Additional Qualification    State  \n",
       "560                      NaN  tripura  \n",
       "561                      NaN  tripura  \n",
       "563                      NaN  tripura  "
      ]
     },
     "execution_count": 74,
     "metadata": {},
     "output_type": "execute_result"
    }
   ],
   "source": [
    "df_doc[df_doc['Reg. Year'] == 201]"
   ]
  },
  {
   "cell_type": "code",
   "execution_count": 75,
   "metadata": {},
   "outputs": [],
   "source": [
    "df_doc.at[560, 'Reg. Year'] = 2014\n",
    "df_doc.at[561, 'Reg. Year'] = 2014\n",
    "df_doc.at[563, 'Reg. Year'] = 2014"
   ]
  },
  {
   "cell_type": "code",
   "execution_count": 76,
   "metadata": {},
   "outputs": [
    {
     "data": {
      "text/plain": [
       "2014    383\n",
       "2015    185\n",
       "2012    159\n",
       "2013     85\n",
       "2016      2\n",
       "1990      1\n",
       "Name: Reg. Year, dtype: int64"
      ]
     },
     "execution_count": 76,
     "metadata": {},
     "output_type": "execute_result"
    }
   ],
   "source": [
    "df_doc['Reg. Year'].value_counts()"
   ]
  },
  {
   "cell_type": "code",
   "execution_count": 77,
   "metadata": {},
   "outputs": [
    {
     "data": {
      "text/plain": [
       "array([[558]], dtype=int64)"
      ]
     },
     "execution_count": 77,
     "metadata": {},
     "output_type": "execute_result"
    }
   ],
   "source": [
    "np.argwhere(df_doc['Reg. Year']==1990)"
   ]
  },
  {
   "cell_type": "code",
   "execution_count": 78,
   "metadata": {},
   "outputs": [
    {
     "data": {
      "text/plain": [
       "2012    55\n",
       "2014    17\n",
       "2013    12\n",
       "2015     5\n",
       "1990     1\n",
       "Name: Reg. Year, dtype: int64"
      ]
     },
     "execution_count": 78,
     "metadata": {},
     "output_type": "execute_result"
    }
   ],
   "source": [
    "df_doc[df_doc['Age']==31]['Reg. Year'].value_counts()"
   ]
  },
  {
   "cell_type": "code",
   "execution_count": 79,
   "metadata": {},
   "outputs": [],
   "source": [
    "df_doc.at[558, 'Reg. Year'] = 2012"
   ]
  },
  {
   "cell_type": "code",
   "execution_count": 80,
   "metadata": {},
   "outputs": [
    {
     "data": {
      "text/plain": [
       "array([[181],\n",
       "       [756]], dtype=int64)"
      ]
     },
     "execution_count": 80,
     "metadata": {},
     "output_type": "execute_result"
    }
   ],
   "source": [
    "np.argwhere(df_doc['Age']>100)"
   ]
  },
  {
   "cell_type": "code",
   "execution_count": 81,
   "metadata": {},
   "outputs": [
    {
     "data": {
      "text/plain": [
       "array([[588]], dtype=int64)"
      ]
     },
     "execution_count": 81,
     "metadata": {},
     "output_type": "execute_result"
    }
   ],
   "source": [
    "np.argwhere(df_doc['Age']<10)"
   ]
  },
  {
   "cell_type": "code",
   "execution_count": 82,
   "metadata": {},
   "outputs": [],
   "source": [
    "df_doc.at[756,'Age']=26"
   ]
  },
  {
   "cell_type": "code",
   "execution_count": 83,
   "metadata": {},
   "outputs": [
    {
     "data": {
      "text/plain": [
       "26"
      ]
     },
     "execution_count": 83,
     "metadata": {},
     "output_type": "execute_result"
    }
   ],
   "source": [
    "df_doc.at[756, 'Age']"
   ]
  },
  {
   "cell_type": "code",
   "execution_count": 84,
   "metadata": {},
   "outputs": [],
   "source": [
    "df_doc.at[756, 'Age']='29'"
   ]
  },
  {
   "cell_type": "code",
   "execution_count": 85,
   "metadata": {},
   "outputs": [
    {
     "data": {
      "text/plain": [
       "1819"
      ]
     },
     "execution_count": 85,
     "metadata": {},
     "output_type": "execute_result"
    }
   ],
   "source": [
    "df_doc.at[181, 'Age']"
   ]
  },
  {
   "cell_type": "code",
   "execution_count": 86,
   "metadata": {},
   "outputs": [],
   "source": [
    "df_doc.at[181,'Age']=24"
   ]
  },
  {
   "cell_type": "code",
   "execution_count": 87,
   "metadata": {},
   "outputs": [],
   "source": [
    "df_doc.at[588,'Age']=26"
   ]
  },
  {
   "cell_type": "markdown",
   "metadata": {},
   "source": [
    "### Specialization Cleansing"
   ]
  },
  {
   "cell_type": "code",
   "execution_count": 88,
   "metadata": {},
   "outputs": [
    {
     "data": {
      "text/plain": [
       "['MD Anatomy Manipur University',\n",
       " 'MD Anaesthesiology Tripura University',\n",
       " 'MDAnatomy Manipur University',\n",
       " 'DOG Under Calcutta University',\n",
       " 'MD General MedicineManipur University',\n",
       " 'MD Paed Manipur University',\n",
       " 'DMCW University of Calcutta',\n",
       " 'MS General Surgery Manipur University',\n",
       " 'MD Psychiatry Manipur University',\n",
       " 'DMCW Calcutta University',\n",
       " 'MSObstetrics Gynaecology Manipur University',\n",
       " 'MD Psychiatry Tripura University',\n",
       " 'MDAnaes Tripura University',\n",
       " 'Diploma in Sport Medicine Under Panijala University',\n",
       " 'MSophthalmologyUniversity of Luknow',\n",
       " 'MDGeneral Medicine Banaras Hindu University',\n",
       " 'DGO Calcutta University',\n",
       " 'MSOrthopaedic Manipur University',\n",
       " 'MD Dermatology Venereology AIIMS New Delhi',\n",
       " 'MDENTTripura University',\n",
       " 'MS ENT Tripura University',\n",
       " 'MDPathology Nagpur University',\n",
       " 'MS Gen Sur Under Calcutta University',\n",
       " 'MS ENT University of Allhabad',\n",
       " 'Diploma in Ophthalmology Gauhati University',\n",
       " 'University',\n",
       " 'MD Paed Tripura University',\n",
       " 'PGDDRM National Institute for the Orthopaedically Handicapped',\n",
       " 'DNB OG National Board of Examination',\n",
       " 'MD Community Medicine Tripura University',\n",
       " 'MSObst Gyane Tripura University',\n",
       " 'PG Diploma in Anaesthesiology Manipur University',\n",
       " 'Diploma in Ophthalmic Medicine Surgery from Chhatrapati Shahuji Maharaj University Kanpur',\n",
       " 'MDFMT AIIMS New Delhi',\n",
       " 'M S General Surgery Manipur University',\n",
       " 'MD Community MedicineManipur University',\n",
       " 'MS Ophthalmology Dibrugarh University',\n",
       " 'DLO Saurashtra University',\n",
       " 'PGD In Diabetilogy',\n",
       " 'MBBS Regional Institute of Medical Sciences Imphal Manipur University',\n",
       " 'MD Laboratory MedicineAIIMS New Delhi',\n",
       " 'MDGenMedicine Manipur University',\n",
       " 'MSGeneral Surgery Calcutta University',\n",
       " 'DGO Calcitta University',\n",
       " 'MD Paed Ranchi University',\n",
       " 'MDPaediatrics Manipur University',\n",
       " 'MD Radiothrapy AIIMSNew Delhi',\n",
       " 'MD Community MedicineTripura University',\n",
       " 'MD Paediatrics PIGMER Chandigarh',\n",
       " 'MD Manipur University',\n",
       " 'Diploma in Sports Medicine Punjabi University',\n",
       " 'MSObstetrics Gynaecology',\n",
       " 'MD RIMS Manipur University',\n",
       " 'MS University of Delhi',\n",
       " 'MD PsychiatrySS University of Health Sciences',\n",
       " 'Diploma in Anaesthesiology Manipur University',\n",
       " 'MS Obsts Gynae Srimanta Sankardeva University of Health Sciences',\n",
       " 'DGO Rani Durgavati Vishwavidyalaya Jabalpur',\n",
       " 'DGOThe College of Physicians and Surgeons of Bombay',\n",
       " 'MDGenMedicines West Bengal University of Health Sciences',\n",
       " 'MSOphthalmologyManipur University',\n",
       " 'MDForensic Medicine Nagpur University',\n",
       " 'MDPharmacology Manipur University',\n",
       " 'DPM in Ranchi Unuversity',\n",
       " 'MS Orthopaedics Calcutta University',\n",
       " 'MS General SurgeryThe Tamil Nadu Dr MGR Medical University',\n",
       " 'MD JN Medical Collage Under Karnataka University',\n",
       " 'MS General Surgery Dibrugarh University',\n",
       " 'MS General Medicine Manipur University',\n",
       " 'Dip Child HealthU Rajiv Gandhi H Sciences',\n",
       " 'MD MicrobiologyMG Institute of Medical Sciences Maharastra of Health Sciences',\n",
       " 'MSManipur University',\n",
       " 'MS Surgery Tripura University',\n",
       " 'MSENT AIIMS New Delhi',\n",
       " 'MD MedicineNagpur University',\n",
       " 'DCPManipur University',\n",
       " 'MD Phychiatry Dibrugarh University May',\n",
       " 'MD Pshy NIMHANS Bangalor Bangalore University',\n",
       " 'MDBioChemistryManipur University',\n",
       " 'MD Paediatrics The All In dia Institute of Medical Science',\n",
       " 'MD Paediatrics Manipur University',\n",
       " 'MD Community Medicine Dibrugarh University',\n",
       " 'DPM In Psychiatry Maharashtra University of Health Sciences Nashik',\n",
       " 'DLO ENT Gauhati University',\n",
       " 'DCH U Delhi',\n",
       " 'MD OBST GYNAE Poona University',\n",
       " 'MD Forensic Medicine Manipur University',\n",
       " 'MDObstetrics and Gynaecology Manipal University',\n",
       " 'MD Paed SMSMC Jaipur Uner Rajesthan University of Health Science',\n",
       " 'DMCW Under Calcutta University',\n",
       " 'MS General Surgery Dr NTR University of Health Sciences',\n",
       " 'MD Paediatrics Kanpur University',\n",
       " 'Diploma in Publice Health University of Calcutta',\n",
       " 'MSOrtho U Calcutta',\n",
       " 'MDPaediatrics Rajasthan University',\n",
       " 'Diploma in OphthalmologyMG Institute of Medical Sciences Sevagram',\n",
       " 'MD Pharmacology RIMS Manipur University',\n",
       " 'MDAnaesthesiology Regional Institute of Medical Sciences Imphal Manipur University',\n",
       " 'Diploma in Maternity and Child Welfare university of Calcutta',\n",
       " 'DLO Calcutta University',\n",
       " 'MSGeneral Surgery Manipur University',\n",
       " 'PG Diploma Anaesthesiology ManipurUniversity',\n",
       " 'MD Pathology Manipal University',\n",
       " 'Post Graduate Diploma in Orthopaedics Nagpur University',\n",
       " 'MD Medicine University of Maharshi Dayanand',\n",
       " 'MDENT Manipur University',\n",
       " 'DPMPsychiatryAssam University',\n",
       " 'MS OrthopaedicsManipur University',\n",
       " 'MDGenMedicinesAPS University',\n",
       " 'MSOto Rhino Laryngology Maharashtra University of Health Sciences Nashik',\n",
       " 'MDMicrobiology University of Nagpur',\n",
       " 'MD Manipur Universisty',\n",
       " 'MSGen Surgery Regional Institute of Medical Sciences Imphal Manipur University',\n",
       " 'DGO Obs Gynae Venkateswara University',\n",
       " 'MDPhysiologyManipur University',\n",
       " 'DPH Calcutta University',\n",
       " 'MD BioChem Manipur University',\n",
       " 'MSOtorhinolaryngology Manipur University',\n",
       " 'MD Calcutta University',\n",
       " 'MS Ophthalmology Patna University',\n",
       " 'DPH University of Calcutta',\n",
       " 'MDDermatology Venereology Leprosy Manipur University',\n",
       " 'MD Radio Diagnosis Tripura University',\n",
       " 'DARegional Institute of Medical Sciences Imphal Manipur University',\n",
       " 'MDPathology Bhopal University',\n",
       " 'MD General Medicine Manipur University',\n",
       " 'MD Radio diagTripura University',\n",
       " 'MD Obstetrics Gynaecology Manipur University',\n",
       " 'MD Pathology DY Patil University',\n",
       " 'MS General SurgeryUniversity of Calcutta',\n",
       " 'MSAnatomy Dib University',\n",
       " 'DCP Under Calcutta University',\n",
       " 'DCP Manipur University',\n",
       " 'MD Physician from Volgograd Medical Academy Russian Federation',\n",
       " 'DRM University of Bombay',\n",
       " 'MD Community Medicine Manupur University',\n",
       " 'D Ortho Under Calcutta University',\n",
       " 'Diploma in Medical Radiology Therapeutic Calcutta University',\n",
       " 'MDPhysiologyDeemed University',\n",
       " 'MSOpthalmology Manipur University',\n",
       " 'MSGenral Surgery Manipur University',\n",
       " 'DC P Tropical Medicine Calcutta',\n",
       " 'MD Microbiolory Tripura University',\n",
       " 'MD RIMS Imphal Under Manipur University',\n",
       " 'MDobst Gynae Calcutta University',\n",
       " 'DO OpthalmologyGauhati University',\n",
       " 'MSOtorhinolaryngologyManipur University',\n",
       " 'MSOrtho Tripura University',\n",
       " 'MD Anatomy Rajib Gandhi Universityof Health Sciences']"
      ]
     },
     "execution_count": 88,
     "metadata": {},
     "output_type": "execute_result"
    }
   ],
   "source": [
    "(list(df_doc['Additional Qualification'].value_counts().keys()))"
   ]
  },
  {
   "cell_type": "code",
   "execution_count": 89,
   "metadata": {},
   "outputs": [],
   "source": [
    "list_specialization = [np.NaN]*len(df_doc)"
   ]
  },
  {
   "cell_type": "code",
   "execution_count": 90,
   "metadata": {},
   "outputs": [],
   "source": [
    "specialization_indices = (df_doc[df_doc['Additional Qualification'].isin(list(df_doc['Additional Qualification'].value_counts().keys()))==True]).index\n",
    "for index in specialization_indices:\n",
    "    list_specialization[index]='Other'"
   ]
  },
  {
   "cell_type": "markdown",
   "metadata": {},
   "source": [
    "#### Anatomy"
   ]
  },
  {
   "cell_type": "code",
   "execution_count": 91,
   "metadata": {},
   "outputs": [
    {
     "data": {
      "text/html": [
       "<div>\n",
       "<style scoped>\n",
       "    .dataframe tbody tr th:only-of-type {\n",
       "        vertical-align: middle;\n",
       "    }\n",
       "\n",
       "    .dataframe tbody tr th {\n",
       "        vertical-align: top;\n",
       "    }\n",
       "\n",
       "    .dataframe thead th {\n",
       "        text-align: right;\n",
       "    }\n",
       "</style>\n",
       "<table border=\"1\" class=\"dataframe\">\n",
       "  <thead>\n",
       "    <tr style=\"text-align: right;\">\n",
       "      <th></th>\n",
       "      <th>Reg. Year</th>\n",
       "      <th>Sex</th>\n",
       "      <th>Age</th>\n",
       "      <th>Basic Qualification</th>\n",
       "      <th>Additional Qualification</th>\n",
       "      <th>State</th>\n",
       "    </tr>\n",
       "  </thead>\n",
       "  <tbody>\n",
       "    <tr>\n",
       "      <th>130</th>\n",
       "      <td>2014</td>\n",
       "      <td>Male</td>\n",
       "      <td>34</td>\n",
       "      <td>MBBS Regional Institute of Medical Sciences Im...</td>\n",
       "      <td>MDAnatomy Manipur University</td>\n",
       "      <td>tripura</td>\n",
       "    </tr>\n",
       "    <tr>\n",
       "      <th>139</th>\n",
       "      <td>2014</td>\n",
       "      <td>Male</td>\n",
       "      <td>33</td>\n",
       "      <td>MBBS Regional Institute of Medical Sciences Im...</td>\n",
       "      <td>MDAnatomy Manipur University</td>\n",
       "      <td>tripura</td>\n",
       "    </tr>\n",
       "    <tr>\n",
       "      <th>205</th>\n",
       "      <td>2014</td>\n",
       "      <td>Female</td>\n",
       "      <td>38</td>\n",
       "      <td>MBBS MBBS Regional Institute of Medical Scienc...</td>\n",
       "      <td>MD Anatomy Manipur University</td>\n",
       "      <td>tripura</td>\n",
       "    </tr>\n",
       "    <tr>\n",
       "      <th>206</th>\n",
       "      <td>2014</td>\n",
       "      <td>Female</td>\n",
       "      <td>37</td>\n",
       "      <td>MBBS MBBS Regional Institute of Medical Scienc...</td>\n",
       "      <td>MD Anatomy Manipur University</td>\n",
       "      <td>tripura</td>\n",
       "    </tr>\n",
       "    <tr>\n",
       "      <th>208</th>\n",
       "      <td>2014</td>\n",
       "      <td>Male</td>\n",
       "      <td>49</td>\n",
       "      <td>MBBS MBBS Regional Institute of Medical Scienc...</td>\n",
       "      <td>MD Anatomy Manipur University</td>\n",
       "      <td>tripura</td>\n",
       "    </tr>\n",
       "    <tr>\n",
       "      <th>229</th>\n",
       "      <td>2014</td>\n",
       "      <td>Male</td>\n",
       "      <td>48</td>\n",
       "      <td>MBBS University of Gauhati</td>\n",
       "      <td>MSAnatomy Dib University</td>\n",
       "      <td>assam</td>\n",
       "    </tr>\n",
       "    <tr>\n",
       "      <th>584</th>\n",
       "      <td>2015</td>\n",
       "      <td>Female</td>\n",
       "      <td>31</td>\n",
       "      <td>MBBS Agartala Government Medical College Tripu...</td>\n",
       "      <td>MD Anatomy Rajib Gandhi Universityof Health Sc...</td>\n",
       "      <td>tripura</td>\n",
       "    </tr>\n",
       "  </tbody>\n",
       "</table>\n",
       "</div>"
      ],
      "text/plain": [
       "     Reg. Year     Sex  Age  \\\n",
       "130       2014    Male   34   \n",
       "139       2014    Male   33   \n",
       "205       2014  Female   38   \n",
       "206       2014  Female   37   \n",
       "208       2014    Male   49   \n",
       "229       2014    Male   48   \n",
       "584       2015  Female   31   \n",
       "\n",
       "                                   Basic Qualification  \\\n",
       "130  MBBS Regional Institute of Medical Sciences Im...   \n",
       "139  MBBS Regional Institute of Medical Sciences Im...   \n",
       "205  MBBS MBBS Regional Institute of Medical Scienc...   \n",
       "206  MBBS MBBS Regional Institute of Medical Scienc...   \n",
       "208  MBBS MBBS Regional Institute of Medical Scienc...   \n",
       "229                         MBBS University of Gauhati   \n",
       "584  MBBS Agartala Government Medical College Tripu...   \n",
       "\n",
       "                              Additional Qualification    State  \n",
       "130                       MDAnatomy Manipur University  tripura  \n",
       "139                       MDAnatomy Manipur University  tripura  \n",
       "205                      MD Anatomy Manipur University  tripura  \n",
       "206                      MD Anatomy Manipur University  tripura  \n",
       "208                      MD Anatomy Manipur University  tripura  \n",
       "229                           MSAnatomy Dib University    assam  \n",
       "584  MD Anatomy Rajib Gandhi Universityof Health Sc...  tripura  "
      ]
     },
     "execution_count": 91,
     "metadata": {},
     "output_type": "execute_result"
    }
   ],
   "source": [
    "df_doc[df_doc['Additional Qualification'].str.contains('Anatomy')==True]"
   ]
  },
  {
   "cell_type": "code",
   "execution_count": 92,
   "metadata": {},
   "outputs": [],
   "source": [
    "anatomy_indices = df_doc[df_doc['Additional Qualification'].str.contains('Anatomy')==True].index\n",
    "for index in anatomy_indices:\n",
    "    list_specialization[index]='Anatomy'"
   ]
  },
  {
   "cell_type": "markdown",
   "metadata": {},
   "source": [
    "#### Paediatrics/Child Health/Maternity and Child"
   ]
  },
  {
   "cell_type": "code",
   "execution_count": 93,
   "metadata": {},
   "outputs": [
    {
     "data": {
      "text/html": [
       "<div>\n",
       "<style scoped>\n",
       "    .dataframe tbody tr th:only-of-type {\n",
       "        vertical-align: middle;\n",
       "    }\n",
       "\n",
       "    .dataframe tbody tr th {\n",
       "        vertical-align: top;\n",
       "    }\n",
       "\n",
       "    .dataframe thead th {\n",
       "        text-align: right;\n",
       "    }\n",
       "</style>\n",
       "<table border=\"1\" class=\"dataframe\">\n",
       "  <thead>\n",
       "    <tr style=\"text-align: right;\">\n",
       "      <th></th>\n",
       "      <th>Reg. Year</th>\n",
       "      <th>Sex</th>\n",
       "      <th>Age</th>\n",
       "      <th>Basic Qualification</th>\n",
       "      <th>Additional Qualification</th>\n",
       "      <th>State</th>\n",
       "    </tr>\n",
       "  </thead>\n",
       "  <tbody>\n",
       "    <tr>\n",
       "      <th>11</th>\n",
       "      <td>2012</td>\n",
       "      <td>Male</td>\n",
       "      <td>73</td>\n",
       "      <td>MBBS Osmania University</td>\n",
       "      <td>MD Paediatrics The All In dia Institute of Med...</td>\n",
       "      <td>manipur</td>\n",
       "    </tr>\n",
       "    <tr>\n",
       "      <th>106</th>\n",
       "      <td>2014</td>\n",
       "      <td>Male</td>\n",
       "      <td>54</td>\n",
       "      <td>MBBS University of Kerala</td>\n",
       "      <td>MDPaediatrics Manipur University</td>\n",
       "      <td>tripura</td>\n",
       "    </tr>\n",
       "    <tr>\n",
       "      <th>107</th>\n",
       "      <td>2014</td>\n",
       "      <td>Male</td>\n",
       "      <td>58</td>\n",
       "      <td>MBBS Burdwan University</td>\n",
       "      <td>MD Paediatrics PIGMER Chandigarh</td>\n",
       "      <td>tripura</td>\n",
       "    </tr>\n",
       "    <tr>\n",
       "      <th>108</th>\n",
       "      <td>2014</td>\n",
       "      <td>Male</td>\n",
       "      <td>59</td>\n",
       "      <td>MBBS Regional Medical College Imphal Manipur U...</td>\n",
       "      <td>MD Paediatrics Manipur University</td>\n",
       "      <td>tripura</td>\n",
       "    </tr>\n",
       "    <tr>\n",
       "      <th>119</th>\n",
       "      <td>2014</td>\n",
       "      <td>Male</td>\n",
       "      <td>43</td>\n",
       "      <td>MBBS U Manipur</td>\n",
       "      <td>DCH U Delhi</td>\n",
       "      <td>tripura</td>\n",
       "    </tr>\n",
       "    <tr>\n",
       "      <th>143</th>\n",
       "      <td>2014</td>\n",
       "      <td>Male</td>\n",
       "      <td>62</td>\n",
       "      <td>MBBS Berhampur University</td>\n",
       "      <td>Diploma in Maternity and Child Welfare univers...</td>\n",
       "      <td>tripura</td>\n",
       "    </tr>\n",
       "    <tr>\n",
       "      <th>147</th>\n",
       "      <td>2014</td>\n",
       "      <td>Male</td>\n",
       "      <td>43</td>\n",
       "      <td>MBBS University of Manipur</td>\n",
       "      <td>Dip Child HealthU Rajiv Gandhi H Sciences</td>\n",
       "      <td>tripura</td>\n",
       "    </tr>\n",
       "    <tr>\n",
       "      <th>214</th>\n",
       "      <td>2014</td>\n",
       "      <td>Male</td>\n",
       "      <td>58</td>\n",
       "      <td>MBBS Kanpur University</td>\n",
       "      <td>MD Paediatrics Kanpur University</td>\n",
       "      <td>tripura</td>\n",
       "    </tr>\n",
       "    <tr>\n",
       "      <th>242</th>\n",
       "      <td>2014</td>\n",
       "      <td>Female</td>\n",
       "      <td>55</td>\n",
       "      <td>MBBS University of Calcutta</td>\n",
       "      <td>DMCW University of Calcutta</td>\n",
       "      <td>tripura</td>\n",
       "    </tr>\n",
       "    <tr>\n",
       "      <th>252</th>\n",
       "      <td>2014</td>\n",
       "      <td>Male</td>\n",
       "      <td>39</td>\n",
       "      <td>MBBS JLN Medical CollegeRajasthan University</td>\n",
       "      <td>MDPaediatrics Rajasthan University</td>\n",
       "      <td>tripura</td>\n",
       "    </tr>\n",
       "    <tr>\n",
       "      <th>293</th>\n",
       "      <td>2014</td>\n",
       "      <td>Male</td>\n",
       "      <td>63</td>\n",
       "      <td>MBBS Regional Medical College Imphal Manipur U...</td>\n",
       "      <td>DMCW Calcutta University</td>\n",
       "      <td>tripura</td>\n",
       "    </tr>\n",
       "    <tr>\n",
       "      <th>307</th>\n",
       "      <td>2014</td>\n",
       "      <td>Male</td>\n",
       "      <td>48</td>\n",
       "      <td>MBBS Regional Medical College Imphal Manipur U...</td>\n",
       "      <td>MD Paed Manipur University</td>\n",
       "      <td>tripura</td>\n",
       "    </tr>\n",
       "    <tr>\n",
       "      <th>319</th>\n",
       "      <td>2014</td>\n",
       "      <td>Male</td>\n",
       "      <td>63</td>\n",
       "      <td>MBBS Lucknow University</td>\n",
       "      <td>MD Paed Ranchi University</td>\n",
       "      <td>tripura</td>\n",
       "    </tr>\n",
       "    <tr>\n",
       "      <th>321</th>\n",
       "      <td>2014</td>\n",
       "      <td>Male</td>\n",
       "      <td>55</td>\n",
       "      <td>MBBS Regional Medical College Imphal Manipur U...</td>\n",
       "      <td>MD Paed Manipur University</td>\n",
       "      <td>tripura</td>\n",
       "    </tr>\n",
       "    <tr>\n",
       "      <th>341</th>\n",
       "      <td>2014</td>\n",
       "      <td>Male</td>\n",
       "      <td>55</td>\n",
       "      <td>MBBS North Bengal University</td>\n",
       "      <td>DMCW University of Calcutta</td>\n",
       "      <td>tripura</td>\n",
       "    </tr>\n",
       "    <tr>\n",
       "      <th>351</th>\n",
       "      <td>2014</td>\n",
       "      <td>Male</td>\n",
       "      <td>56</td>\n",
       "      <td>MBBS Punjabi University</td>\n",
       "      <td>DMCW Calcutta University</td>\n",
       "      <td>tripura</td>\n",
       "    </tr>\n",
       "    <tr>\n",
       "      <th>367</th>\n",
       "      <td>2014</td>\n",
       "      <td>Male</td>\n",
       "      <td>33</td>\n",
       "      <td>MBBS Rajasthan University</td>\n",
       "      <td>MD Paed Tripura University</td>\n",
       "      <td>tripura</td>\n",
       "    </tr>\n",
       "    <tr>\n",
       "      <th>672</th>\n",
       "      <td>2013</td>\n",
       "      <td>Male</td>\n",
       "      <td>63</td>\n",
       "      <td>MBBSUnder Guwahati University</td>\n",
       "      <td>DMCW Under Calcutta University</td>\n",
       "      <td>tripura</td>\n",
       "    </tr>\n",
       "    <tr>\n",
       "      <th>684</th>\n",
       "      <td>2013</td>\n",
       "      <td>Male</td>\n",
       "      <td>33</td>\n",
       "      <td>MBBSPt BDSPGIMS RothakMahanshi Dayananda</td>\n",
       "      <td>MD Paed SMSMC Jaipur Uner Rajesthan University...</td>\n",
       "      <td>tripura</td>\n",
       "    </tr>\n",
       "  </tbody>\n",
       "</table>\n",
       "</div>"
      ],
      "text/plain": [
       "     Reg. Year     Sex  Age  \\\n",
       "11        2012    Male   73   \n",
       "106       2014    Male   54   \n",
       "107       2014    Male   58   \n",
       "108       2014    Male   59   \n",
       "119       2014    Male   43   \n",
       "143       2014    Male   62   \n",
       "147       2014    Male   43   \n",
       "214       2014    Male   58   \n",
       "242       2014  Female   55   \n",
       "252       2014    Male   39   \n",
       "293       2014    Male   63   \n",
       "307       2014    Male   48   \n",
       "319       2014    Male   63   \n",
       "321       2014    Male   55   \n",
       "341       2014    Male   55   \n",
       "351       2014    Male   56   \n",
       "367       2014    Male   33   \n",
       "672       2013    Male   63   \n",
       "684       2013    Male   33   \n",
       "\n",
       "                                   Basic Qualification  \\\n",
       "11                             MBBS Osmania University   \n",
       "106                          MBBS University of Kerala   \n",
       "107                            MBBS Burdwan University   \n",
       "108  MBBS Regional Medical College Imphal Manipur U...   \n",
       "119                                     MBBS U Manipur   \n",
       "143                          MBBS Berhampur University   \n",
       "147                         MBBS University of Manipur   \n",
       "214                             MBBS Kanpur University   \n",
       "242                        MBBS University of Calcutta   \n",
       "252       MBBS JLN Medical CollegeRajasthan University   \n",
       "293  MBBS Regional Medical College Imphal Manipur U...   \n",
       "307  MBBS Regional Medical College Imphal Manipur U...   \n",
       "319                            MBBS Lucknow University   \n",
       "321  MBBS Regional Medical College Imphal Manipur U...   \n",
       "341                       MBBS North Bengal University   \n",
       "351                            MBBS Punjabi University   \n",
       "367                          MBBS Rajasthan University   \n",
       "672                      MBBSUnder Guwahati University   \n",
       "684           MBBSPt BDSPGIMS RothakMahanshi Dayananda   \n",
       "\n",
       "                              Additional Qualification    State  \n",
       "11   MD Paediatrics The All In dia Institute of Med...  manipur  \n",
       "106                   MDPaediatrics Manipur University  tripura  \n",
       "107                   MD Paediatrics PIGMER Chandigarh  tripura  \n",
       "108                  MD Paediatrics Manipur University  tripura  \n",
       "119                                        DCH U Delhi  tripura  \n",
       "143  Diploma in Maternity and Child Welfare univers...  tripura  \n",
       "147          Dip Child HealthU Rajiv Gandhi H Sciences  tripura  \n",
       "214                   MD Paediatrics Kanpur University  tripura  \n",
       "242                        DMCW University of Calcutta  tripura  \n",
       "252                 MDPaediatrics Rajasthan University  tripura  \n",
       "293                           DMCW Calcutta University  tripura  \n",
       "307                         MD Paed Manipur University  tripura  \n",
       "319                          MD Paed Ranchi University  tripura  \n",
       "321                         MD Paed Manipur University  tripura  \n",
       "341                        DMCW University of Calcutta  tripura  \n",
       "351                           DMCW Calcutta University  tripura  \n",
       "367                         MD Paed Tripura University  tripura  \n",
       "672                     DMCW Under Calcutta University  tripura  \n",
       "684  MD Paed SMSMC Jaipur Uner Rajesthan University...  tripura  "
      ]
     },
     "execution_count": 93,
     "metadata": {},
     "output_type": "execute_result"
    }
   ],
   "source": [
    "df_doc[df_doc['Additional Qualification'].str.contains('Paed|Child|child|DCH|DMC')==True]"
   ]
  },
  {
   "cell_type": "code",
   "execution_count": 94,
   "metadata": {},
   "outputs": [],
   "source": [
    "paediatric_indices = df_doc[df_doc['Additional Qualification'].str.contains('Paed|Child|child|DCH|DMC')==True].index\n",
    "for index in paediatric_indices:\n",
    "    list_specialization[index]='Paediatrics/Child Health/Maternity and Child'"
   ]
  },
  {
   "cell_type": "markdown",
   "metadata": {},
   "source": [
    "#### Surgery"
   ]
  },
  {
   "cell_type": "code",
   "execution_count": 95,
   "metadata": {},
   "outputs": [
    {
     "data": {
      "text/html": [
       "<div>\n",
       "<style scoped>\n",
       "    .dataframe tbody tr th:only-of-type {\n",
       "        vertical-align: middle;\n",
       "    }\n",
       "\n",
       "    .dataframe tbody tr th {\n",
       "        vertical-align: top;\n",
       "    }\n",
       "\n",
       "    .dataframe thead th {\n",
       "        text-align: right;\n",
       "    }\n",
       "</style>\n",
       "<table border=\"1\" class=\"dataframe\">\n",
       "  <thead>\n",
       "    <tr style=\"text-align: right;\">\n",
       "      <th></th>\n",
       "      <th>Reg. Year</th>\n",
       "      <th>Sex</th>\n",
       "      <th>Age</th>\n",
       "      <th>Basic Qualification</th>\n",
       "      <th>Additional Qualification</th>\n",
       "      <th>State</th>\n",
       "    </tr>\n",
       "  </thead>\n",
       "  <tbody>\n",
       "    <tr>\n",
       "      <th>66</th>\n",
       "      <td>2012</td>\n",
       "      <td>Male</td>\n",
       "      <td>61</td>\n",
       "      <td>MBBS from Regional Medical College Imphol Manipur</td>\n",
       "      <td>Diploma in Ophthalmic Medicine Surgery from Ch...</td>\n",
       "      <td>tripura</td>\n",
       "    </tr>\n",
       "    <tr>\n",
       "      <th>104</th>\n",
       "      <td>2014</td>\n",
       "      <td>Male</td>\n",
       "      <td>62</td>\n",
       "      <td>MBBS Guru Nanak Dev University</td>\n",
       "      <td>M S General Surgery Manipur University</td>\n",
       "      <td>tripura</td>\n",
       "    </tr>\n",
       "    <tr>\n",
       "      <th>151</th>\n",
       "      <td>2014</td>\n",
       "      <td>Male</td>\n",
       "      <td>63</td>\n",
       "      <td>MBBS Gauhati University</td>\n",
       "      <td>MSGeneral Surgery Manipur University</td>\n",
       "      <td>tripura</td>\n",
       "    </tr>\n",
       "    <tr>\n",
       "      <th>198</th>\n",
       "      <td>2016</td>\n",
       "      <td>Male</td>\n",
       "      <td>40</td>\n",
       "      <td>MBBS Regional Institute of Medical Sciences Im...</td>\n",
       "      <td>MS General Surgery Dr NTR University of Health...</td>\n",
       "      <td>tripura</td>\n",
       "    </tr>\n",
       "    <tr>\n",
       "      <th>237</th>\n",
       "      <td>2014</td>\n",
       "      <td>Male</td>\n",
       "      <td>42</td>\n",
       "      <td>MBBS Gorakhpur University</td>\n",
       "      <td>MSGenral Surgery Manipur University</td>\n",
       "      <td>tripura</td>\n",
       "    </tr>\n",
       "    <tr>\n",
       "      <th>257</th>\n",
       "      <td>2014</td>\n",
       "      <td>Male</td>\n",
       "      <td>64</td>\n",
       "      <td>MBBS Gauhati University</td>\n",
       "      <td>MS General Surgery Dibrugarh University</td>\n",
       "      <td>tripura</td>\n",
       "    </tr>\n",
       "    <tr>\n",
       "      <th>329</th>\n",
       "      <td>2014</td>\n",
       "      <td>Male</td>\n",
       "      <td>52</td>\n",
       "      <td>MBBS Regional Medical College Imphal Manipur U...</td>\n",
       "      <td>MS General Surgery Manipur University</td>\n",
       "      <td>tripura</td>\n",
       "    </tr>\n",
       "    <tr>\n",
       "      <th>330</th>\n",
       "      <td>2014</td>\n",
       "      <td>Male</td>\n",
       "      <td>64</td>\n",
       "      <td>MBBS Silchar Merdical CollegeGauhati University</td>\n",
       "      <td>MSGeneral Surgery Calcutta University</td>\n",
       "      <td>tripura</td>\n",
       "    </tr>\n",
       "    <tr>\n",
       "      <th>360</th>\n",
       "      <td>2014</td>\n",
       "      <td>Male</td>\n",
       "      <td>45</td>\n",
       "      <td>MBBS Deen Dayal Upadhyay Gorakhpur University</td>\n",
       "      <td>MS Surgery Tripura University</td>\n",
       "      <td>tripura</td>\n",
       "    </tr>\n",
       "    <tr>\n",
       "      <th>364</th>\n",
       "      <td>2014</td>\n",
       "      <td>Male</td>\n",
       "      <td>65</td>\n",
       "      <td>MBBS Maharshi Dayanand University</td>\n",
       "      <td>MS General SurgeryThe Tamil Nadu Dr MGR Medica...</td>\n",
       "      <td>tripura</td>\n",
       "    </tr>\n",
       "    <tr>\n",
       "      <th>382</th>\n",
       "      <td>2015</td>\n",
       "      <td>Male</td>\n",
       "      <td>35</td>\n",
       "      <td>MBBS Manipur University</td>\n",
       "      <td>MS General Surgery Manipur University</td>\n",
       "      <td>tripura</td>\n",
       "    </tr>\n",
       "    <tr>\n",
       "      <th>525</th>\n",
       "      <td>2015</td>\n",
       "      <td>Male</td>\n",
       "      <td>40</td>\n",
       "      <td>MBBS Regional Institute of Medical Sciences Im...</td>\n",
       "      <td>MSGen Surgery Regional Institute of Medical Sc...</td>\n",
       "      <td>tripura</td>\n",
       "    </tr>\n",
       "    <tr>\n",
       "      <th>695</th>\n",
       "      <td>2014</td>\n",
       "      <td>Male</td>\n",
       "      <td>65</td>\n",
       "      <td>MBBS Sambalpur University</td>\n",
       "      <td>MS Gen Sur Under Calcutta University</td>\n",
       "      <td>tripura</td>\n",
       "    </tr>\n",
       "    <tr>\n",
       "      <th>713</th>\n",
       "      <td>2014</td>\n",
       "      <td>Male</td>\n",
       "      <td>63</td>\n",
       "      <td>MBBS Karnatak University</td>\n",
       "      <td>MS General SurgeryUniversity of Calcutta</td>\n",
       "      <td>tripura</td>\n",
       "    </tr>\n",
       "    <tr>\n",
       "      <th>795</th>\n",
       "      <td>2014</td>\n",
       "      <td>Male</td>\n",
       "      <td>74</td>\n",
       "      <td>MBBS Gauhati University</td>\n",
       "      <td>DGOThe College of Physicians and Surgeons of B...</td>\n",
       "      <td>manipur</td>\n",
       "    </tr>\n",
       "  </tbody>\n",
       "</table>\n",
       "</div>"
      ],
      "text/plain": [
       "     Reg. Year   Sex  Age                                Basic Qualification  \\\n",
       "66        2012  Male   61  MBBS from Regional Medical College Imphol Manipur   \n",
       "104       2014  Male   62                     MBBS Guru Nanak Dev University   \n",
       "151       2014  Male   63                            MBBS Gauhati University   \n",
       "198       2016  Male   40  MBBS Regional Institute of Medical Sciences Im...   \n",
       "237       2014  Male   42                          MBBS Gorakhpur University   \n",
       "257       2014  Male   64                            MBBS Gauhati University   \n",
       "329       2014  Male   52  MBBS Regional Medical College Imphal Manipur U...   \n",
       "330       2014  Male   64    MBBS Silchar Merdical CollegeGauhati University   \n",
       "360       2014  Male   45      MBBS Deen Dayal Upadhyay Gorakhpur University   \n",
       "364       2014  Male   65                  MBBS Maharshi Dayanand University   \n",
       "382       2015  Male   35                            MBBS Manipur University   \n",
       "525       2015  Male   40  MBBS Regional Institute of Medical Sciences Im...   \n",
       "695       2014  Male   65                          MBBS Sambalpur University   \n",
       "713       2014  Male   63                           MBBS Karnatak University   \n",
       "795       2014  Male   74                            MBBS Gauhati University   \n",
       "\n",
       "                              Additional Qualification    State  \n",
       "66   Diploma in Ophthalmic Medicine Surgery from Ch...  tripura  \n",
       "104             M S General Surgery Manipur University  tripura  \n",
       "151               MSGeneral Surgery Manipur University  tripura  \n",
       "198  MS General Surgery Dr NTR University of Health...  tripura  \n",
       "237                MSGenral Surgery Manipur University  tripura  \n",
       "257            MS General Surgery Dibrugarh University  tripura  \n",
       "329              MS General Surgery Manipur University  tripura  \n",
       "330              MSGeneral Surgery Calcutta University  tripura  \n",
       "360                      MS Surgery Tripura University  tripura  \n",
       "364  MS General SurgeryThe Tamil Nadu Dr MGR Medica...  tripura  \n",
       "382              MS General Surgery Manipur University  tripura  \n",
       "525  MSGen Surgery Regional Institute of Medical Sc...  tripura  \n",
       "695               MS Gen Sur Under Calcutta University  tripura  \n",
       "713           MS General SurgeryUniversity of Calcutta  tripura  \n",
       "795  DGOThe College of Physicians and Surgeons of B...  manipur  "
      ]
     },
     "execution_count": 95,
     "metadata": {},
     "output_type": "execute_result"
    }
   ],
   "source": [
    "df_doc[df_doc['Additional Qualification'].str.contains('Sur')==True]"
   ]
  },
  {
   "cell_type": "code",
   "execution_count": 96,
   "metadata": {},
   "outputs": [],
   "source": [
    "surgery_indices = df_doc[df_doc['Additional Qualification'].str.contains('Sur')==True].index\n",
    "\n",
    "### Not selecting index 795 as the physician is a DGO but since he went to The College of Physicians and Surgeons, Manipur, he is getting picked up in the keyword search\n",
    "\n",
    "for index in surgery_indices:\n",
    "    if index != np.int64(795):\n",
    "        list_specialization[index]='Surgery'"
   ]
  },
  {
   "cell_type": "markdown",
   "metadata": {},
   "source": [
    "#### Gynaecology/Obstetrics"
   ]
  },
  {
   "cell_type": "code",
   "execution_count": 97,
   "metadata": {},
   "outputs": [
    {
     "data": {
      "text/html": [
       "<div>\n",
       "<style scoped>\n",
       "    .dataframe tbody tr th:only-of-type {\n",
       "        vertical-align: middle;\n",
       "    }\n",
       "\n",
       "    .dataframe tbody tr th {\n",
       "        vertical-align: top;\n",
       "    }\n",
       "\n",
       "    .dataframe thead th {\n",
       "        text-align: right;\n",
       "    }\n",
       "</style>\n",
       "<table border=\"1\" class=\"dataframe\">\n",
       "  <thead>\n",
       "    <tr style=\"text-align: right;\">\n",
       "      <th></th>\n",
       "      <th>Reg. Year</th>\n",
       "      <th>Sex</th>\n",
       "      <th>Age</th>\n",
       "      <th>Basic Qualification</th>\n",
       "      <th>Additional Qualification</th>\n",
       "      <th>State</th>\n",
       "    </tr>\n",
       "  </thead>\n",
       "  <tbody>\n",
       "    <tr>\n",
       "      <th>0</th>\n",
       "      <td>2012</td>\n",
       "      <td>Male</td>\n",
       "      <td>65</td>\n",
       "      <td>MBBS Armed Forces Medical College</td>\n",
       "      <td>MD OBST GYNAE Poona University</td>\n",
       "      <td>west bengal</td>\n",
       "    </tr>\n",
       "    <tr>\n",
       "      <th>109</th>\n",
       "      <td>2014</td>\n",
       "      <td>Male</td>\n",
       "      <td>34</td>\n",
       "      <td>MBBS Regional Institute of Medical Sciences Im...</td>\n",
       "      <td>MSObstetrics Gynaecology Manipur University</td>\n",
       "      <td>tripura</td>\n",
       "    </tr>\n",
       "    <tr>\n",
       "      <th>129</th>\n",
       "      <td>2014</td>\n",
       "      <td>Male</td>\n",
       "      <td>38</td>\n",
       "      <td>MBBS Regional Institute of Medical Sciences Im...</td>\n",
       "      <td>MSObstetrics Gynaecology Manipur University</td>\n",
       "      <td>tripura</td>\n",
       "    </tr>\n",
       "    <tr>\n",
       "      <th>303</th>\n",
       "      <td>2014</td>\n",
       "      <td>Female</td>\n",
       "      <td>37</td>\n",
       "      <td>MBBS NSCB Medical CollegeUniversity of RDVV Ja...</td>\n",
       "      <td>DNB OG National Board of Examination</td>\n",
       "      <td>tripura</td>\n",
       "    </tr>\n",
       "    <tr>\n",
       "      <th>334</th>\n",
       "      <td>2014</td>\n",
       "      <td>Female</td>\n",
       "      <td>34</td>\n",
       "      <td>MBBSTrivundam Medical CollegeKeralaUniversity</td>\n",
       "      <td>MS Obsts Gynae Srimanta Sankardeva University ...</td>\n",
       "      <td>tripura</td>\n",
       "    </tr>\n",
       "    <tr>\n",
       "      <th>337</th>\n",
       "      <td>2014</td>\n",
       "      <td>Male</td>\n",
       "      <td>68</td>\n",
       "      <td>MBBS Mysore Medical CollegeMysore University</td>\n",
       "      <td>DGO Calcutta University</td>\n",
       "      <td>tripura</td>\n",
       "    </tr>\n",
       "    <tr>\n",
       "      <th>344</th>\n",
       "      <td>2014</td>\n",
       "      <td>Male</td>\n",
       "      <td>61</td>\n",
       "      <td>MBBS Sri Venkateswara University</td>\n",
       "      <td>DGO Obs Gynae Venkateswara University</td>\n",
       "      <td>tripura</td>\n",
       "    </tr>\n",
       "    <tr>\n",
       "      <th>529</th>\n",
       "      <td>2015</td>\n",
       "      <td>Male</td>\n",
       "      <td>67</td>\n",
       "      <td>MBBS Patna University</td>\n",
       "      <td>DGO Calcitta University</td>\n",
       "      <td>tripura</td>\n",
       "    </tr>\n",
       "    <tr>\n",
       "      <th>564</th>\n",
       "      <td>2015</td>\n",
       "      <td>Female</td>\n",
       "      <td>31</td>\n",
       "      <td>MBBS The West Bengal University of Health Scie...</td>\n",
       "      <td>MSObst Gyane Tripura University</td>\n",
       "      <td>delhi</td>\n",
       "    </tr>\n",
       "    <tr>\n",
       "      <th>669</th>\n",
       "      <td>2013</td>\n",
       "      <td>Male</td>\n",
       "      <td>65</td>\n",
       "      <td>MBBSMKCGMC Under Berhampur University</td>\n",
       "      <td>DOG Under Calcutta University</td>\n",
       "      <td>tripura</td>\n",
       "    </tr>\n",
       "    <tr>\n",
       "      <th>675</th>\n",
       "      <td>2013</td>\n",
       "      <td>Male</td>\n",
       "      <td>56</td>\n",
       "      <td>MBBS NB University</td>\n",
       "      <td>DOG Under Calcutta University</td>\n",
       "      <td>west bengal</td>\n",
       "    </tr>\n",
       "    <tr>\n",
       "      <th>705</th>\n",
       "      <td>2014</td>\n",
       "      <td>Male</td>\n",
       "      <td>63</td>\n",
       "      <td>MBBS VSSMedical CollegeSambalpur University</td>\n",
       "      <td>MDObstetrics and Gynaecology Manipal University</td>\n",
       "      <td>tripura</td>\n",
       "    </tr>\n",
       "    <tr>\n",
       "      <th>716</th>\n",
       "      <td>2014</td>\n",
       "      <td>Male</td>\n",
       "      <td>36</td>\n",
       "      <td>MBBSRani Durgavati Vishwavidyalaya Jabalpur</td>\n",
       "      <td>DGO Rani Durgavati Vishwavidyalaya Jabalpur</td>\n",
       "      <td>tripura</td>\n",
       "    </tr>\n",
       "    <tr>\n",
       "      <th>718</th>\n",
       "      <td>2014</td>\n",
       "      <td>Male</td>\n",
       "      <td>66</td>\n",
       "      <td>MBBS Karnatak University</td>\n",
       "      <td>MDobst Gynae Calcutta University</td>\n",
       "      <td>tripura</td>\n",
       "    </tr>\n",
       "    <tr>\n",
       "      <th>719</th>\n",
       "      <td>2014</td>\n",
       "      <td>Female</td>\n",
       "      <td>48</td>\n",
       "      <td>MBBS LN Mithila University</td>\n",
       "      <td>MSObstetrics Gynaecology</td>\n",
       "      <td>tripura</td>\n",
       "    </tr>\n",
       "    <tr>\n",
       "      <th>777</th>\n",
       "      <td>2014</td>\n",
       "      <td>Male</td>\n",
       "      <td>28</td>\n",
       "      <td>MBBS Regional Medical College Imphal Manipur U...</td>\n",
       "      <td>MD Obstetrics Gynaecology Manipur University</td>\n",
       "      <td>tripura</td>\n",
       "    </tr>\n",
       "    <tr>\n",
       "      <th>795</th>\n",
       "      <td>2014</td>\n",
       "      <td>Male</td>\n",
       "      <td>74</td>\n",
       "      <td>MBBS Gauhati University</td>\n",
       "      <td>DGOThe College of Physicians and Surgeons of B...</td>\n",
       "      <td>manipur</td>\n",
       "    </tr>\n",
       "  </tbody>\n",
       "</table>\n",
       "</div>"
      ],
      "text/plain": [
       "     Reg. Year     Sex  Age  \\\n",
       "0         2012    Male   65   \n",
       "109       2014    Male   34   \n",
       "129       2014    Male   38   \n",
       "303       2014  Female   37   \n",
       "334       2014  Female   34   \n",
       "337       2014    Male   68   \n",
       "344       2014    Male   61   \n",
       "529       2015    Male   67   \n",
       "564       2015  Female   31   \n",
       "669       2013    Male   65   \n",
       "675       2013    Male   56   \n",
       "705       2014    Male   63   \n",
       "716       2014    Male   36   \n",
       "718       2014    Male   66   \n",
       "719       2014  Female   48   \n",
       "777       2014    Male   28   \n",
       "795       2014    Male   74   \n",
       "\n",
       "                                   Basic Qualification  \\\n",
       "0                    MBBS Armed Forces Medical College   \n",
       "109  MBBS Regional Institute of Medical Sciences Im...   \n",
       "129  MBBS Regional Institute of Medical Sciences Im...   \n",
       "303  MBBS NSCB Medical CollegeUniversity of RDVV Ja...   \n",
       "334      MBBSTrivundam Medical CollegeKeralaUniversity   \n",
       "337       MBBS Mysore Medical CollegeMysore University   \n",
       "344                   MBBS Sri Venkateswara University   \n",
       "529                              MBBS Patna University   \n",
       "564  MBBS The West Bengal University of Health Scie...   \n",
       "669              MBBSMKCGMC Under Berhampur University   \n",
       "675                                 MBBS NB University   \n",
       "705        MBBS VSSMedical CollegeSambalpur University   \n",
       "716        MBBSRani Durgavati Vishwavidyalaya Jabalpur   \n",
       "718                           MBBS Karnatak University   \n",
       "719                         MBBS LN Mithila University   \n",
       "777  MBBS Regional Medical College Imphal Manipur U...   \n",
       "795                            MBBS Gauhati University   \n",
       "\n",
       "                              Additional Qualification        State  \n",
       "0                       MD OBST GYNAE Poona University  west bengal  \n",
       "109        MSObstetrics Gynaecology Manipur University      tripura  \n",
       "129        MSObstetrics Gynaecology Manipur University      tripura  \n",
       "303               DNB OG National Board of Examination      tripura  \n",
       "334  MS Obsts Gynae Srimanta Sankardeva University ...      tripura  \n",
       "337                            DGO Calcutta University      tripura  \n",
       "344              DGO Obs Gynae Venkateswara University      tripura  \n",
       "529                            DGO Calcitta University      tripura  \n",
       "564                    MSObst Gyane Tripura University        delhi  \n",
       "669                      DOG Under Calcutta University      tripura  \n",
       "675                      DOG Under Calcutta University  west bengal  \n",
       "705    MDObstetrics and Gynaecology Manipal University      tripura  \n",
       "716        DGO Rani Durgavati Vishwavidyalaya Jabalpur      tripura  \n",
       "718                   MDobst Gynae Calcutta University      tripura  \n",
       "719                           MSObstetrics Gynaecology      tripura  \n",
       "777       MD Obstetrics Gynaecology Manipur University      tripura  \n",
       "795  DGOThe College of Physicians and Surgeons of B...      manipur  "
      ]
     },
     "execution_count": 97,
     "metadata": {},
     "output_type": "execute_result"
    }
   ],
   "source": [
    "df_doc[df_doc['Additional Qualification'].str.contains('GO|Gyn|Obs|GYN|DOG|OG')==True]"
   ]
  },
  {
   "cell_type": "code",
   "execution_count": 98,
   "metadata": {},
   "outputs": [],
   "source": [
    "gynae_indices =df_doc[df_doc['Additional Qualification'].str.contains('GO|Gyn|Obs|GYN|DOG|OG')==True].index\n",
    "for index in gynae_indices:\n",
    "    list_specialization[index]='Gynaecology/Obstetrics'"
   ]
  },
  {
   "cell_type": "markdown",
   "metadata": {},
   "source": [
    "#### Psychiatry"
   ]
  },
  {
   "cell_type": "code",
   "execution_count": 99,
   "metadata": {},
   "outputs": [
    {
     "data": {
      "text/html": [
       "<div>\n",
       "<style scoped>\n",
       "    .dataframe tbody tr th:only-of-type {\n",
       "        vertical-align: middle;\n",
       "    }\n",
       "\n",
       "    .dataframe tbody tr th {\n",
       "        vertical-align: top;\n",
       "    }\n",
       "\n",
       "    .dataframe thead th {\n",
       "        text-align: right;\n",
       "    }\n",
       "</style>\n",
       "<table border=\"1\" class=\"dataframe\">\n",
       "  <thead>\n",
       "    <tr style=\"text-align: right;\">\n",
       "      <th></th>\n",
       "      <th>Reg. Year</th>\n",
       "      <th>Sex</th>\n",
       "      <th>Age</th>\n",
       "      <th>Basic Qualification</th>\n",
       "      <th>Additional Qualification</th>\n",
       "      <th>State</th>\n",
       "    </tr>\n",
       "  </thead>\n",
       "  <tbody>\n",
       "    <tr>\n",
       "      <th>69</th>\n",
       "      <td>2012</td>\n",
       "      <td>Male</td>\n",
       "      <td>38</td>\n",
       "      <td>MBBS Gauhati Medical College GuwahatiUniversit...</td>\n",
       "      <td>MD Phychiatry Dibrugarh University May</td>\n",
       "      <td>west bengal</td>\n",
       "    </tr>\n",
       "    <tr>\n",
       "      <th>228</th>\n",
       "      <td>2014</td>\n",
       "      <td>Male</td>\n",
       "      <td>34</td>\n",
       "      <td>MBBS BRD Medical College Gorakhpur University ...</td>\n",
       "      <td>MD PsychiatrySS University of Health Sciences</td>\n",
       "      <td>tripura</td>\n",
       "    </tr>\n",
       "    <tr>\n",
       "      <th>314</th>\n",
       "      <td>2014</td>\n",
       "      <td>Male</td>\n",
       "      <td>42</td>\n",
       "      <td>MBBS Regional Institute of Medical Sciences Im...</td>\n",
       "      <td>DPM In Psychiatry Maharashtra University of He...</td>\n",
       "      <td>tripura</td>\n",
       "    </tr>\n",
       "    <tr>\n",
       "      <th>335</th>\n",
       "      <td>2014</td>\n",
       "      <td>Male</td>\n",
       "      <td>45</td>\n",
       "      <td>MBBSSilchar Medical CollegeAssam University</td>\n",
       "      <td>DPMPsychiatryAssam University</td>\n",
       "      <td>tripura</td>\n",
       "    </tr>\n",
       "    <tr>\n",
       "      <th>366</th>\n",
       "      <td>2014</td>\n",
       "      <td>Male</td>\n",
       "      <td>33</td>\n",
       "      <td>MBBS North Bengal Medical College</td>\n",
       "      <td>MD Psychiatry Tripura University</td>\n",
       "      <td>west bengal</td>\n",
       "    </tr>\n",
       "    <tr>\n",
       "      <th>702</th>\n",
       "      <td>2014</td>\n",
       "      <td>Male</td>\n",
       "      <td>62</td>\n",
       "      <td>MBBSRIMS Under Imphal University</td>\n",
       "      <td>MD Pshy NIMHANS Bangalor Bangalore University</td>\n",
       "      <td>tripura</td>\n",
       "    </tr>\n",
       "    <tr>\n",
       "      <th>725</th>\n",
       "      <td>2014</td>\n",
       "      <td>Male</td>\n",
       "      <td>48</td>\n",
       "      <td>MBBSRegional Institute of Medical SciencesImph...</td>\n",
       "      <td>MD Psychiatry Manipur University</td>\n",
       "      <td>tripura</td>\n",
       "    </tr>\n",
       "    <tr>\n",
       "      <th>810</th>\n",
       "      <td>2014</td>\n",
       "      <td>Male</td>\n",
       "      <td>51</td>\n",
       "      <td>MBBS North Eastern Regional Medical College Im...</td>\n",
       "      <td>MD Psychiatry Manipur University</td>\n",
       "      <td>tripura</td>\n",
       "    </tr>\n",
       "  </tbody>\n",
       "</table>\n",
       "</div>"
      ],
      "text/plain": [
       "     Reg. Year   Sex  Age                                Basic Qualification  \\\n",
       "69        2012  Male   38  MBBS Gauhati Medical College GuwahatiUniversit...   \n",
       "228       2014  Male   34  MBBS BRD Medical College Gorakhpur University ...   \n",
       "314       2014  Male   42  MBBS Regional Institute of Medical Sciences Im...   \n",
       "335       2014  Male   45        MBBSSilchar Medical CollegeAssam University   \n",
       "366       2014  Male   33                  MBBS North Bengal Medical College   \n",
       "702       2014  Male   62                   MBBSRIMS Under Imphal University   \n",
       "725       2014  Male   48  MBBSRegional Institute of Medical SciencesImph...   \n",
       "810       2014  Male   51  MBBS North Eastern Regional Medical College Im...   \n",
       "\n",
       "                              Additional Qualification        State  \n",
       "69              MD Phychiatry Dibrugarh University May  west bengal  \n",
       "228      MD PsychiatrySS University of Health Sciences      tripura  \n",
       "314  DPM In Psychiatry Maharashtra University of He...      tripura  \n",
       "335                      DPMPsychiatryAssam University      tripura  \n",
       "366                   MD Psychiatry Tripura University  west bengal  \n",
       "702      MD Pshy NIMHANS Bangalor Bangalore University      tripura  \n",
       "725                   MD Psychiatry Manipur University      tripura  \n",
       "810                   MD Psychiatry Manipur University      tripura  "
      ]
     },
     "execution_count": 99,
     "metadata": {},
     "output_type": "execute_result"
    }
   ],
   "source": [
    "df_doc[df_doc['Additional Qualification'].str.contains('Ps|Phyc')==True]"
   ]
  },
  {
   "cell_type": "code",
   "execution_count": 100,
   "metadata": {},
   "outputs": [],
   "source": [
    "psychiatry_indices = df_doc[df_doc['Additional Qualification'].str.contains('Ps|Phyc')==True].index\n",
    "for index in psychiatry_indices:\n",
    "    list_specialization[index]='Psychiatry'"
   ]
  },
  {
   "cell_type": "markdown",
   "metadata": {},
   "source": [
    "#### Physiology"
   ]
  },
  {
   "cell_type": "code",
   "execution_count": 101,
   "metadata": {},
   "outputs": [
    {
     "data": {
      "text/html": [
       "<div>\n",
       "<style scoped>\n",
       "    .dataframe tbody tr th:only-of-type {\n",
       "        vertical-align: middle;\n",
       "    }\n",
       "\n",
       "    .dataframe tbody tr th {\n",
       "        vertical-align: top;\n",
       "    }\n",
       "\n",
       "    .dataframe thead th {\n",
       "        text-align: right;\n",
       "    }\n",
       "</style>\n",
       "<table border=\"1\" class=\"dataframe\">\n",
       "  <thead>\n",
       "    <tr style=\"text-align: right;\">\n",
       "      <th></th>\n",
       "      <th>Reg. Year</th>\n",
       "      <th>Sex</th>\n",
       "      <th>Age</th>\n",
       "      <th>Basic Qualification</th>\n",
       "      <th>Additional Qualification</th>\n",
       "      <th>State</th>\n",
       "    </tr>\n",
       "  </thead>\n",
       "  <tbody>\n",
       "    <tr>\n",
       "      <th>231</th>\n",
       "      <td>2014</td>\n",
       "      <td>Male</td>\n",
       "      <td>29</td>\n",
       "      <td>MBBS Manipur University</td>\n",
       "      <td>MDPhysiologyManipur University</td>\n",
       "      <td>tripura</td>\n",
       "    </tr>\n",
       "    <tr>\n",
       "      <th>704</th>\n",
       "      <td>2014</td>\n",
       "      <td>Male</td>\n",
       "      <td>47</td>\n",
       "      <td>MBBS Calcutta University</td>\n",
       "      <td>MDPhysiologyDeemed University</td>\n",
       "      <td>tripura</td>\n",
       "    </tr>\n",
       "  </tbody>\n",
       "</table>\n",
       "</div>"
      ],
      "text/plain": [
       "     Reg. Year   Sex  Age       Basic Qualification  \\\n",
       "231       2014  Male   29   MBBS Manipur University   \n",
       "704       2014  Male   47  MBBS Calcutta University   \n",
       "\n",
       "           Additional Qualification    State  \n",
       "231  MDPhysiologyManipur University  tripura  \n",
       "704   MDPhysiologyDeemed University  tripura  "
      ]
     },
     "execution_count": 101,
     "metadata": {},
     "output_type": "execute_result"
    }
   ],
   "source": [
    "df_doc[df_doc['Additional Qualification'].str.contains('Physio|physio')==True]"
   ]
  },
  {
   "cell_type": "code",
   "execution_count": 102,
   "metadata": {},
   "outputs": [],
   "source": [
    "physiology_indices = df_doc[df_doc['Additional Qualification'].str.contains('Physio|physio')==True].index\n",
    "for index in physiology_indices:\n",
    "    list_specialization[index]='Physiology'"
   ]
  },
  {
   "cell_type": "markdown",
   "metadata": {},
   "source": [
    "#### Opthalmology"
   ]
  },
  {
   "cell_type": "code",
   "execution_count": 103,
   "metadata": {},
   "outputs": [
    {
     "data": {
      "text/html": [
       "<div>\n",
       "<style scoped>\n",
       "    .dataframe tbody tr th:only-of-type {\n",
       "        vertical-align: middle;\n",
       "    }\n",
       "\n",
       "    .dataframe tbody tr th {\n",
       "        vertical-align: top;\n",
       "    }\n",
       "\n",
       "    .dataframe thead th {\n",
       "        text-align: right;\n",
       "    }\n",
       "</style>\n",
       "<table border=\"1\" class=\"dataframe\">\n",
       "  <thead>\n",
       "    <tr style=\"text-align: right;\">\n",
       "      <th></th>\n",
       "      <th>Reg. Year</th>\n",
       "      <th>Sex</th>\n",
       "      <th>Age</th>\n",
       "      <th>Basic Qualification</th>\n",
       "      <th>Additional Qualification</th>\n",
       "      <th>State</th>\n",
       "    </tr>\n",
       "  </thead>\n",
       "  <tbody>\n",
       "    <tr>\n",
       "      <th>66</th>\n",
       "      <td>2012</td>\n",
       "      <td>Male</td>\n",
       "      <td>61</td>\n",
       "      <td>MBBS from Regional Medical College Imphol Manipur</td>\n",
       "      <td>Diploma in Ophthalmic Medicine Surgery from Ch...</td>\n",
       "      <td>tripura</td>\n",
       "    </tr>\n",
       "    <tr>\n",
       "      <th>150</th>\n",
       "      <td>2014</td>\n",
       "      <td>Male</td>\n",
       "      <td>57</td>\n",
       "      <td>MBBS University of Luknow</td>\n",
       "      <td>MSophthalmologyUniversity of Luknow</td>\n",
       "      <td>tripura</td>\n",
       "    </tr>\n",
       "    <tr>\n",
       "      <th>153</th>\n",
       "      <td>2014</td>\n",
       "      <td>Male</td>\n",
       "      <td>47</td>\n",
       "      <td>MBBS Meerut University</td>\n",
       "      <td>MSOphthalmologyManipur University</td>\n",
       "      <td>west bengal</td>\n",
       "    </tr>\n",
       "    <tr>\n",
       "      <th>217</th>\n",
       "      <td>2014</td>\n",
       "      <td>Male</td>\n",
       "      <td>62</td>\n",
       "      <td>MBBS Sambalpur University</td>\n",
       "      <td>MSOpthalmology Manipur University</td>\n",
       "      <td>tripura</td>\n",
       "    </tr>\n",
       "    <tr>\n",
       "      <th>230</th>\n",
       "      <td>2014</td>\n",
       "      <td>Male</td>\n",
       "      <td>48</td>\n",
       "      <td>MBBS Manipur University</td>\n",
       "      <td>Diploma in OphthalmologyMG Institute of Medica...</td>\n",
       "      <td>tripura</td>\n",
       "    </tr>\n",
       "    <tr>\n",
       "      <th>239</th>\n",
       "      <td>2014</td>\n",
       "      <td>Male</td>\n",
       "      <td>50</td>\n",
       "      <td>MBBS Magadh University</td>\n",
       "      <td>MS Ophthalmology Patna University</td>\n",
       "      <td>tripura</td>\n",
       "    </tr>\n",
       "    <tr>\n",
       "      <th>277</th>\n",
       "      <td>2014</td>\n",
       "      <td>Male</td>\n",
       "      <td>62</td>\n",
       "      <td>MBBS Assam Medical CollegeDibrugarh University</td>\n",
       "      <td>DO OpthalmologyGauhati University</td>\n",
       "      <td>tripura</td>\n",
       "    </tr>\n",
       "    <tr>\n",
       "      <th>726</th>\n",
       "      <td>2014</td>\n",
       "      <td>Male</td>\n",
       "      <td>39</td>\n",
       "      <td>MBBS Gauhati Medical College Gauhati University</td>\n",
       "      <td>MS Ophthalmology Dibrugarh University</td>\n",
       "      <td>tripura</td>\n",
       "    </tr>\n",
       "    <tr>\n",
       "      <th>729</th>\n",
       "      <td>2014</td>\n",
       "      <td>Male</td>\n",
       "      <td>63</td>\n",
       "      <td>MBBS Karnatak University</td>\n",
       "      <td>Diploma in Ophthalmology Gauhati University</td>\n",
       "      <td>tripura</td>\n",
       "    </tr>\n",
       "  </tbody>\n",
       "</table>\n",
       "</div>"
      ],
      "text/plain": [
       "     Reg. Year   Sex  Age                                Basic Qualification  \\\n",
       "66        2012  Male   61  MBBS from Regional Medical College Imphol Manipur   \n",
       "150       2014  Male   57                          MBBS University of Luknow   \n",
       "153       2014  Male   47                             MBBS Meerut University   \n",
       "217       2014  Male   62                          MBBS Sambalpur University   \n",
       "230       2014  Male   48                            MBBS Manipur University   \n",
       "239       2014  Male   50                             MBBS Magadh University   \n",
       "277       2014  Male   62     MBBS Assam Medical CollegeDibrugarh University   \n",
       "726       2014  Male   39    MBBS Gauhati Medical College Gauhati University   \n",
       "729       2014  Male   63                           MBBS Karnatak University   \n",
       "\n",
       "                              Additional Qualification        State  \n",
       "66   Diploma in Ophthalmic Medicine Surgery from Ch...      tripura  \n",
       "150                MSophthalmologyUniversity of Luknow      tripura  \n",
       "153                  MSOphthalmologyManipur University  west bengal  \n",
       "217                  MSOpthalmology Manipur University      tripura  \n",
       "230  Diploma in OphthalmologyMG Institute of Medica...      tripura  \n",
       "239                  MS Ophthalmology Patna University      tripura  \n",
       "277                  DO OpthalmologyGauhati University      tripura  \n",
       "726              MS Ophthalmology Dibrugarh University      tripura  \n",
       "729        Diploma in Ophthalmology Gauhati University      tripura  "
      ]
     },
     "execution_count": 103,
     "metadata": {},
     "output_type": "execute_result"
    }
   ],
   "source": [
    "df_doc[df_doc['Additional Qualification'].str.contains('Op|oph|Oph')==True]"
   ]
  },
  {
   "cell_type": "code",
   "execution_count": 104,
   "metadata": {},
   "outputs": [],
   "source": [
    "opthalmology_indices = df_doc[df_doc['Additional Qualification'].str.contains('Op|oph|Oph')==True].index\n",
    "\n",
    "### Discarding #66, considering in class Surgery\n",
    "\n",
    "for index in opthalmology_indices:\n",
    "    if index != np.int64(66):\n",
    "        list_specialization[index]='Opthalmology'"
   ]
  },
  {
   "cell_type": "code",
   "execution_count": 105,
   "metadata": {},
   "outputs": [
    {
     "data": {
      "text/plain": [
       "'Opthalmology'"
      ]
     },
     "execution_count": 105,
     "metadata": {},
     "output_type": "execute_result"
    }
   ],
   "source": [
    "list_specialization[217]"
   ]
  },
  {
   "cell_type": "markdown",
   "metadata": {},
   "source": [
    "#### Radiology/Radio Diagnosis/Radiation Medicine"
   ]
  },
  {
   "cell_type": "code",
   "execution_count": 106,
   "metadata": {},
   "outputs": [
    {
     "data": {
      "text/html": [
       "<div>\n",
       "<style scoped>\n",
       "    .dataframe tbody tr th:only-of-type {\n",
       "        vertical-align: middle;\n",
       "    }\n",
       "\n",
       "    .dataframe tbody tr th {\n",
       "        vertical-align: top;\n",
       "    }\n",
       "\n",
       "    .dataframe thead th {\n",
       "        text-align: right;\n",
       "    }\n",
       "</style>\n",
       "<table border=\"1\" class=\"dataframe\">\n",
       "  <thead>\n",
       "    <tr style=\"text-align: right;\">\n",
       "      <th></th>\n",
       "      <th>Reg. Year</th>\n",
       "      <th>Sex</th>\n",
       "      <th>Age</th>\n",
       "      <th>Basic Qualification</th>\n",
       "      <th>Additional Qualification</th>\n",
       "      <th>State</th>\n",
       "    </tr>\n",
       "  </thead>\n",
       "  <tbody>\n",
       "    <tr>\n",
       "      <th>132</th>\n",
       "      <td>2014</td>\n",
       "      <td>Male</td>\n",
       "      <td>59</td>\n",
       "      <td>MBBS University of Kerala</td>\n",
       "      <td>PGDDRM National Institute for the Orthopaedica...</td>\n",
       "      <td>tripura</td>\n",
       "    </tr>\n",
       "    <tr>\n",
       "      <th>160</th>\n",
       "      <td>2014</td>\n",
       "      <td>Male</td>\n",
       "      <td>42</td>\n",
       "      <td>MBBS University of Rajasthan Jaipur</td>\n",
       "      <td>MD Radio Diagnosis Tripura University</td>\n",
       "      <td>tripura</td>\n",
       "    </tr>\n",
       "    <tr>\n",
       "      <th>320</th>\n",
       "      <td>2014</td>\n",
       "      <td>Male</td>\n",
       "      <td>58</td>\n",
       "      <td>MBBS Ranchi University</td>\n",
       "      <td>MD Radiothrapy AIIMSNew Delhi</td>\n",
       "      <td>tripura</td>\n",
       "    </tr>\n",
       "    <tr>\n",
       "      <th>323</th>\n",
       "      <td>2014</td>\n",
       "      <td>Male</td>\n",
       "      <td>45</td>\n",
       "      <td>MBBSManipur University</td>\n",
       "      <td>MD Radio diagTripura University</td>\n",
       "      <td>tripura</td>\n",
       "    </tr>\n",
       "    <tr>\n",
       "      <th>332</th>\n",
       "      <td>2014</td>\n",
       "      <td>Male</td>\n",
       "      <td>61</td>\n",
       "      <td>MBBS Assam Medical ColleeDibrugarh University</td>\n",
       "      <td>DRM University of Bombay</td>\n",
       "      <td>tripura</td>\n",
       "    </tr>\n",
       "    <tr>\n",
       "      <th>796</th>\n",
       "      <td>2014</td>\n",
       "      <td>Male</td>\n",
       "      <td>70</td>\n",
       "      <td>MBBS Calcutta University</td>\n",
       "      <td>Diploma in Medical Radiology Therapeutic Calcu...</td>\n",
       "      <td>tripura</td>\n",
       "    </tr>\n",
       "  </tbody>\n",
       "</table>\n",
       "</div>"
      ],
      "text/plain": [
       "     Reg. Year   Sex  Age                            Basic Qualification  \\\n",
       "132       2014  Male   59                      MBBS University of Kerala   \n",
       "160       2014  Male   42            MBBS University of Rajasthan Jaipur   \n",
       "320       2014  Male   58                         MBBS Ranchi University   \n",
       "323       2014  Male   45                         MBBSManipur University   \n",
       "332       2014  Male   61  MBBS Assam Medical ColleeDibrugarh University   \n",
       "796       2014  Male   70                       MBBS Calcutta University   \n",
       "\n",
       "                              Additional Qualification    State  \n",
       "132  PGDDRM National Institute for the Orthopaedica...  tripura  \n",
       "160              MD Radio Diagnosis Tripura University  tripura  \n",
       "320                      MD Radiothrapy AIIMSNew Delhi  tripura  \n",
       "323                    MD Radio diagTripura University  tripura  \n",
       "332                           DRM University of Bombay  tripura  \n",
       "796  Diploma in Medical Radiology Therapeutic Calcu...  tripura  "
      ]
     },
     "execution_count": 106,
     "metadata": {},
     "output_type": "execute_result"
    }
   ],
   "source": [
    "df_doc[df_doc['Additional Qualification'].str.contains('Rad|DRM')==True]"
   ]
  },
  {
   "cell_type": "code",
   "execution_count": 107,
   "metadata": {},
   "outputs": [],
   "source": [
    "radiation_indices = df_doc[df_doc['Additional Qualification'].str.contains('Rad|DRM')==True].index\n",
    "\n",
    "### Dropping #132, considering in class Orthopaedics\n",
    "\n",
    "for index in radiation_indices:\n",
    "    if index != np.int64(132):\n",
    "        list_specialization[index]='Radiology/Radio Diagnosis/Radiation Medicine'"
   ]
  },
  {
   "cell_type": "markdown",
   "metadata": {},
   "source": [
    "#### Otorhinolaryngology/ENT"
   ]
  },
  {
   "cell_type": "code",
   "execution_count": 108,
   "metadata": {},
   "outputs": [
    {
     "data": {
      "text/html": [
       "<div>\n",
       "<style scoped>\n",
       "    .dataframe tbody tr th:only-of-type {\n",
       "        vertical-align: middle;\n",
       "    }\n",
       "\n",
       "    .dataframe tbody tr th {\n",
       "        vertical-align: top;\n",
       "    }\n",
       "\n",
       "    .dataframe thead th {\n",
       "        text-align: right;\n",
       "    }\n",
       "</style>\n",
       "<table border=\"1\" class=\"dataframe\">\n",
       "  <thead>\n",
       "    <tr style=\"text-align: right;\">\n",
       "      <th></th>\n",
       "      <th>Reg. Year</th>\n",
       "      <th>Sex</th>\n",
       "      <th>Age</th>\n",
       "      <th>Basic Qualification</th>\n",
       "      <th>Additional Qualification</th>\n",
       "      <th>State</th>\n",
       "    </tr>\n",
       "  </thead>\n",
       "  <tbody>\n",
       "    <tr>\n",
       "      <th>127</th>\n",
       "      <td>2014</td>\n",
       "      <td>Male</td>\n",
       "      <td>40</td>\n",
       "      <td>MBBS Regional Institute of Medical Sciences Im...</td>\n",
       "      <td>MSOtorhinolaryngology Manipur University</td>\n",
       "      <td>tripura</td>\n",
       "    </tr>\n",
       "    <tr>\n",
       "      <th>140</th>\n",
       "      <td>2014</td>\n",
       "      <td>Male</td>\n",
       "      <td>48</td>\n",
       "      <td>MBBS Barkatullah Viswabidyalaya Bhupal</td>\n",
       "      <td>MS ENT Tripura University</td>\n",
       "      <td>tripura</td>\n",
       "    </tr>\n",
       "    <tr>\n",
       "      <th>172</th>\n",
       "      <td>2014</td>\n",
       "      <td>Female</td>\n",
       "      <td>41</td>\n",
       "      <td>MBBSSaurashtra University</td>\n",
       "      <td>DLO Saurashtra University</td>\n",
       "      <td>tripura</td>\n",
       "    </tr>\n",
       "    <tr>\n",
       "      <th>211</th>\n",
       "      <td>2014</td>\n",
       "      <td>Male</td>\n",
       "      <td>50</td>\n",
       "      <td>MBBS Meerat Unineversity</td>\n",
       "      <td>MS ENT University of Allhabad</td>\n",
       "      <td>tripura</td>\n",
       "    </tr>\n",
       "    <tr>\n",
       "      <th>278</th>\n",
       "      <td>2014</td>\n",
       "      <td>Female</td>\n",
       "      <td>32</td>\n",
       "      <td>MBBS Silchar Medical College Gauhati University</td>\n",
       "      <td>DLO ENT Gauhati University</td>\n",
       "      <td>tripura</td>\n",
       "    </tr>\n",
       "    <tr>\n",
       "      <th>281</th>\n",
       "      <td>2014</td>\n",
       "      <td>Male</td>\n",
       "      <td>33</td>\n",
       "      <td>MBBS Gorakhpur University</td>\n",
       "      <td>MDENTTripura University</td>\n",
       "      <td>tripura</td>\n",
       "    </tr>\n",
       "    <tr>\n",
       "      <th>316</th>\n",
       "      <td>2014</td>\n",
       "      <td>Male</td>\n",
       "      <td>54</td>\n",
       "      <td>MBBS Regional Medical College Imphal Manipur U...</td>\n",
       "      <td>MSENT AIIMS New Delhi</td>\n",
       "      <td>tripura</td>\n",
       "    </tr>\n",
       "    <tr>\n",
       "      <th>318</th>\n",
       "      <td>2014</td>\n",
       "      <td>Male</td>\n",
       "      <td>64</td>\n",
       "      <td>MBBS Assam Medical ColleeDibrugarh University</td>\n",
       "      <td>DLO Calcutta University</td>\n",
       "      <td>tripura</td>\n",
       "    </tr>\n",
       "    <tr>\n",
       "      <th>328</th>\n",
       "      <td>2014</td>\n",
       "      <td>Male</td>\n",
       "      <td>37</td>\n",
       "      <td>MBBS Maharashtra University of Health Sciences...</td>\n",
       "      <td>MSOto Rhino Laryngology Maharashtra University...</td>\n",
       "      <td>tripura</td>\n",
       "    </tr>\n",
       "    <tr>\n",
       "      <th>577</th>\n",
       "      <td>2015</td>\n",
       "      <td>Male</td>\n",
       "      <td>36</td>\n",
       "      <td>MBBS Manipur University</td>\n",
       "      <td>MDENT Manipur University</td>\n",
       "      <td>tripura</td>\n",
       "    </tr>\n",
       "    <tr>\n",
       "      <th>799</th>\n",
       "      <td>2014</td>\n",
       "      <td>Male</td>\n",
       "      <td>53</td>\n",
       "      <td>MBBS Regional Medical College Imphal Manipur U...</td>\n",
       "      <td>MSOtorhinolaryngologyManipur University</td>\n",
       "      <td>tripura</td>\n",
       "    </tr>\n",
       "  </tbody>\n",
       "</table>\n",
       "</div>"
      ],
      "text/plain": [
       "     Reg. Year     Sex  Age  \\\n",
       "127       2014    Male   40   \n",
       "140       2014    Male   48   \n",
       "172       2014  Female   41   \n",
       "211       2014    Male   50   \n",
       "278       2014  Female   32   \n",
       "281       2014    Male   33   \n",
       "316       2014    Male   54   \n",
       "318       2014    Male   64   \n",
       "328       2014    Male   37   \n",
       "577       2015    Male   36   \n",
       "799       2014    Male   53   \n",
       "\n",
       "                                   Basic Qualification  \\\n",
       "127  MBBS Regional Institute of Medical Sciences Im...   \n",
       "140             MBBS Barkatullah Viswabidyalaya Bhupal   \n",
       "172                          MBBSSaurashtra University   \n",
       "211                           MBBS Meerat Unineversity   \n",
       "278    MBBS Silchar Medical College Gauhati University   \n",
       "281                          MBBS Gorakhpur University   \n",
       "316  MBBS Regional Medical College Imphal Manipur U...   \n",
       "318      MBBS Assam Medical ColleeDibrugarh University   \n",
       "328  MBBS Maharashtra University of Health Sciences...   \n",
       "577                            MBBS Manipur University   \n",
       "799  MBBS Regional Medical College Imphal Manipur U...   \n",
       "\n",
       "                              Additional Qualification    State  \n",
       "127           MSOtorhinolaryngology Manipur University  tripura  \n",
       "140                          MS ENT Tripura University  tripura  \n",
       "172                          DLO Saurashtra University  tripura  \n",
       "211                      MS ENT University of Allhabad  tripura  \n",
       "278                         DLO ENT Gauhati University  tripura  \n",
       "281                            MDENTTripura University  tripura  \n",
       "316                              MSENT AIIMS New Delhi  tripura  \n",
       "318                            DLO Calcutta University  tripura  \n",
       "328  MSOto Rhino Laryngology Maharashtra University...  tripura  \n",
       "577                           MDENT Manipur University  tripura  \n",
       "799            MSOtorhinolaryngologyManipur University  tripura  "
      ]
     },
     "execution_count": 108,
     "metadata": {},
     "output_type": "execute_result"
    }
   ],
   "source": [
    "df_doc[df_doc['Additional Qualification'].str.contains('laryn|DLO|Laryn|ENT')==True]"
   ]
  },
  {
   "cell_type": "code",
   "execution_count": 109,
   "metadata": {},
   "outputs": [],
   "source": [
    "ent_indices = df_doc[df_doc['Additional Qualification'].str.contains('laryn|DLO|Laryn|ENT')==True].index\n",
    "for index in ent_indices:\n",
    "    list_specialization[index]='Otorhinolaryngology/ENT'"
   ]
  },
  {
   "cell_type": "markdown",
   "metadata": {},
   "source": [
    "#### Pathology/Clinical Pathology"
   ]
  },
  {
   "cell_type": "code",
   "execution_count": 110,
   "metadata": {},
   "outputs": [
    {
     "data": {
      "text/html": [
       "<div>\n",
       "<style scoped>\n",
       "    .dataframe tbody tr th:only-of-type {\n",
       "        vertical-align: middle;\n",
       "    }\n",
       "\n",
       "    .dataframe tbody tr th {\n",
       "        vertical-align: top;\n",
       "    }\n",
       "\n",
       "    .dataframe thead th {\n",
       "        text-align: right;\n",
       "    }\n",
       "</style>\n",
       "<table border=\"1\" class=\"dataframe\">\n",
       "  <thead>\n",
       "    <tr style=\"text-align: right;\">\n",
       "      <th></th>\n",
       "      <th>Reg. Year</th>\n",
       "      <th>Sex</th>\n",
       "      <th>Age</th>\n",
       "      <th>Basic Qualification</th>\n",
       "      <th>Additional Qualification</th>\n",
       "      <th>State</th>\n",
       "    </tr>\n",
       "  </thead>\n",
       "  <tbody>\n",
       "    <tr>\n",
       "      <th>145</th>\n",
       "      <td>2014</td>\n",
       "      <td>Male</td>\n",
       "      <td>33</td>\n",
       "      <td>MBBS Rajib Gandhi University of Health Science</td>\n",
       "      <td>MD Pathology DY Patil University</td>\n",
       "      <td>tripura</td>\n",
       "    </tr>\n",
       "    <tr>\n",
       "      <th>155</th>\n",
       "      <td>2014</td>\n",
       "      <td>Male</td>\n",
       "      <td>53</td>\n",
       "      <td>MBBS University of Rajasthan</td>\n",
       "      <td>MDPathology Nagpur University</td>\n",
       "      <td>tripura</td>\n",
       "    </tr>\n",
       "    <tr>\n",
       "      <th>156</th>\n",
       "      <td>2014</td>\n",
       "      <td>Male</td>\n",
       "      <td>59</td>\n",
       "      <td>MBBS Bhopal University</td>\n",
       "      <td>MDPathology Bhopal University</td>\n",
       "      <td>tripura</td>\n",
       "    </tr>\n",
       "    <tr>\n",
       "      <th>170</th>\n",
       "      <td>2014</td>\n",
       "      <td>Male</td>\n",
       "      <td>60</td>\n",
       "      <td>MBBS Manipur University</td>\n",
       "      <td>DCPManipur University</td>\n",
       "      <td>tripura</td>\n",
       "    </tr>\n",
       "    <tr>\n",
       "      <th>275</th>\n",
       "      <td>2014</td>\n",
       "      <td>Female</td>\n",
       "      <td>43</td>\n",
       "      <td>MBBS Regional Institute of Medical SciencesImp...</td>\n",
       "      <td>DCP Manipur University</td>\n",
       "      <td>tripura</td>\n",
       "    </tr>\n",
       "    <tr>\n",
       "      <th>543</th>\n",
       "      <td>2015</td>\n",
       "      <td>Male</td>\n",
       "      <td>32</td>\n",
       "      <td>MBBS Agartala Government Medical College Tripu...</td>\n",
       "      <td>MD Pathology Manipal University</td>\n",
       "      <td>tripura</td>\n",
       "    </tr>\n",
       "    <tr>\n",
       "      <th>668</th>\n",
       "      <td>2013</td>\n",
       "      <td>Male</td>\n",
       "      <td>64</td>\n",
       "      <td>MBBS RMC Imphal Under Guwahati</td>\n",
       "      <td>DCP Under Calcutta University</td>\n",
       "      <td>tripura</td>\n",
       "    </tr>\n",
       "  </tbody>\n",
       "</table>\n",
       "</div>"
      ],
      "text/plain": [
       "     Reg. Year     Sex  Age  \\\n",
       "145       2014    Male   33   \n",
       "155       2014    Male   53   \n",
       "156       2014    Male   59   \n",
       "170       2014    Male   60   \n",
       "275       2014  Female   43   \n",
       "543       2015    Male   32   \n",
       "668       2013    Male   64   \n",
       "\n",
       "                                   Basic Qualification  \\\n",
       "145     MBBS Rajib Gandhi University of Health Science   \n",
       "155                       MBBS University of Rajasthan   \n",
       "156                             MBBS Bhopal University   \n",
       "170                            MBBS Manipur University   \n",
       "275  MBBS Regional Institute of Medical SciencesImp...   \n",
       "543  MBBS Agartala Government Medical College Tripu...   \n",
       "668                     MBBS RMC Imphal Under Guwahati   \n",
       "\n",
       "             Additional Qualification    State  \n",
       "145  MD Pathology DY Patil University  tripura  \n",
       "155     MDPathology Nagpur University  tripura  \n",
       "156     MDPathology Bhopal University  tripura  \n",
       "170             DCPManipur University  tripura  \n",
       "275            DCP Manipur University  tripura  \n",
       "543   MD Pathology Manipal University  tripura  \n",
       "668     DCP Under Calcutta University  tripura  "
      ]
     },
     "execution_count": 110,
     "metadata": {},
     "output_type": "execute_result"
    }
   ],
   "source": [
    "df_doc[df_doc['Additional Qualification'].str.contains('Path|DCP|path')==True]"
   ]
  },
  {
   "cell_type": "code",
   "execution_count": 111,
   "metadata": {},
   "outputs": [],
   "source": [
    "pathology_indices = df_doc[df_doc['Additional Qualification'].str.contains('Path|DCP|path')==True].index\n",
    "for index in pathology_indices:\n",
    "    list_specialization[index]='Pathology/Clinical Pathology'"
   ]
  },
  {
   "cell_type": "markdown",
   "metadata": {},
   "source": [
    "#### Orthopeadics"
   ]
  },
  {
   "cell_type": "code",
   "execution_count": 112,
   "metadata": {},
   "outputs": [
    {
     "data": {
      "text/html": [
       "<div>\n",
       "<style scoped>\n",
       "    .dataframe tbody tr th:only-of-type {\n",
       "        vertical-align: middle;\n",
       "    }\n",
       "\n",
       "    .dataframe tbody tr th {\n",
       "        vertical-align: top;\n",
       "    }\n",
       "\n",
       "    .dataframe thead th {\n",
       "        text-align: right;\n",
       "    }\n",
       "</style>\n",
       "<table border=\"1\" class=\"dataframe\">\n",
       "  <thead>\n",
       "    <tr style=\"text-align: right;\">\n",
       "      <th></th>\n",
       "      <th>Reg. Year</th>\n",
       "      <th>Sex</th>\n",
       "      <th>Age</th>\n",
       "      <th>Basic Qualification</th>\n",
       "      <th>Additional Qualification</th>\n",
       "      <th>State</th>\n",
       "    </tr>\n",
       "  </thead>\n",
       "  <tbody>\n",
       "    <tr>\n",
       "      <th>132</th>\n",
       "      <td>2014</td>\n",
       "      <td>Male</td>\n",
       "      <td>59</td>\n",
       "      <td>MBBS University of Kerala</td>\n",
       "      <td>PGDDRM National Institute for the Orthopaedica...</td>\n",
       "      <td>tripura</td>\n",
       "    </tr>\n",
       "    <tr>\n",
       "      <th>133</th>\n",
       "      <td>2014</td>\n",
       "      <td>Male</td>\n",
       "      <td>51</td>\n",
       "      <td>MBBS Manipur University</td>\n",
       "      <td>Post Graduate Diploma in Orthopaedics Nagpur U...</td>\n",
       "      <td>tripura</td>\n",
       "    </tr>\n",
       "    <tr>\n",
       "      <th>134</th>\n",
       "      <td>2014</td>\n",
       "      <td>Male</td>\n",
       "      <td>56</td>\n",
       "      <td>MBBS University of Sambalpur</td>\n",
       "      <td>MS OrthopaedicsManipur University</td>\n",
       "      <td>tripura</td>\n",
       "    </tr>\n",
       "    <tr>\n",
       "      <th>142</th>\n",
       "      <td>2014</td>\n",
       "      <td>Male</td>\n",
       "      <td>63</td>\n",
       "      <td>MBBS University of Kerala</td>\n",
       "      <td>MSOrtho U Calcutta</td>\n",
       "      <td>tripura</td>\n",
       "    </tr>\n",
       "    <tr>\n",
       "      <th>381</th>\n",
       "      <td>2015</td>\n",
       "      <td>Male</td>\n",
       "      <td>67</td>\n",
       "      <td>MBBS Dibrugarh University</td>\n",
       "      <td>MS Orthopaedics Calcutta University</td>\n",
       "      <td>tripura</td>\n",
       "    </tr>\n",
       "    <tr>\n",
       "      <th>383</th>\n",
       "      <td>2015</td>\n",
       "      <td>Male</td>\n",
       "      <td>47</td>\n",
       "      <td>MBBS Manipur University</td>\n",
       "      <td>MSOrthopaedic Manipur University</td>\n",
       "      <td>tripura</td>\n",
       "    </tr>\n",
       "    <tr>\n",
       "      <th>533</th>\n",
       "      <td>2015</td>\n",
       "      <td>Male</td>\n",
       "      <td>37</td>\n",
       "      <td>MBBS Manipur University</td>\n",
       "      <td>MSOrtho Tripura University</td>\n",
       "      <td>tripura</td>\n",
       "    </tr>\n",
       "    <tr>\n",
       "      <th>701</th>\n",
       "      <td>2014</td>\n",
       "      <td>Male</td>\n",
       "      <td>66</td>\n",
       "      <td>MBBS Under Dibrugarh University</td>\n",
       "      <td>D Ortho Under Calcutta University</td>\n",
       "      <td>tripura</td>\n",
       "    </tr>\n",
       "  </tbody>\n",
       "</table>\n",
       "</div>"
      ],
      "text/plain": [
       "     Reg. Year   Sex  Age              Basic Qualification  \\\n",
       "132       2014  Male   59        MBBS University of Kerala   \n",
       "133       2014  Male   51          MBBS Manipur University   \n",
       "134       2014  Male   56     MBBS University of Sambalpur   \n",
       "142       2014  Male   63        MBBS University of Kerala   \n",
       "381       2015  Male   67        MBBS Dibrugarh University   \n",
       "383       2015  Male   47          MBBS Manipur University   \n",
       "533       2015  Male   37          MBBS Manipur University   \n",
       "701       2014  Male   66  MBBS Under Dibrugarh University   \n",
       "\n",
       "                              Additional Qualification    State  \n",
       "132  PGDDRM National Institute for the Orthopaedica...  tripura  \n",
       "133  Post Graduate Diploma in Orthopaedics Nagpur U...  tripura  \n",
       "134                  MS OrthopaedicsManipur University  tripura  \n",
       "142                                 MSOrtho U Calcutta  tripura  \n",
       "381                MS Orthopaedics Calcutta University  tripura  \n",
       "383                   MSOrthopaedic Manipur University  tripura  \n",
       "533                         MSOrtho Tripura University  tripura  \n",
       "701                  D Ortho Under Calcutta University  tripura  "
      ]
     },
     "execution_count": 112,
     "metadata": {},
     "output_type": "execute_result"
    }
   ],
   "source": [
    "df_doc[df_doc['Additional Qualification'].str.contains('Orth|orth')==True]"
   ]
  },
  {
   "cell_type": "code",
   "execution_count": 113,
   "metadata": {},
   "outputs": [],
   "source": [
    "ortho_indices = df_doc[df_doc['Additional Qualification'].str.contains('Orth')==True].index\n",
    "for index in ortho_indices:\n",
    "    list_specialization[index]='Orthopaedics'"
   ]
  },
  {
   "cell_type": "markdown",
   "metadata": {},
   "source": [
    "#### Dermatology/Venerology/Leprosy"
   ]
  },
  {
   "cell_type": "code",
   "execution_count": 114,
   "metadata": {},
   "outputs": [
    {
     "data": {
      "text/html": [
       "<div>\n",
       "<style scoped>\n",
       "    .dataframe tbody tr th:only-of-type {\n",
       "        vertical-align: middle;\n",
       "    }\n",
       "\n",
       "    .dataframe tbody tr th {\n",
       "        vertical-align: top;\n",
       "    }\n",
       "\n",
       "    .dataframe thead th {\n",
       "        text-align: right;\n",
       "    }\n",
       "</style>\n",
       "<table border=\"1\" class=\"dataframe\">\n",
       "  <thead>\n",
       "    <tr style=\"text-align: right;\">\n",
       "      <th></th>\n",
       "      <th>Reg. Year</th>\n",
       "      <th>Sex</th>\n",
       "      <th>Age</th>\n",
       "      <th>Basic Qualification</th>\n",
       "      <th>Additional Qualification</th>\n",
       "      <th>State</th>\n",
       "    </tr>\n",
       "  </thead>\n",
       "  <tbody>\n",
       "    <tr>\n",
       "      <th>99</th>\n",
       "      <td>2014</td>\n",
       "      <td>Male</td>\n",
       "      <td>37</td>\n",
       "      <td>MBBS LN Mithila University</td>\n",
       "      <td>MDDermatology Venereology Leprosy Manipur Univ...</td>\n",
       "      <td>tripura</td>\n",
       "    </tr>\n",
       "    <tr>\n",
       "      <th>373</th>\n",
       "      <td>2014</td>\n",
       "      <td>Female</td>\n",
       "      <td>56</td>\n",
       "      <td>MBBS Utkal University</td>\n",
       "      <td>MD Dermatology Venereology AIIMS New Delhi</td>\n",
       "      <td>tripura</td>\n",
       "    </tr>\n",
       "  </tbody>\n",
       "</table>\n",
       "</div>"
      ],
      "text/plain": [
       "     Reg. Year     Sex  Age         Basic Qualification  \\\n",
       "99        2014    Male   37  MBBS LN Mithila University   \n",
       "373       2014  Female   56       MBBS Utkal University   \n",
       "\n",
       "                              Additional Qualification    State  \n",
       "99   MDDermatology Venereology Leprosy Manipur Univ...  tripura  \n",
       "373         MD Dermatology Venereology AIIMS New Delhi  tripura  "
      ]
     },
     "execution_count": 114,
     "metadata": {},
     "output_type": "execute_result"
    }
   ],
   "source": [
    "df_doc[df_doc['Additional Qualification'].str.contains('Derm|derm')==True]"
   ]
  },
  {
   "cell_type": "code",
   "execution_count": 115,
   "metadata": {},
   "outputs": [],
   "source": [
    "derm_indices = df_doc[df_doc['Additional Qualification'].str.contains('Derm|derm')==True].index\n",
    "for index in derm_indices:\n",
    "    list_specialization[index]='Dermatology/Venerology/Leprosy'"
   ]
  },
  {
   "cell_type": "markdown",
   "metadata": {},
   "source": [
    "#### Pharmacology"
   ]
  },
  {
   "cell_type": "code",
   "execution_count": 116,
   "metadata": {},
   "outputs": [
    {
     "data": {
      "text/html": [
       "<div>\n",
       "<style scoped>\n",
       "    .dataframe tbody tr th:only-of-type {\n",
       "        vertical-align: middle;\n",
       "    }\n",
       "\n",
       "    .dataframe tbody tr th {\n",
       "        vertical-align: top;\n",
       "    }\n",
       "\n",
       "    .dataframe thead th {\n",
       "        text-align: right;\n",
       "    }\n",
       "</style>\n",
       "<table border=\"1\" class=\"dataframe\">\n",
       "  <thead>\n",
       "    <tr style=\"text-align: right;\">\n",
       "      <th></th>\n",
       "      <th>Reg. Year</th>\n",
       "      <th>Sex</th>\n",
       "      <th>Age</th>\n",
       "      <th>Basic Qualification</th>\n",
       "      <th>Additional Qualification</th>\n",
       "      <th>State</th>\n",
       "    </tr>\n",
       "  </thead>\n",
       "  <tbody>\n",
       "    <tr>\n",
       "      <th>357</th>\n",
       "      <td>2014</td>\n",
       "      <td>Female</td>\n",
       "      <td>33</td>\n",
       "      <td>MBBS RIMS Manipur University</td>\n",
       "      <td>MD Pharmacology RIMS Manipur University</td>\n",
       "      <td>tripura</td>\n",
       "    </tr>\n",
       "    <tr>\n",
       "      <th>578</th>\n",
       "      <td>2015</td>\n",
       "      <td>Male</td>\n",
       "      <td>33</td>\n",
       "      <td>MBBS Manipur University</td>\n",
       "      <td>MDPharmacology Manipur University</td>\n",
       "      <td>tripura</td>\n",
       "    </tr>\n",
       "  </tbody>\n",
       "</table>\n",
       "</div>"
      ],
      "text/plain": [
       "     Reg. Year     Sex  Age           Basic Qualification  \\\n",
       "357       2014  Female   33  MBBS RIMS Manipur University   \n",
       "578       2015    Male   33       MBBS Manipur University   \n",
       "\n",
       "                    Additional Qualification    State  \n",
       "357  MD Pharmacology RIMS Manipur University  tripura  \n",
       "578        MDPharmacology Manipur University  tripura  "
      ]
     },
     "execution_count": 116,
     "metadata": {},
     "output_type": "execute_result"
    }
   ],
   "source": [
    "df_doc[df_doc['Additional Qualification'].str.contains('Pharm|pharm')==True]"
   ]
  },
  {
   "cell_type": "code",
   "execution_count": 117,
   "metadata": {},
   "outputs": [],
   "source": [
    "pharm_indices = df_doc[df_doc['Additional Qualification'].str.contains('Pharm|pharm')==True].index\n",
    "for index in pharm_indices:\n",
    "    list_specialization[index]='Pharmacology'"
   ]
  },
  {
   "cell_type": "markdown",
   "metadata": {},
   "source": [
    "####  Anaesthesiology"
   ]
  },
  {
   "cell_type": "code",
   "execution_count": 118,
   "metadata": {},
   "outputs": [
    {
     "data": {
      "text/html": [
       "<div>\n",
       "<style scoped>\n",
       "    .dataframe tbody tr th:only-of-type {\n",
       "        vertical-align: middle;\n",
       "    }\n",
       "\n",
       "    .dataframe tbody tr th {\n",
       "        vertical-align: top;\n",
       "    }\n",
       "\n",
       "    .dataframe thead th {\n",
       "        text-align: right;\n",
       "    }\n",
       "</style>\n",
       "<table border=\"1\" class=\"dataframe\">\n",
       "  <thead>\n",
       "    <tr style=\"text-align: right;\">\n",
       "      <th></th>\n",
       "      <th>Reg. Year</th>\n",
       "      <th>Sex</th>\n",
       "      <th>Age</th>\n",
       "      <th>Basic Qualification</th>\n",
       "      <th>Additional Qualification</th>\n",
       "      <th>State</th>\n",
       "    </tr>\n",
       "  </thead>\n",
       "  <tbody>\n",
       "    <tr>\n",
       "      <th>117</th>\n",
       "      <td>2014</td>\n",
       "      <td>Male</td>\n",
       "      <td>50</td>\n",
       "      <td>MBBS Regional Institute of Medical Sciences Im...</td>\n",
       "      <td>Diploma in Anaesthesiology Manipur University</td>\n",
       "      <td>tripura</td>\n",
       "    </tr>\n",
       "    <tr>\n",
       "      <th>161</th>\n",
       "      <td>2014</td>\n",
       "      <td>Male</td>\n",
       "      <td>40</td>\n",
       "      <td>MBBS Regional Institute of Medical Sciences Im...</td>\n",
       "      <td>MD Anaesthesiology Tripura University</td>\n",
       "      <td>tripura</td>\n",
       "    </tr>\n",
       "    <tr>\n",
       "      <th>216</th>\n",
       "      <td>2014</td>\n",
       "      <td>Male</td>\n",
       "      <td>55</td>\n",
       "      <td>MBBS Regional Institute of Medical Sciences Im...</td>\n",
       "      <td>PG Diploma Anaesthesiology ManipurUniversity</td>\n",
       "      <td>tripura</td>\n",
       "    </tr>\n",
       "    <tr>\n",
       "      <th>240</th>\n",
       "      <td>2014</td>\n",
       "      <td>Male</td>\n",
       "      <td>52</td>\n",
       "      <td>MBBS Regional Medical College Imphal Manipur U...</td>\n",
       "      <td>PG Diploma in Anaesthesiology Manipur University</td>\n",
       "      <td>tripura</td>\n",
       "    </tr>\n",
       "    <tr>\n",
       "      <th>384</th>\n",
       "      <td>2015</td>\n",
       "      <td>Male</td>\n",
       "      <td>32</td>\n",
       "      <td>MBBS Rani Durgawati Vishwavidyalaya</td>\n",
       "      <td>MD Anaesthesiology Tripura University</td>\n",
       "      <td>tripura</td>\n",
       "    </tr>\n",
       "    <tr>\n",
       "      <th>536</th>\n",
       "      <td>2015</td>\n",
       "      <td>Male</td>\n",
       "      <td>44</td>\n",
       "      <td>MBBS Regional Institute of Medical Sciences Im...</td>\n",
       "      <td>MDAnaesthesiology Regional Institute of Medica...</td>\n",
       "      <td>tripura</td>\n",
       "    </tr>\n",
       "    <tr>\n",
       "      <th>565</th>\n",
       "      <td>2015</td>\n",
       "      <td>Male</td>\n",
       "      <td>33</td>\n",
       "      <td>MBBS The West Bengal University of Health Scie...</td>\n",
       "      <td>MDAnaes Tripura University</td>\n",
       "      <td>west bengal</td>\n",
       "    </tr>\n",
       "  </tbody>\n",
       "</table>\n",
       "</div>"
      ],
      "text/plain": [
       "     Reg. Year   Sex  Age                                Basic Qualification  \\\n",
       "117       2014  Male   50  MBBS Regional Institute of Medical Sciences Im...   \n",
       "161       2014  Male   40  MBBS Regional Institute of Medical Sciences Im...   \n",
       "216       2014  Male   55  MBBS Regional Institute of Medical Sciences Im...   \n",
       "240       2014  Male   52  MBBS Regional Medical College Imphal Manipur U...   \n",
       "384       2015  Male   32                MBBS Rani Durgawati Vishwavidyalaya   \n",
       "536       2015  Male   44  MBBS Regional Institute of Medical Sciences Im...   \n",
       "565       2015  Male   33  MBBS The West Bengal University of Health Scie...   \n",
       "\n",
       "                              Additional Qualification        State  \n",
       "117      Diploma in Anaesthesiology Manipur University      tripura  \n",
       "161              MD Anaesthesiology Tripura University      tripura  \n",
       "216       PG Diploma Anaesthesiology ManipurUniversity      tripura  \n",
       "240   PG Diploma in Anaesthesiology Manipur University      tripura  \n",
       "384              MD Anaesthesiology Tripura University      tripura  \n",
       "536  MDAnaesthesiology Regional Institute of Medica...      tripura  \n",
       "565                         MDAnaes Tripura University  west bengal  "
      ]
     },
     "execution_count": 118,
     "metadata": {},
     "output_type": "execute_result"
    }
   ],
   "source": [
    "df_doc[df_doc['Additional Qualification'].str.contains('Anaes|anaes')==True]"
   ]
  },
  {
   "cell_type": "code",
   "execution_count": 119,
   "metadata": {},
   "outputs": [],
   "source": [
    "anaes_indices = df_doc[df_doc['Additional Qualification'].str.contains('Anaes|anaes')==True].index\n",
    "for index in anaes_indices:\n",
    "    list_specialization[index]='Anaesthesiology'"
   ]
  },
  {
   "cell_type": "markdown",
   "metadata": {},
   "source": [
    "#### Microbiology"
   ]
  },
  {
   "cell_type": "code",
   "execution_count": 120,
   "metadata": {},
   "outputs": [
    {
     "data": {
      "text/html": [
       "<div>\n",
       "<style scoped>\n",
       "    .dataframe tbody tr th:only-of-type {\n",
       "        vertical-align: middle;\n",
       "    }\n",
       "\n",
       "    .dataframe tbody tr th {\n",
       "        vertical-align: top;\n",
       "    }\n",
       "\n",
       "    .dataframe thead th {\n",
       "        text-align: right;\n",
       "    }\n",
       "</style>\n",
       "<table border=\"1\" class=\"dataframe\">\n",
       "  <thead>\n",
       "    <tr style=\"text-align: right;\">\n",
       "      <th></th>\n",
       "      <th>Reg. Year</th>\n",
       "      <th>Sex</th>\n",
       "      <th>Age</th>\n",
       "      <th>Basic Qualification</th>\n",
       "      <th>Additional Qualification</th>\n",
       "      <th>State</th>\n",
       "    </tr>\n",
       "  </thead>\n",
       "  <tbody>\n",
       "    <tr>\n",
       "      <th>232</th>\n",
       "      <td>2014</td>\n",
       "      <td>Male</td>\n",
       "      <td>54</td>\n",
       "      <td>MBBS Manipur University</td>\n",
       "      <td>MDMicrobiology University of Nagpur</td>\n",
       "      <td>tripura</td>\n",
       "    </tr>\n",
       "    <tr>\n",
       "      <th>340</th>\n",
       "      <td>2014</td>\n",
       "      <td>Male</td>\n",
       "      <td>35</td>\n",
       "      <td>MBBS Assam Medical College Dibrugarh University</td>\n",
       "      <td>MD Microbiolory Tripura University</td>\n",
       "      <td>tripura</td>\n",
       "    </tr>\n",
       "    <tr>\n",
       "      <th>379</th>\n",
       "      <td>2014</td>\n",
       "      <td>Male</td>\n",
       "      <td>48</td>\n",
       "      <td>MBBS Regional Medical College Imphal Manipur U...</td>\n",
       "      <td>MD MicrobiologyMG Institute of Medical Science...</td>\n",
       "      <td>tripura</td>\n",
       "    </tr>\n",
       "  </tbody>\n",
       "</table>\n",
       "</div>"
      ],
      "text/plain": [
       "     Reg. Year   Sex  Age                                Basic Qualification  \\\n",
       "232       2014  Male   54                            MBBS Manipur University   \n",
       "340       2014  Male   35    MBBS Assam Medical College Dibrugarh University   \n",
       "379       2014  Male   48  MBBS Regional Medical College Imphal Manipur U...   \n",
       "\n",
       "                              Additional Qualification    State  \n",
       "232                MDMicrobiology University of Nagpur  tripura  \n",
       "340                 MD Microbiolory Tripura University  tripura  \n",
       "379  MD MicrobiologyMG Institute of Medical Science...  tripura  "
      ]
     },
     "execution_count": 120,
     "metadata": {},
     "output_type": "execute_result"
    }
   ],
   "source": [
    "df_doc[df_doc['Additional Qualification'].str.contains('Micro|micro')==True]"
   ]
  },
  {
   "cell_type": "code",
   "execution_count": 121,
   "metadata": {},
   "outputs": [],
   "source": [
    "microbio_indices = df_doc[df_doc['Additional Qualification'].str.contains('Micro|micro')==True].index\n",
    "for index in microbio_indices:\n",
    "    list_specialization[index]='Microbiology'"
   ]
  },
  {
   "cell_type": "markdown",
   "metadata": {},
   "source": [
    "#### Biochemistry"
   ]
  },
  {
   "cell_type": "code",
   "execution_count": 122,
   "metadata": {},
   "outputs": [
    {
     "data": {
      "text/html": [
       "<div>\n",
       "<style scoped>\n",
       "    .dataframe tbody tr th:only-of-type {\n",
       "        vertical-align: middle;\n",
       "    }\n",
       "\n",
       "    .dataframe tbody tr th {\n",
       "        vertical-align: top;\n",
       "    }\n",
       "\n",
       "    .dataframe thead th {\n",
       "        text-align: right;\n",
       "    }\n",
       "</style>\n",
       "<table border=\"1\" class=\"dataframe\">\n",
       "  <thead>\n",
       "    <tr style=\"text-align: right;\">\n",
       "      <th></th>\n",
       "      <th>Reg. Year</th>\n",
       "      <th>Sex</th>\n",
       "      <th>Age</th>\n",
       "      <th>Basic Qualification</th>\n",
       "      <th>Additional Qualification</th>\n",
       "      <th>State</th>\n",
       "    </tr>\n",
       "  </thead>\n",
       "  <tbody>\n",
       "    <tr>\n",
       "      <th>254</th>\n",
       "      <td>2014</td>\n",
       "      <td>Male</td>\n",
       "      <td>42</td>\n",
       "      <td>MBBS Regional Institute of Medical SciencesMan...</td>\n",
       "      <td>MDBioChemistryManipur University</td>\n",
       "      <td>tripura</td>\n",
       "    </tr>\n",
       "    <tr>\n",
       "      <th>371</th>\n",
       "      <td>2014</td>\n",
       "      <td>Male</td>\n",
       "      <td>75</td>\n",
       "      <td>MBBS Karnatak University</td>\n",
       "      <td>MD BioChem Manipur University</td>\n",
       "      <td>tripura</td>\n",
       "    </tr>\n",
       "  </tbody>\n",
       "</table>\n",
       "</div>"
      ],
      "text/plain": [
       "     Reg. Year   Sex  Age                                Basic Qualification  \\\n",
       "254       2014  Male   42  MBBS Regional Institute of Medical SciencesMan...   \n",
       "371       2014  Male   75                           MBBS Karnatak University   \n",
       "\n",
       "             Additional Qualification    State  \n",
       "254  MDBioChemistryManipur University  tripura  \n",
       "371     MD BioChem Manipur University  tripura  "
      ]
     },
     "execution_count": 122,
     "metadata": {},
     "output_type": "execute_result"
    }
   ],
   "source": [
    "df_doc[df_doc['Additional Qualification'].str.contains('Bio')==True]"
   ]
  },
  {
   "cell_type": "code",
   "execution_count": 123,
   "metadata": {},
   "outputs": [],
   "source": [
    "biochem_indices = df_doc[df_doc['Additional Qualification'].str.contains('Bio')==True].index\n",
    "for index in biochem_indices:\n",
    "    list_specialization[index]='Biochemistry'"
   ]
  },
  {
   "cell_type": "markdown",
   "metadata": {},
   "source": [
    "#### Public Health"
   ]
  },
  {
   "cell_type": "code",
   "execution_count": 124,
   "metadata": {},
   "outputs": [
    {
     "data": {
      "text/html": [
       "<div>\n",
       "<style scoped>\n",
       "    .dataframe tbody tr th:only-of-type {\n",
       "        vertical-align: middle;\n",
       "    }\n",
       "\n",
       "    .dataframe tbody tr th {\n",
       "        vertical-align: top;\n",
       "    }\n",
       "\n",
       "    .dataframe thead th {\n",
       "        text-align: right;\n",
       "    }\n",
       "</style>\n",
       "<table border=\"1\" class=\"dataframe\">\n",
       "  <thead>\n",
       "    <tr style=\"text-align: right;\">\n",
       "      <th></th>\n",
       "      <th>Reg. Year</th>\n",
       "      <th>Sex</th>\n",
       "      <th>Age</th>\n",
       "      <th>Basic Qualification</th>\n",
       "      <th>Additional Qualification</th>\n",
       "      <th>State</th>\n",
       "    </tr>\n",
       "  </thead>\n",
       "  <tbody>\n",
       "    <tr>\n",
       "      <th>245</th>\n",
       "      <td>2014</td>\n",
       "      <td>Male</td>\n",
       "      <td>62</td>\n",
       "      <td>MBBS Kerala University</td>\n",
       "      <td>DPH University of Calcutta</td>\n",
       "      <td>tripura</td>\n",
       "    </tr>\n",
       "    <tr>\n",
       "      <th>292</th>\n",
       "      <td>2014</td>\n",
       "      <td>Male</td>\n",
       "      <td>64</td>\n",
       "      <td>MBBS Lucknow University</td>\n",
       "      <td>DPH Calcutta University</td>\n",
       "      <td>tripura</td>\n",
       "    </tr>\n",
       "    <tr>\n",
       "      <th>298</th>\n",
       "      <td>2014</td>\n",
       "      <td>Male</td>\n",
       "      <td>71</td>\n",
       "      <td>MBBS Assam Medical College Dibrugarh University</td>\n",
       "      <td>Diploma in Publice Health University of Calcutta</td>\n",
       "      <td>tripura</td>\n",
       "    </tr>\n",
       "  </tbody>\n",
       "</table>\n",
       "</div>"
      ],
      "text/plain": [
       "     Reg. Year   Sex  Age                              Basic Qualification  \\\n",
       "245       2014  Male   62                           MBBS Kerala University   \n",
       "292       2014  Male   64                          MBBS Lucknow University   \n",
       "298       2014  Male   71  MBBS Assam Medical College Dibrugarh University   \n",
       "\n",
       "                             Additional Qualification    State  \n",
       "245                        DPH University of Calcutta  tripura  \n",
       "292                           DPH Calcutta University  tripura  \n",
       "298  Diploma in Publice Health University of Calcutta  tripura  "
      ]
     },
     "execution_count": 124,
     "metadata": {},
     "output_type": "execute_result"
    }
   ],
   "source": [
    "df_doc[df_doc['Additional Qualification'].str.contains('DPH|dph|Publice Health')==True]"
   ]
  },
  {
   "cell_type": "code",
   "execution_count": 125,
   "metadata": {},
   "outputs": [],
   "source": [
    "dph_indices = df_doc[df_doc['Additional Qualification'].str.contains('DPH|dph|Publice Health')==True].index\n",
    "for index in dph_indices:\n",
    "    list_specialization[index]='Public Health'"
   ]
  },
  {
   "cell_type": "markdown",
   "metadata": {},
   "source": [
    "#### Medicine"
   ]
  },
  {
   "cell_type": "code",
   "execution_count": 126,
   "metadata": {},
   "outputs": [],
   "source": [
    "df_medicine = df_doc[df_doc['Additional Qualification'].str.contains('Medici|FM')==True]"
   ]
  },
  {
   "cell_type": "code",
   "execution_count": 127,
   "metadata": {},
   "outputs": [
    {
     "data": {
      "text/html": [
       "<div>\n",
       "<style scoped>\n",
       "    .dataframe tbody tr th:only-of-type {\n",
       "        vertical-align: middle;\n",
       "    }\n",
       "\n",
       "    .dataframe tbody tr th {\n",
       "        vertical-align: top;\n",
       "    }\n",
       "\n",
       "    .dataframe thead th {\n",
       "        text-align: right;\n",
       "    }\n",
       "</style>\n",
       "<table border=\"1\" class=\"dataframe\">\n",
       "  <thead>\n",
       "    <tr style=\"text-align: right;\">\n",
       "      <th></th>\n",
       "      <th>Reg. Year</th>\n",
       "      <th>Sex</th>\n",
       "      <th>Age</th>\n",
       "      <th>Basic Qualification</th>\n",
       "      <th>Additional Qualification</th>\n",
       "      <th>State</th>\n",
       "    </tr>\n",
       "  </thead>\n",
       "  <tbody>\n",
       "    <tr>\n",
       "      <th>66</th>\n",
       "      <td>2012</td>\n",
       "      <td>Male</td>\n",
       "      <td>61</td>\n",
       "      <td>MBBS from Regional Medical College Imphol Manipur</td>\n",
       "      <td>Diploma in Ophthalmic Medicine Surgery from Ch...</td>\n",
       "      <td>tripura</td>\n",
       "    </tr>\n",
       "    <tr>\n",
       "      <th>158</th>\n",
       "      <td>2014</td>\n",
       "      <td>Male</td>\n",
       "      <td>55</td>\n",
       "      <td>MBBS Regional Medical College Imphal Manupur U...</td>\n",
       "      <td>MD Forensic Medicine Manipur University</td>\n",
       "      <td>tripura</td>\n",
       "    </tr>\n",
       "    <tr>\n",
       "      <th>159</th>\n",
       "      <td>2014</td>\n",
       "      <td>Male</td>\n",
       "      <td>53</td>\n",
       "      <td>MBBS Regional Medical College Imphal Manupur U...</td>\n",
       "      <td>MDForensic Medicine Nagpur University</td>\n",
       "      <td>tripura</td>\n",
       "    </tr>\n",
       "    <tr>\n",
       "      <th>189</th>\n",
       "      <td>2014</td>\n",
       "      <td>Male</td>\n",
       "      <td>62</td>\n",
       "      <td>MBBS Ranchi University</td>\n",
       "      <td>Diploma in Sports Medicine Punjabi University</td>\n",
       "      <td>tripura</td>\n",
       "    </tr>\n",
       "    <tr>\n",
       "      <th>203</th>\n",
       "      <td>2014</td>\n",
       "      <td>Male</td>\n",
       "      <td>41</td>\n",
       "      <td>MBBS Regional Institute of Medical Sciences Im...</td>\n",
       "      <td>MD Community MedicineTripura University</td>\n",
       "      <td>tripura</td>\n",
       "    </tr>\n",
       "    <tr>\n",
       "      <th>204</th>\n",
       "      <td>2014</td>\n",
       "      <td>Female</td>\n",
       "      <td>32</td>\n",
       "      <td>MBBS Regional Institute of Medical Sciences Im...</td>\n",
       "      <td>MD Community MedicineManipur University</td>\n",
       "      <td>tripura</td>\n",
       "    </tr>\n",
       "    <tr>\n",
       "      <th>221</th>\n",
       "      <td>2014</td>\n",
       "      <td>Male</td>\n",
       "      <td>56</td>\n",
       "      <td>MBBS University of Kerala</td>\n",
       "      <td>MD Laboratory MedicineAIIMS New Delhi</td>\n",
       "      <td>tripura</td>\n",
       "    </tr>\n",
       "    <tr>\n",
       "      <th>226</th>\n",
       "      <td>2014</td>\n",
       "      <td>Male</td>\n",
       "      <td>56</td>\n",
       "      <td>MBBS Rani Durgavati Vishwavidyalaya</td>\n",
       "      <td>MD General MedicineManipur University</td>\n",
       "      <td>tripura</td>\n",
       "    </tr>\n",
       "    <tr>\n",
       "      <th>236</th>\n",
       "      <td>2014</td>\n",
       "      <td>Male</td>\n",
       "      <td>46</td>\n",
       "      <td>MBBS Patna University</td>\n",
       "      <td>MD General MedicineManipur University</td>\n",
       "      <td>tripura</td>\n",
       "    </tr>\n",
       "    <tr>\n",
       "      <th>260</th>\n",
       "      <td>2014</td>\n",
       "      <td>Male</td>\n",
       "      <td>51</td>\n",
       "      <td>MBBS SSMedical CollegeAPS University</td>\n",
       "      <td>MDGenMedicinesAPS University</td>\n",
       "      <td>tripura</td>\n",
       "    </tr>\n",
       "    <tr>\n",
       "      <th>267</th>\n",
       "      <td>2014</td>\n",
       "      <td>Male</td>\n",
       "      <td>33</td>\n",
       "      <td>MBBSDarbhanga Medical College HospL NMUniversity</td>\n",
       "      <td>MDGenMedicines West Bengal University of Healt...</td>\n",
       "      <td>tripura</td>\n",
       "    </tr>\n",
       "    <tr>\n",
       "      <th>282</th>\n",
       "      <td>2014</td>\n",
       "      <td>Male</td>\n",
       "      <td>53</td>\n",
       "      <td>MBBSMGIMSWardhaNagpur University</td>\n",
       "      <td>MD MedicineNagpur University</td>\n",
       "      <td>tripura</td>\n",
       "    </tr>\n",
       "    <tr>\n",
       "      <th>285</th>\n",
       "      <td>2014</td>\n",
       "      <td>Male</td>\n",
       "      <td>64</td>\n",
       "      <td>MBBS Bhagalpur University</td>\n",
       "      <td>MD Community Medicine Dibrugarh University</td>\n",
       "      <td>tripura</td>\n",
       "    </tr>\n",
       "    <tr>\n",
       "      <th>287</th>\n",
       "      <td>2014</td>\n",
       "      <td>Male</td>\n",
       "      <td>44</td>\n",
       "      <td>MBBS University of Maharshi Dayanand</td>\n",
       "      <td>MD Medicine University of Maharshi Dayanand</td>\n",
       "      <td>tripura</td>\n",
       "    </tr>\n",
       "    <tr>\n",
       "      <th>295</th>\n",
       "      <td>2014</td>\n",
       "      <td>Male</td>\n",
       "      <td>62</td>\n",
       "      <td>MBBS Regional Medical Sciences Imphal Manipur ...</td>\n",
       "      <td>MS General Medicine Manipur University</td>\n",
       "      <td>tripura</td>\n",
       "    </tr>\n",
       "    <tr>\n",
       "      <th>305</th>\n",
       "      <td>2014</td>\n",
       "      <td>Male</td>\n",
       "      <td>63</td>\n",
       "      <td>MBBS Regional Medical College Imphal Manipur U...</td>\n",
       "      <td>DC P Tropical Medicine Calcutta</td>\n",
       "      <td>tripura</td>\n",
       "    </tr>\n",
       "    <tr>\n",
       "      <th>306</th>\n",
       "      <td>2014</td>\n",
       "      <td>Male</td>\n",
       "      <td>46</td>\n",
       "      <td>MBBS University of Health Sciences AP June</td>\n",
       "      <td>MD General Medicine Manipur University</td>\n",
       "      <td>tripura</td>\n",
       "    </tr>\n",
       "    <tr>\n",
       "      <th>326</th>\n",
       "      <td>2014</td>\n",
       "      <td>Male</td>\n",
       "      <td>40</td>\n",
       "      <td>MBBS Regional Institute of Medical Sciences Im...</td>\n",
       "      <td>MD Community Medicine Tripura University</td>\n",
       "      <td>tripura</td>\n",
       "    </tr>\n",
       "    <tr>\n",
       "      <th>346</th>\n",
       "      <td>2014</td>\n",
       "      <td>Male</td>\n",
       "      <td>40</td>\n",
       "      <td>MBBS DDU Gorakhpur University Gorakhpur</td>\n",
       "      <td>MDGeneral Medicine Banaras Hindu University</td>\n",
       "      <td>tripura</td>\n",
       "    </tr>\n",
       "    <tr>\n",
       "      <th>523</th>\n",
       "      <td>2015</td>\n",
       "      <td>Male</td>\n",
       "      <td>57</td>\n",
       "      <td>MBBS Regional Institute of Medical Sciences Im...</td>\n",
       "      <td>MDFMT AIIMS New Delhi</td>\n",
       "      <td>tripura</td>\n",
       "    </tr>\n",
       "    <tr>\n",
       "      <th>542</th>\n",
       "      <td>2015</td>\n",
       "      <td>Female</td>\n",
       "      <td>33</td>\n",
       "      <td>MBBS Regional Institute of Medical Sciences Im...</td>\n",
       "      <td>MDGenMedicine Manipur University</td>\n",
       "      <td>tripura</td>\n",
       "    </tr>\n",
       "    <tr>\n",
       "      <th>700</th>\n",
       "      <td>2014</td>\n",
       "      <td>Male</td>\n",
       "      <td>65</td>\n",
       "      <td>MBBS Bhagalpur University</td>\n",
       "      <td>Diploma in Sport Medicine Under Panijala Unive...</td>\n",
       "      <td>tripura</td>\n",
       "    </tr>\n",
       "    <tr>\n",
       "      <th>708</th>\n",
       "      <td>2014</td>\n",
       "      <td>Male</td>\n",
       "      <td>46</td>\n",
       "      <td>MBBS Regional Institute of Medical Sciences Im...</td>\n",
       "      <td>MD Community Medicine Manupur University</td>\n",
       "      <td>tripura</td>\n",
       "    </tr>\n",
       "  </tbody>\n",
       "</table>\n",
       "</div>"
      ],
      "text/plain": [
       "     Reg. Year     Sex  Age  \\\n",
       "66        2012    Male   61   \n",
       "158       2014    Male   55   \n",
       "159       2014    Male   53   \n",
       "189       2014    Male   62   \n",
       "203       2014    Male   41   \n",
       "204       2014  Female   32   \n",
       "221       2014    Male   56   \n",
       "226       2014    Male   56   \n",
       "236       2014    Male   46   \n",
       "260       2014    Male   51   \n",
       "267       2014    Male   33   \n",
       "282       2014    Male   53   \n",
       "285       2014    Male   64   \n",
       "287       2014    Male   44   \n",
       "295       2014    Male   62   \n",
       "305       2014    Male   63   \n",
       "306       2014    Male   46   \n",
       "326       2014    Male   40   \n",
       "346       2014    Male   40   \n",
       "523       2015    Male   57   \n",
       "542       2015  Female   33   \n",
       "700       2014    Male   65   \n",
       "708       2014    Male   46   \n",
       "\n",
       "                                   Basic Qualification  \\\n",
       "66   MBBS from Regional Medical College Imphol Manipur   \n",
       "158  MBBS Regional Medical College Imphal Manupur U...   \n",
       "159  MBBS Regional Medical College Imphal Manupur U...   \n",
       "189                             MBBS Ranchi University   \n",
       "203  MBBS Regional Institute of Medical Sciences Im...   \n",
       "204  MBBS Regional Institute of Medical Sciences Im...   \n",
       "221                          MBBS University of Kerala   \n",
       "226                MBBS Rani Durgavati Vishwavidyalaya   \n",
       "236                              MBBS Patna University   \n",
       "260               MBBS SSMedical CollegeAPS University   \n",
       "267   MBBSDarbhanga Medical College HospL NMUniversity   \n",
       "282                   MBBSMGIMSWardhaNagpur University   \n",
       "285                          MBBS Bhagalpur University   \n",
       "287               MBBS University of Maharshi Dayanand   \n",
       "295  MBBS Regional Medical Sciences Imphal Manipur ...   \n",
       "305  MBBS Regional Medical College Imphal Manipur U...   \n",
       "306         MBBS University of Health Sciences AP June   \n",
       "326  MBBS Regional Institute of Medical Sciences Im...   \n",
       "346            MBBS DDU Gorakhpur University Gorakhpur   \n",
       "523  MBBS Regional Institute of Medical Sciences Im...   \n",
       "542  MBBS Regional Institute of Medical Sciences Im...   \n",
       "700                          MBBS Bhagalpur University   \n",
       "708  MBBS Regional Institute of Medical Sciences Im...   \n",
       "\n",
       "                              Additional Qualification    State  \n",
       "66   Diploma in Ophthalmic Medicine Surgery from Ch...  tripura  \n",
       "158            MD Forensic Medicine Manipur University  tripura  \n",
       "159              MDForensic Medicine Nagpur University  tripura  \n",
       "189      Diploma in Sports Medicine Punjabi University  tripura  \n",
       "203            MD Community MedicineTripura University  tripura  \n",
       "204            MD Community MedicineManipur University  tripura  \n",
       "221              MD Laboratory MedicineAIIMS New Delhi  tripura  \n",
       "226              MD General MedicineManipur University  tripura  \n",
       "236              MD General MedicineManipur University  tripura  \n",
       "260                       MDGenMedicinesAPS University  tripura  \n",
       "267  MDGenMedicines West Bengal University of Healt...  tripura  \n",
       "282                       MD MedicineNagpur University  tripura  \n",
       "285         MD Community Medicine Dibrugarh University  tripura  \n",
       "287        MD Medicine University of Maharshi Dayanand  tripura  \n",
       "295             MS General Medicine Manipur University  tripura  \n",
       "305                    DC P Tropical Medicine Calcutta  tripura  \n",
       "306             MD General Medicine Manipur University  tripura  \n",
       "326           MD Community Medicine Tripura University  tripura  \n",
       "346        MDGeneral Medicine Banaras Hindu University  tripura  \n",
       "523                              MDFMT AIIMS New Delhi  tripura  \n",
       "542                   MDGenMedicine Manipur University  tripura  \n",
       "700  Diploma in Sport Medicine Under Panijala Unive...  tripura  \n",
       "708           MD Community Medicine Manupur University  tripura  "
      ]
     },
     "execution_count": 127,
     "metadata": {},
     "output_type": "execute_result"
    }
   ],
   "source": [
    "df_medicine"
   ]
  },
  {
   "cell_type": "markdown",
   "metadata": {},
   "source": [
    "#### Sports Medicine"
   ]
  },
  {
   "cell_type": "code",
   "execution_count": 128,
   "metadata": {},
   "outputs": [
    {
     "data": {
      "text/html": [
       "<div>\n",
       "<style scoped>\n",
       "    .dataframe tbody tr th:only-of-type {\n",
       "        vertical-align: middle;\n",
       "    }\n",
       "\n",
       "    .dataframe tbody tr th {\n",
       "        vertical-align: top;\n",
       "    }\n",
       "\n",
       "    .dataframe thead th {\n",
       "        text-align: right;\n",
       "    }\n",
       "</style>\n",
       "<table border=\"1\" class=\"dataframe\">\n",
       "  <thead>\n",
       "    <tr style=\"text-align: right;\">\n",
       "      <th></th>\n",
       "      <th>Reg. Year</th>\n",
       "      <th>Sex</th>\n",
       "      <th>Age</th>\n",
       "      <th>Basic Qualification</th>\n",
       "      <th>Additional Qualification</th>\n",
       "      <th>State</th>\n",
       "    </tr>\n",
       "  </thead>\n",
       "  <tbody>\n",
       "    <tr>\n",
       "      <th>189</th>\n",
       "      <td>2014</td>\n",
       "      <td>Male</td>\n",
       "      <td>62</td>\n",
       "      <td>MBBS Ranchi University</td>\n",
       "      <td>Diploma in Sports Medicine Punjabi University</td>\n",
       "      <td>tripura</td>\n",
       "    </tr>\n",
       "    <tr>\n",
       "      <th>700</th>\n",
       "      <td>2014</td>\n",
       "      <td>Male</td>\n",
       "      <td>65</td>\n",
       "      <td>MBBS Bhagalpur University</td>\n",
       "      <td>Diploma in Sport Medicine Under Panijala Unive...</td>\n",
       "      <td>tripura</td>\n",
       "    </tr>\n",
       "  </tbody>\n",
       "</table>\n",
       "</div>"
      ],
      "text/plain": [
       "     Reg. Year   Sex  Age        Basic Qualification  \\\n",
       "189       2014  Male   62     MBBS Ranchi University   \n",
       "700       2014  Male   65  MBBS Bhagalpur University   \n",
       "\n",
       "                              Additional Qualification    State  \n",
       "189      Diploma in Sports Medicine Punjabi University  tripura  \n",
       "700  Diploma in Sport Medicine Under Panijala Unive...  tripura  "
      ]
     },
     "execution_count": 128,
     "metadata": {},
     "output_type": "execute_result"
    }
   ],
   "source": [
    "df_medicine[df_medicine['Additional Qualification'].str.contains('Sport|sport')==True]"
   ]
  },
  {
   "cell_type": "code",
   "execution_count": 129,
   "metadata": {},
   "outputs": [],
   "source": [
    "spm_indices = df_medicine[df_medicine['Additional Qualification'].str.contains('Sport|sport')==True].index\n",
    "for index in spm_indices:\n",
    "    list_specialization[index]='Sports Medicine'"
   ]
  },
  {
   "cell_type": "markdown",
   "metadata": {},
   "source": [
    "#### General Medicine"
   ]
  },
  {
   "cell_type": "code",
   "execution_count": 130,
   "metadata": {},
   "outputs": [
    {
     "data": {
      "text/html": [
       "<div>\n",
       "<style scoped>\n",
       "    .dataframe tbody tr th:only-of-type {\n",
       "        vertical-align: middle;\n",
       "    }\n",
       "\n",
       "    .dataframe tbody tr th {\n",
       "        vertical-align: top;\n",
       "    }\n",
       "\n",
       "    .dataframe thead th {\n",
       "        text-align: right;\n",
       "    }\n",
       "</style>\n",
       "<table border=\"1\" class=\"dataframe\">\n",
       "  <thead>\n",
       "    <tr style=\"text-align: right;\">\n",
       "      <th></th>\n",
       "      <th>Reg. Year</th>\n",
       "      <th>Sex</th>\n",
       "      <th>Age</th>\n",
       "      <th>Basic Qualification</th>\n",
       "      <th>Additional Qualification</th>\n",
       "      <th>State</th>\n",
       "    </tr>\n",
       "  </thead>\n",
       "  <tbody>\n",
       "    <tr>\n",
       "      <th>226</th>\n",
       "      <td>2014</td>\n",
       "      <td>Male</td>\n",
       "      <td>56</td>\n",
       "      <td>MBBS Rani Durgavati Vishwavidyalaya</td>\n",
       "      <td>MD General MedicineManipur University</td>\n",
       "      <td>tripura</td>\n",
       "    </tr>\n",
       "    <tr>\n",
       "      <th>236</th>\n",
       "      <td>2014</td>\n",
       "      <td>Male</td>\n",
       "      <td>46</td>\n",
       "      <td>MBBS Patna University</td>\n",
       "      <td>MD General MedicineManipur University</td>\n",
       "      <td>tripura</td>\n",
       "    </tr>\n",
       "    <tr>\n",
       "      <th>260</th>\n",
       "      <td>2014</td>\n",
       "      <td>Male</td>\n",
       "      <td>51</td>\n",
       "      <td>MBBS SSMedical CollegeAPS University</td>\n",
       "      <td>MDGenMedicinesAPS University</td>\n",
       "      <td>tripura</td>\n",
       "    </tr>\n",
       "    <tr>\n",
       "      <th>267</th>\n",
       "      <td>2014</td>\n",
       "      <td>Male</td>\n",
       "      <td>33</td>\n",
       "      <td>MBBSDarbhanga Medical College HospL NMUniversity</td>\n",
       "      <td>MDGenMedicines West Bengal University of Healt...</td>\n",
       "      <td>tripura</td>\n",
       "    </tr>\n",
       "    <tr>\n",
       "      <th>282</th>\n",
       "      <td>2014</td>\n",
       "      <td>Male</td>\n",
       "      <td>53</td>\n",
       "      <td>MBBSMGIMSWardhaNagpur University</td>\n",
       "      <td>MD MedicineNagpur University</td>\n",
       "      <td>tripura</td>\n",
       "    </tr>\n",
       "    <tr>\n",
       "      <th>287</th>\n",
       "      <td>2014</td>\n",
       "      <td>Male</td>\n",
       "      <td>44</td>\n",
       "      <td>MBBS University of Maharshi Dayanand</td>\n",
       "      <td>MD Medicine University of Maharshi Dayanand</td>\n",
       "      <td>tripura</td>\n",
       "    </tr>\n",
       "    <tr>\n",
       "      <th>295</th>\n",
       "      <td>2014</td>\n",
       "      <td>Male</td>\n",
       "      <td>62</td>\n",
       "      <td>MBBS Regional Medical Sciences Imphal Manipur ...</td>\n",
       "      <td>MS General Medicine Manipur University</td>\n",
       "      <td>tripura</td>\n",
       "    </tr>\n",
       "    <tr>\n",
       "      <th>306</th>\n",
       "      <td>2014</td>\n",
       "      <td>Male</td>\n",
       "      <td>46</td>\n",
       "      <td>MBBS University of Health Sciences AP June</td>\n",
       "      <td>MD General Medicine Manipur University</td>\n",
       "      <td>tripura</td>\n",
       "    </tr>\n",
       "    <tr>\n",
       "      <th>346</th>\n",
       "      <td>2014</td>\n",
       "      <td>Male</td>\n",
       "      <td>40</td>\n",
       "      <td>MBBS DDU Gorakhpur University Gorakhpur</td>\n",
       "      <td>MDGeneral Medicine Banaras Hindu University</td>\n",
       "      <td>tripura</td>\n",
       "    </tr>\n",
       "    <tr>\n",
       "      <th>542</th>\n",
       "      <td>2015</td>\n",
       "      <td>Female</td>\n",
       "      <td>33</td>\n",
       "      <td>MBBS Regional Institute of Medical Sciences Im...</td>\n",
       "      <td>MDGenMedicine Manipur University</td>\n",
       "      <td>tripura</td>\n",
       "    </tr>\n",
       "  </tbody>\n",
       "</table>\n",
       "</div>"
      ],
      "text/plain": [
       "     Reg. Year     Sex  Age  \\\n",
       "226       2014    Male   56   \n",
       "236       2014    Male   46   \n",
       "260       2014    Male   51   \n",
       "267       2014    Male   33   \n",
       "282       2014    Male   53   \n",
       "287       2014    Male   44   \n",
       "295       2014    Male   62   \n",
       "306       2014    Male   46   \n",
       "346       2014    Male   40   \n",
       "542       2015  Female   33   \n",
       "\n",
       "                                   Basic Qualification  \\\n",
       "226                MBBS Rani Durgavati Vishwavidyalaya   \n",
       "236                              MBBS Patna University   \n",
       "260               MBBS SSMedical CollegeAPS University   \n",
       "267   MBBSDarbhanga Medical College HospL NMUniversity   \n",
       "282                   MBBSMGIMSWardhaNagpur University   \n",
       "287               MBBS University of Maharshi Dayanand   \n",
       "295  MBBS Regional Medical Sciences Imphal Manipur ...   \n",
       "306         MBBS University of Health Sciences AP June   \n",
       "346            MBBS DDU Gorakhpur University Gorakhpur   \n",
       "542  MBBS Regional Institute of Medical Sciences Im...   \n",
       "\n",
       "                              Additional Qualification    State  \n",
       "226              MD General MedicineManipur University  tripura  \n",
       "236              MD General MedicineManipur University  tripura  \n",
       "260                       MDGenMedicinesAPS University  tripura  \n",
       "267  MDGenMedicines West Bengal University of Healt...  tripura  \n",
       "282                       MD MedicineNagpur University  tripura  \n",
       "287        MD Medicine University of Maharshi Dayanand  tripura  \n",
       "295             MS General Medicine Manipur University  tripura  \n",
       "306             MD General Medicine Manipur University  tripura  \n",
       "346        MDGeneral Medicine Banaras Hindu University  tripura  \n",
       "542                   MDGenMedicine Manipur University  tripura  "
      ]
     },
     "execution_count": 130,
     "metadata": {},
     "output_type": "execute_result"
    }
   ],
   "source": [
    "df_medicine[df_medicine['Additional Qualification'].str.contains('Gen|gen|MD Med')==True]"
   ]
  },
  {
   "cell_type": "code",
   "execution_count": 131,
   "metadata": {},
   "outputs": [],
   "source": [
    "genmed_indices = df_medicine[df_medicine['Additional Qualification'].str.contains('Gen|gen|MD Med')==True].index\n",
    "for index in genmed_indices:\n",
    "    list_specialization[index]='General Medicine'"
   ]
  },
  {
   "cell_type": "markdown",
   "metadata": {},
   "source": [
    "#### Community Medicine"
   ]
  },
  {
   "cell_type": "code",
   "execution_count": 132,
   "metadata": {},
   "outputs": [
    {
     "data": {
      "text/html": [
       "<div>\n",
       "<style scoped>\n",
       "    .dataframe tbody tr th:only-of-type {\n",
       "        vertical-align: middle;\n",
       "    }\n",
       "\n",
       "    .dataframe tbody tr th {\n",
       "        vertical-align: top;\n",
       "    }\n",
       "\n",
       "    .dataframe thead th {\n",
       "        text-align: right;\n",
       "    }\n",
       "</style>\n",
       "<table border=\"1\" class=\"dataframe\">\n",
       "  <thead>\n",
       "    <tr style=\"text-align: right;\">\n",
       "      <th></th>\n",
       "      <th>Reg. Year</th>\n",
       "      <th>Sex</th>\n",
       "      <th>Age</th>\n",
       "      <th>Basic Qualification</th>\n",
       "      <th>Additional Qualification</th>\n",
       "      <th>State</th>\n",
       "    </tr>\n",
       "  </thead>\n",
       "  <tbody>\n",
       "    <tr>\n",
       "      <th>203</th>\n",
       "      <td>2014</td>\n",
       "      <td>Male</td>\n",
       "      <td>41</td>\n",
       "      <td>MBBS Regional Institute of Medical Sciences Im...</td>\n",
       "      <td>MD Community MedicineTripura University</td>\n",
       "      <td>tripura</td>\n",
       "    </tr>\n",
       "    <tr>\n",
       "      <th>204</th>\n",
       "      <td>2014</td>\n",
       "      <td>Female</td>\n",
       "      <td>32</td>\n",
       "      <td>MBBS Regional Institute of Medical Sciences Im...</td>\n",
       "      <td>MD Community MedicineManipur University</td>\n",
       "      <td>tripura</td>\n",
       "    </tr>\n",
       "    <tr>\n",
       "      <th>285</th>\n",
       "      <td>2014</td>\n",
       "      <td>Male</td>\n",
       "      <td>64</td>\n",
       "      <td>MBBS Bhagalpur University</td>\n",
       "      <td>MD Community Medicine Dibrugarh University</td>\n",
       "      <td>tripura</td>\n",
       "    </tr>\n",
       "    <tr>\n",
       "      <th>326</th>\n",
       "      <td>2014</td>\n",
       "      <td>Male</td>\n",
       "      <td>40</td>\n",
       "      <td>MBBS Regional Institute of Medical Sciences Im...</td>\n",
       "      <td>MD Community Medicine Tripura University</td>\n",
       "      <td>tripura</td>\n",
       "    </tr>\n",
       "    <tr>\n",
       "      <th>708</th>\n",
       "      <td>2014</td>\n",
       "      <td>Male</td>\n",
       "      <td>46</td>\n",
       "      <td>MBBS Regional Institute of Medical Sciences Im...</td>\n",
       "      <td>MD Community Medicine Manupur University</td>\n",
       "      <td>tripura</td>\n",
       "    </tr>\n",
       "  </tbody>\n",
       "</table>\n",
       "</div>"
      ],
      "text/plain": [
       "     Reg. Year     Sex  Age  \\\n",
       "203       2014    Male   41   \n",
       "204       2014  Female   32   \n",
       "285       2014    Male   64   \n",
       "326       2014    Male   40   \n",
       "708       2014    Male   46   \n",
       "\n",
       "                                   Basic Qualification  \\\n",
       "203  MBBS Regional Institute of Medical Sciences Im...   \n",
       "204  MBBS Regional Institute of Medical Sciences Im...   \n",
       "285                          MBBS Bhagalpur University   \n",
       "326  MBBS Regional Institute of Medical Sciences Im...   \n",
       "708  MBBS Regional Institute of Medical Sciences Im...   \n",
       "\n",
       "                       Additional Qualification    State  \n",
       "203     MD Community MedicineTripura University  tripura  \n",
       "204     MD Community MedicineManipur University  tripura  \n",
       "285  MD Community Medicine Dibrugarh University  tripura  \n",
       "326    MD Community Medicine Tripura University  tripura  \n",
       "708    MD Community Medicine Manupur University  tripura  "
      ]
     },
     "execution_count": 132,
     "metadata": {},
     "output_type": "execute_result"
    }
   ],
   "source": [
    "df_medicine[df_medicine['Additional Qualification'].str.contains('Comm|com')==True]"
   ]
  },
  {
   "cell_type": "code",
   "execution_count": 133,
   "metadata": {},
   "outputs": [],
   "source": [
    "commed_indices = df_medicine[df_medicine['Additional Qualification'].str.contains('Comm|com')==True].index\n",
    "for index in commed_indices:\n",
    "    list_specialization[index]='Community Medicine'"
   ]
  },
  {
   "cell_type": "markdown",
   "metadata": {},
   "source": [
    "#### Laboratory Medicine"
   ]
  },
  {
   "cell_type": "code",
   "execution_count": 134,
   "metadata": {},
   "outputs": [
    {
     "data": {
      "text/html": [
       "<div>\n",
       "<style scoped>\n",
       "    .dataframe tbody tr th:only-of-type {\n",
       "        vertical-align: middle;\n",
       "    }\n",
       "\n",
       "    .dataframe tbody tr th {\n",
       "        vertical-align: top;\n",
       "    }\n",
       "\n",
       "    .dataframe thead th {\n",
       "        text-align: right;\n",
       "    }\n",
       "</style>\n",
       "<table border=\"1\" class=\"dataframe\">\n",
       "  <thead>\n",
       "    <tr style=\"text-align: right;\">\n",
       "      <th></th>\n",
       "      <th>Reg. Year</th>\n",
       "      <th>Sex</th>\n",
       "      <th>Age</th>\n",
       "      <th>Basic Qualification</th>\n",
       "      <th>Additional Qualification</th>\n",
       "      <th>State</th>\n",
       "    </tr>\n",
       "  </thead>\n",
       "  <tbody>\n",
       "    <tr>\n",
       "      <th>221</th>\n",
       "      <td>2014</td>\n",
       "      <td>Male</td>\n",
       "      <td>56</td>\n",
       "      <td>MBBS University of Kerala</td>\n",
       "      <td>MD Laboratory MedicineAIIMS New Delhi</td>\n",
       "      <td>tripura</td>\n",
       "    </tr>\n",
       "  </tbody>\n",
       "</table>\n",
       "</div>"
      ],
      "text/plain": [
       "     Reg. Year   Sex  Age        Basic Qualification  \\\n",
       "221       2014  Male   56  MBBS University of Kerala   \n",
       "\n",
       "                  Additional Qualification    State  \n",
       "221  MD Laboratory MedicineAIIMS New Delhi  tripura  "
      ]
     },
     "execution_count": 134,
     "metadata": {},
     "output_type": "execute_result"
    }
   ],
   "source": [
    "df_medicine[df_medicine['Additional Qualification'].str.contains('Lab|lab')==True]"
   ]
  },
  {
   "cell_type": "code",
   "execution_count": 135,
   "metadata": {},
   "outputs": [],
   "source": [
    "labmed_indices = df_medicine[df_medicine['Additional Qualification'].str.contains('Lab|lab')==True].index\n",
    "for index in labmed_indices:\n",
    "    list_specialization[index]='Laboratory Medicine'"
   ]
  },
  {
   "cell_type": "markdown",
   "metadata": {},
   "source": [
    "#### Tropical Medicine"
   ]
  },
  {
   "cell_type": "code",
   "execution_count": 136,
   "metadata": {},
   "outputs": [
    {
     "data": {
      "text/html": [
       "<div>\n",
       "<style scoped>\n",
       "    .dataframe tbody tr th:only-of-type {\n",
       "        vertical-align: middle;\n",
       "    }\n",
       "\n",
       "    .dataframe tbody tr th {\n",
       "        vertical-align: top;\n",
       "    }\n",
       "\n",
       "    .dataframe thead th {\n",
       "        text-align: right;\n",
       "    }\n",
       "</style>\n",
       "<table border=\"1\" class=\"dataframe\">\n",
       "  <thead>\n",
       "    <tr style=\"text-align: right;\">\n",
       "      <th></th>\n",
       "      <th>Reg. Year</th>\n",
       "      <th>Sex</th>\n",
       "      <th>Age</th>\n",
       "      <th>Basic Qualification</th>\n",
       "      <th>Additional Qualification</th>\n",
       "      <th>State</th>\n",
       "    </tr>\n",
       "  </thead>\n",
       "  <tbody>\n",
       "    <tr>\n",
       "      <th>305</th>\n",
       "      <td>2014</td>\n",
       "      <td>Male</td>\n",
       "      <td>63</td>\n",
       "      <td>MBBS Regional Medical College Imphal Manipur U...</td>\n",
       "      <td>DC P Tropical Medicine Calcutta</td>\n",
       "      <td>tripura</td>\n",
       "    </tr>\n",
       "  </tbody>\n",
       "</table>\n",
       "</div>"
      ],
      "text/plain": [
       "     Reg. Year   Sex  Age                                Basic Qualification  \\\n",
       "305       2014  Male   63  MBBS Regional Medical College Imphal Manipur U...   \n",
       "\n",
       "            Additional Qualification    State  \n",
       "305  DC P Tropical Medicine Calcutta  tripura  "
      ]
     },
     "execution_count": 136,
     "metadata": {},
     "output_type": "execute_result"
    }
   ],
   "source": [
    "df_medicine[df_medicine['Additional Qualification'].str.contains('trop|Tro')==True]"
   ]
  },
  {
   "cell_type": "code",
   "execution_count": 137,
   "metadata": {},
   "outputs": [],
   "source": [
    "tropmed_indices = df_medicine[df_medicine['Additional Qualification'].str.contains('trop|Tro')==True].index\n",
    "for index in tropmed_indices:\n",
    "    list_specialization[index]='Tropical Medicine'"
   ]
  },
  {
   "cell_type": "markdown",
   "metadata": {},
   "source": [
    "#### Forensic Medicine/Forensic Medicine and Toxicology"
   ]
  },
  {
   "cell_type": "code",
   "execution_count": 138,
   "metadata": {},
   "outputs": [
    {
     "data": {
      "text/html": [
       "<div>\n",
       "<style scoped>\n",
       "    .dataframe tbody tr th:only-of-type {\n",
       "        vertical-align: middle;\n",
       "    }\n",
       "\n",
       "    .dataframe tbody tr th {\n",
       "        vertical-align: top;\n",
       "    }\n",
       "\n",
       "    .dataframe thead th {\n",
       "        text-align: right;\n",
       "    }\n",
       "</style>\n",
       "<table border=\"1\" class=\"dataframe\">\n",
       "  <thead>\n",
       "    <tr style=\"text-align: right;\">\n",
       "      <th></th>\n",
       "      <th>Reg. Year</th>\n",
       "      <th>Sex</th>\n",
       "      <th>Age</th>\n",
       "      <th>Basic Qualification</th>\n",
       "      <th>Additional Qualification</th>\n",
       "      <th>State</th>\n",
       "    </tr>\n",
       "  </thead>\n",
       "  <tbody>\n",
       "    <tr>\n",
       "      <th>158</th>\n",
       "      <td>2014</td>\n",
       "      <td>Male</td>\n",
       "      <td>55</td>\n",
       "      <td>MBBS Regional Medical College Imphal Manupur U...</td>\n",
       "      <td>MD Forensic Medicine Manipur University</td>\n",
       "      <td>tripura</td>\n",
       "    </tr>\n",
       "    <tr>\n",
       "      <th>159</th>\n",
       "      <td>2014</td>\n",
       "      <td>Male</td>\n",
       "      <td>53</td>\n",
       "      <td>MBBS Regional Medical College Imphal Manupur U...</td>\n",
       "      <td>MDForensic Medicine Nagpur University</td>\n",
       "      <td>tripura</td>\n",
       "    </tr>\n",
       "    <tr>\n",
       "      <th>523</th>\n",
       "      <td>2015</td>\n",
       "      <td>Male</td>\n",
       "      <td>57</td>\n",
       "      <td>MBBS Regional Institute of Medical Sciences Im...</td>\n",
       "      <td>MDFMT AIIMS New Delhi</td>\n",
       "      <td>tripura</td>\n",
       "    </tr>\n",
       "  </tbody>\n",
       "</table>\n",
       "</div>"
      ],
      "text/plain": [
       "     Reg. Year   Sex  Age                                Basic Qualification  \\\n",
       "158       2014  Male   55  MBBS Regional Medical College Imphal Manupur U...   \n",
       "159       2014  Male   53  MBBS Regional Medical College Imphal Manupur U...   \n",
       "523       2015  Male   57  MBBS Regional Institute of Medical Sciences Im...   \n",
       "\n",
       "                    Additional Qualification    State  \n",
       "158  MD Forensic Medicine Manipur University  tripura  \n",
       "159    MDForensic Medicine Nagpur University  tripura  \n",
       "523                    MDFMT AIIMS New Delhi  tripura  "
      ]
     },
     "execution_count": 138,
     "metadata": {},
     "output_type": "execute_result"
    }
   ],
   "source": [
    "df_medicine[df_medicine['Additional Qualification'].str.contains('For|for|FM')==True]"
   ]
  },
  {
   "cell_type": "code",
   "execution_count": 139,
   "metadata": {},
   "outputs": [],
   "source": [
    "fmt_indices = df_medicine[df_medicine['Additional Qualification'].str.contains('For|for|FM')==True].index\n",
    "for index in fmt_indices:\n",
    "    list_specialization[index]='Forensic Medicine/Forensic Medicine and Toxicology'"
   ]
  },
  {
   "cell_type": "markdown",
   "metadata": {},
   "source": [
    "#### Diabetology"
   ]
  },
  {
   "cell_type": "code",
   "execution_count": 140,
   "metadata": {},
   "outputs": [
    {
     "data": {
      "text/html": [
       "<div>\n",
       "<style scoped>\n",
       "    .dataframe tbody tr th:only-of-type {\n",
       "        vertical-align: middle;\n",
       "    }\n",
       "\n",
       "    .dataframe tbody tr th {\n",
       "        vertical-align: top;\n",
       "    }\n",
       "\n",
       "    .dataframe thead th {\n",
       "        text-align: right;\n",
       "    }\n",
       "</style>\n",
       "<table border=\"1\" class=\"dataframe\">\n",
       "  <thead>\n",
       "    <tr style=\"text-align: right;\">\n",
       "      <th></th>\n",
       "      <th>Reg. Year</th>\n",
       "      <th>Sex</th>\n",
       "      <th>Age</th>\n",
       "      <th>Basic Qualification</th>\n",
       "      <th>Additional Qualification</th>\n",
       "      <th>State</th>\n",
       "    </tr>\n",
       "  </thead>\n",
       "  <tbody>\n",
       "    <tr>\n",
       "      <th>333</th>\n",
       "      <td>2014</td>\n",
       "      <td>Male</td>\n",
       "      <td>56</td>\n",
       "      <td>MBBSRegional Medical CollegeManipur Univewrsity</td>\n",
       "      <td>PGD In Diabetilogy</td>\n",
       "      <td>tripura</td>\n",
       "    </tr>\n",
       "  </tbody>\n",
       "</table>\n",
       "</div>"
      ],
      "text/plain": [
       "     Reg. Year   Sex  Age                              Basic Qualification  \\\n",
       "333       2014  Male   56  MBBSRegional Medical CollegeManipur Univewrsity   \n",
       "\n",
       "    Additional Qualification    State  \n",
       "333       PGD In Diabetilogy  tripura  "
      ]
     },
     "execution_count": 140,
     "metadata": {},
     "output_type": "execute_result"
    }
   ],
   "source": [
    "df_doc[df_doc['Additional Qualification'].str.contains('Diab')==True]"
   ]
  },
  {
   "cell_type": "code",
   "execution_count": 141,
   "metadata": {},
   "outputs": [],
   "source": [
    "diab_indices = df_doc[df_doc['Additional Qualification'].str.contains('Diab')==True].index\n",
    "for index in diab_indices:\n",
    "    list_specialization[index]='Diabetology'"
   ]
  },
  {
   "cell_type": "code",
   "execution_count": 142,
   "metadata": {},
   "outputs": [],
   "source": [
    "df_doc['Specialization']=pd.Series(list_specialization)"
   ]
  },
  {
   "cell_type": "markdown",
   "metadata": {},
   "source": [
    "#### Further exploration of other class"
   ]
  },
  {
   "cell_type": "code",
   "execution_count": 143,
   "metadata": {},
   "outputs": [
    {
     "data": {
      "text/html": [
       "<div>\n",
       "<style scoped>\n",
       "    .dataframe tbody tr th:only-of-type {\n",
       "        vertical-align: middle;\n",
       "    }\n",
       "\n",
       "    .dataframe tbody tr th {\n",
       "        vertical-align: top;\n",
       "    }\n",
       "\n",
       "    .dataframe thead th {\n",
       "        text-align: right;\n",
       "    }\n",
       "</style>\n",
       "<table border=\"1\" class=\"dataframe\">\n",
       "  <thead>\n",
       "    <tr style=\"text-align: right;\">\n",
       "      <th></th>\n",
       "      <th>Reg. Year</th>\n",
       "      <th>Sex</th>\n",
       "      <th>Age</th>\n",
       "      <th>Basic Qualification</th>\n",
       "      <th>Additional Qualification</th>\n",
       "      <th>State</th>\n",
       "      <th>Specialization</th>\n",
       "    </tr>\n",
       "  </thead>\n",
       "  <tbody>\n",
       "    <tr>\n",
       "      <th>136</th>\n",
       "      <td>2014</td>\n",
       "      <td>Male</td>\n",
       "      <td>56</td>\n",
       "      <td>MBBS Regional Medical College Imphal Manupur U...</td>\n",
       "      <td>MSManipur University</td>\n",
       "      <td>tripura</td>\n",
       "      <td>Other</td>\n",
       "    </tr>\n",
       "    <tr>\n",
       "      <th>171</th>\n",
       "      <td>2014</td>\n",
       "      <td>Male</td>\n",
       "      <td>42</td>\n",
       "      <td>MBBSManipur University</td>\n",
       "      <td>MD Manipur Universisty</td>\n",
       "      <td>tripura</td>\n",
       "      <td>Other</td>\n",
       "    </tr>\n",
       "    <tr>\n",
       "      <th>268</th>\n",
       "      <td>2014</td>\n",
       "      <td>Male</td>\n",
       "      <td>36</td>\n",
       "      <td>MBBS BSMedical CollegeCalcutta University</td>\n",
       "      <td>University</td>\n",
       "      <td>tripura</td>\n",
       "      <td>Other</td>\n",
       "    </tr>\n",
       "    <tr>\n",
       "      <th>359</th>\n",
       "      <td>2014</td>\n",
       "      <td>Male</td>\n",
       "      <td>30</td>\n",
       "      <td>MBBS Regional Institute of Medical Sciences Im...</td>\n",
       "      <td>MBBS Regional Institute of Medical Sciences Im...</td>\n",
       "      <td>tripura</td>\n",
       "      <td>Other</td>\n",
       "    </tr>\n",
       "    <tr>\n",
       "      <th>370</th>\n",
       "      <td>2014</td>\n",
       "      <td>Male</td>\n",
       "      <td>48</td>\n",
       "      <td>MBBS Assam Medical College Dibrugarh University</td>\n",
       "      <td>DPM in Ranchi Unuversity</td>\n",
       "      <td>tripura</td>\n",
       "      <td>Other</td>\n",
       "    </tr>\n",
       "    <tr>\n",
       "      <th>449</th>\n",
       "      <td>2015</td>\n",
       "      <td>Male</td>\n",
       "      <td>75</td>\n",
       "      <td>MBBS Andhra University</td>\n",
       "      <td>MS University of Delhi</td>\n",
       "      <td>tripura</td>\n",
       "      <td>Other</td>\n",
       "    </tr>\n",
       "    <tr>\n",
       "      <th>535</th>\n",
       "      <td>2015</td>\n",
       "      <td>Male</td>\n",
       "      <td>59</td>\n",
       "      <td>MBBS Sambalpur University</td>\n",
       "      <td>DARegional Institute of Medical Sciences Impha...</td>\n",
       "      <td>tripura</td>\n",
       "      <td>Other</td>\n",
       "    </tr>\n",
       "    <tr>\n",
       "      <th>582</th>\n",
       "      <td>2015</td>\n",
       "      <td>Male</td>\n",
       "      <td>67</td>\n",
       "      <td>MBBS Calcutta University</td>\n",
       "      <td>MD Calcutta University</td>\n",
       "      <td>west bengal</td>\n",
       "      <td>Other</td>\n",
       "    </tr>\n",
       "    <tr>\n",
       "      <th>685</th>\n",
       "      <td>2013</td>\n",
       "      <td>Male</td>\n",
       "      <td>53</td>\n",
       "      <td>MBBSNERMC Imphal Under Manipur University</td>\n",
       "      <td>MD RIMS Imphal Under Manipur University</td>\n",
       "      <td>tripura</td>\n",
       "      <td>Other</td>\n",
       "    </tr>\n",
       "    <tr>\n",
       "      <th>693</th>\n",
       "      <td>2013</td>\n",
       "      <td>Male</td>\n",
       "      <td>65</td>\n",
       "      <td>MBBS BS Mecical Colage Barkura Under Calcutta ...</td>\n",
       "      <td>MD JN Medical Collage Under Karnataka University</td>\n",
       "      <td>tripura</td>\n",
       "      <td>Other</td>\n",
       "    </tr>\n",
       "    <tr>\n",
       "      <th>696</th>\n",
       "      <td>2014</td>\n",
       "      <td>Male</td>\n",
       "      <td>42</td>\n",
       "      <td>MBBSBardwan Medical Collage Under Bardwan</td>\n",
       "      <td>MD RIMS Manipur University</td>\n",
       "      <td>tripura</td>\n",
       "      <td>Other</td>\n",
       "    </tr>\n",
       "    <tr>\n",
       "      <th>698</th>\n",
       "      <td>2014</td>\n",
       "      <td>Male</td>\n",
       "      <td>32</td>\n",
       "      <td>MBBS Manipur University</td>\n",
       "      <td>MD Manipur University</td>\n",
       "      <td>tripura</td>\n",
       "      <td>Other</td>\n",
       "    </tr>\n",
       "    <tr>\n",
       "      <th>727</th>\n",
       "      <td>2014</td>\n",
       "      <td>Male</td>\n",
       "      <td>31</td>\n",
       "      <td>MBBS</td>\n",
       "      <td>MD Physician from Volgograd Medical Academy Ru...</td>\n",
       "      <td>tripura</td>\n",
       "      <td>Other</td>\n",
       "    </tr>\n",
       "  </tbody>\n",
       "</table>\n",
       "</div>"
      ],
      "text/plain": [
       "     Reg. Year   Sex  Age                                Basic Qualification  \\\n",
       "136       2014  Male   56  MBBS Regional Medical College Imphal Manupur U...   \n",
       "171       2014  Male   42                             MBBSManipur University   \n",
       "268       2014  Male   36          MBBS BSMedical CollegeCalcutta University   \n",
       "359       2014  Male   30  MBBS Regional Institute of Medical Sciences Im...   \n",
       "370       2014  Male   48    MBBS Assam Medical College Dibrugarh University   \n",
       "449       2015  Male   75                             MBBS Andhra University   \n",
       "535       2015  Male   59                          MBBS Sambalpur University   \n",
       "582       2015  Male   67                           MBBS Calcutta University   \n",
       "685       2013  Male   53          MBBSNERMC Imphal Under Manipur University   \n",
       "693       2013  Male   65  MBBS BS Mecical Colage Barkura Under Calcutta ...   \n",
       "696       2014  Male   42          MBBSBardwan Medical Collage Under Bardwan   \n",
       "698       2014  Male   32                            MBBS Manipur University   \n",
       "727       2014  Male   31                                               MBBS   \n",
       "\n",
       "                              Additional Qualification        State  \\\n",
       "136                               MSManipur University      tripura   \n",
       "171                             MD Manipur Universisty      tripura   \n",
       "268                                         University      tripura   \n",
       "359  MBBS Regional Institute of Medical Sciences Im...      tripura   \n",
       "370                           DPM in Ranchi Unuversity      tripura   \n",
       "449                             MS University of Delhi      tripura   \n",
       "535  DARegional Institute of Medical Sciences Impha...      tripura   \n",
       "582                             MD Calcutta University  west bengal   \n",
       "685            MD RIMS Imphal Under Manipur University      tripura   \n",
       "693   MD JN Medical Collage Under Karnataka University      tripura   \n",
       "696                         MD RIMS Manipur University      tripura   \n",
       "698                              MD Manipur University      tripura   \n",
       "727  MD Physician from Volgograd Medical Academy Ru...      tripura   \n",
       "\n",
       "    Specialization  \n",
       "136          Other  \n",
       "171          Other  \n",
       "268          Other  \n",
       "359          Other  \n",
       "370          Other  \n",
       "449          Other  \n",
       "535          Other  \n",
       "582          Other  \n",
       "685          Other  \n",
       "693          Other  \n",
       "696          Other  \n",
       "698          Other  \n",
       "727          Other  "
      ]
     },
     "execution_count": 143,
     "metadata": {},
     "output_type": "execute_result"
    }
   ],
   "source": [
    "df_doc[df_doc['Specialization']=='Other']"
   ]
  },
  {
   "cell_type": "code",
   "execution_count": 144,
   "metadata": {},
   "outputs": [
    {
     "data": {
      "text/plain": [
       "(13, 7)"
      ]
     },
     "execution_count": 144,
     "metadata": {},
     "output_type": "execute_result"
    }
   ],
   "source": [
    "df_doc[df_doc['Specialization']=='Other'].shape"
   ]
  },
  {
   "cell_type": "code",
   "execution_count": 145,
   "metadata": {},
   "outputs": [],
   "source": [
    "df_doc.at[268,'Specialization']=np.NaN\n",
    "df_doc.at[268,'Additional Qualification']=np.NaN"
   ]
  },
  {
   "cell_type": "code",
   "execution_count": 146,
   "metadata": {},
   "outputs": [],
   "source": [
    "df_doc.at[359,'Specialization']=np.NaN\n",
    "df_doc.at[359,'Additional Qualification']=np.NaN"
   ]
  },
  {
   "cell_type": "code",
   "execution_count": 147,
   "metadata": {},
   "outputs": [
    {
     "data": {
      "text/plain": [
       "(11, 7)"
      ]
     },
     "execution_count": 147,
     "metadata": {},
     "output_type": "execute_result"
    }
   ],
   "source": [
    "df_doc[df_doc['Specialization']=='Other'].shape"
   ]
  },
  {
   "cell_type": "markdown",
   "metadata": {},
   "source": [
    "<h2 align='center'> Analysis </h2>"
   ]
  },
  {
   "cell_type": "code",
   "execution_count": 148,
   "metadata": {},
   "outputs": [],
   "source": [
    "df_analysis = df_doc[:]"
   ]
  },
  {
   "cell_type": "code",
   "execution_count": 149,
   "metadata": {},
   "outputs": [],
   "source": [
    "age_series = df_analysis.Age\n",
    "list_age_group = [np.NaN]*(len(age_series))\n",
    "\n",
    "for index in age_series.index:\n",
    "    if age_series[index]<=30:\n",
    "        list_age_group[index]='30 and below'\n",
    "    if age_series[index]>30 and age_series[index]<=35:\n",
    "        list_age_group[index]='31-35'\n",
    "    if age_series[index]>35 and age_series[index]<=40:\n",
    "        list_age_group[index]='36-40'\n",
    "    if age_series[index]>40 and age_series[index]<=45:\n",
    "        list_age_group[index]='41-45'\n",
    "    if age_series[index]>45 and age_series[index]<=50:\n",
    "        list_age_group[index]='45-50'\n",
    "    if age_series[index]>50 and age_series[index]<=55:\n",
    "        list_age_group[index]='51-55'\n",
    "    if age_series[index]>55 and age_series[index]<=60:\n",
    "        list_age_group[index]='55-60'\n",
    "    if age_series[index]>60:\n",
    "        list_age_group[index]='above 60'    "
   ]
  },
  {
   "cell_type": "code",
   "execution_count": 150,
   "metadata": {},
   "outputs": [],
   "source": [
    "df_analysis['Age Group'] = pd.Series(list_age_group).values"
   ]
  },
  {
   "cell_type": "code",
   "execution_count": 151,
   "metadata": {},
   "outputs": [
    {
     "data": {
      "text/html": [
       "<div>\n",
       "<style scoped>\n",
       "    .dataframe tbody tr th:only-of-type {\n",
       "        vertical-align: middle;\n",
       "    }\n",
       "\n",
       "    .dataframe tbody tr th {\n",
       "        vertical-align: top;\n",
       "    }\n",
       "\n",
       "    .dataframe thead tr th {\n",
       "        text-align: left;\n",
       "    }\n",
       "\n",
       "    .dataframe thead tr:last-of-type th {\n",
       "        text-align: right;\n",
       "    }\n",
       "</style>\n",
       "<table border=\"1\" class=\"dataframe\">\n",
       "  <thead>\n",
       "    <tr>\n",
       "      <th></th>\n",
       "      <th colspan=\"8\" halign=\"left\">&lt;lambda&gt;</th>\n",
       "    </tr>\n",
       "    <tr>\n",
       "      <th>Age Group</th>\n",
       "      <th>30 and below</th>\n",
       "      <th>31-35</th>\n",
       "      <th>36-40</th>\n",
       "      <th>41-45</th>\n",
       "      <th>45-50</th>\n",
       "      <th>51-55</th>\n",
       "      <th>55-60</th>\n",
       "      <th>above 60</th>\n",
       "    </tr>\n",
       "    <tr>\n",
       "      <th>Reg. Year</th>\n",
       "      <th></th>\n",
       "      <th></th>\n",
       "      <th></th>\n",
       "      <th></th>\n",
       "      <th></th>\n",
       "      <th></th>\n",
       "      <th></th>\n",
       "      <th></th>\n",
       "    </tr>\n",
       "  </thead>\n",
       "  <tbody>\n",
       "    <tr>\n",
       "      <th>2012</th>\n",
       "      <td>65.0</td>\n",
       "      <td>89.0</td>\n",
       "      <td>2.0</td>\n",
       "      <td>1.0</td>\n",
       "      <td>NaN</td>\n",
       "      <td>NaN</td>\n",
       "      <td>NaN</td>\n",
       "      <td>3.0</td>\n",
       "    </tr>\n",
       "    <tr>\n",
       "      <th>2013</th>\n",
       "      <td>40.0</td>\n",
       "      <td>31.0</td>\n",
       "      <td>3.0</td>\n",
       "      <td>NaN</td>\n",
       "      <td>1.0</td>\n",
       "      <td>1.0</td>\n",
       "      <td>2.0</td>\n",
       "      <td>7.0</td>\n",
       "    </tr>\n",
       "    <tr>\n",
       "      <th>2014</th>\n",
       "      <td>101.0</td>\n",
       "      <td>56.0</td>\n",
       "      <td>40.0</td>\n",
       "      <td>36.0</td>\n",
       "      <td>32.0</td>\n",
       "      <td>29.0</td>\n",
       "      <td>29.0</td>\n",
       "      <td>60.0</td>\n",
       "    </tr>\n",
       "    <tr>\n",
       "      <th>2015</th>\n",
       "      <td>156.0</td>\n",
       "      <td>14.0</td>\n",
       "      <td>3.0</td>\n",
       "      <td>2.0</td>\n",
       "      <td>1.0</td>\n",
       "      <td>1.0</td>\n",
       "      <td>2.0</td>\n",
       "      <td>6.0</td>\n",
       "    </tr>\n",
       "    <tr>\n",
       "      <th>2016</th>\n",
       "      <td>NaN</td>\n",
       "      <td>NaN</td>\n",
       "      <td>1.0</td>\n",
       "      <td>NaN</td>\n",
       "      <td>NaN</td>\n",
       "      <td>NaN</td>\n",
       "      <td>1.0</td>\n",
       "      <td>NaN</td>\n",
       "    </tr>\n",
       "  </tbody>\n",
       "</table>\n",
       "</div>"
      ],
      "text/plain": [
       "              <lambda>                                             \n",
       "Age Group 30 and below 31-35 36-40 41-45 45-50 51-55 55-60 above 60\n",
       "Reg. Year                                                          \n",
       "2012              65.0  89.0   2.0   1.0   NaN   NaN   NaN      3.0\n",
       "2013              40.0  31.0   3.0   NaN   1.0   1.0   2.0      7.0\n",
       "2014             101.0  56.0  40.0  36.0  32.0  29.0  29.0     60.0\n",
       "2015             156.0  14.0   3.0   2.0   1.0   1.0   2.0      6.0\n",
       "2016               NaN   NaN   1.0   NaN   NaN   NaN   1.0      NaN"
      ]
     },
     "execution_count": 151,
     "metadata": {},
     "output_type": "execute_result"
    }
   ],
   "source": [
    "pd.pivot_table(df_analysis,index='Reg. Year',columns='Age Group', values='Age',aggfunc=[lambda x:x.count()])"
   ]
  },
  {
   "cell_type": "code",
   "execution_count": 152,
   "metadata": {},
   "outputs": [],
   "source": [
    "def plot_registration_year_wise(df,second_param):\n",
    "    \n",
    "    first_param = 'Reg. Year'\n",
    "    list_years=list(set(df[first_param]))\n",
    "   \n",
    "    list_traces = []\n",
    "    \n",
    "    for year in list_years:\n",
    "        trace = go.Bar(x=df[df[first_param]==year][second_param].value_counts().sort_index().keys() ,y=df[df[first_param]==year][second_param].value_counts().sort_index(),name=year)\n",
    "        list_traces.append(trace)\n",
    "    \n",
    "    py.iplot(list_traces)"
   ]
  },
  {
   "cell_type": "markdown",
   "metadata": {},
   "source": [
    "### Age wise distribution of doctors registered yearly"
   ]
  },
  {
   "cell_type": "code",
   "execution_count": 153,
   "metadata": {},
   "outputs": [
    {
     "data": {
      "application/vnd.plotly.v1+json": {
       "data": [
        {
         "name": "2016",
         "type": "bar",
         "uid": "7858b1f6-1127-11e9-a7a6-9cda3ee3f089",
         "x": [
          "36-40",
          "55-60"
         ],
         "y": [
          1,
          1
         ]
        },
        {
         "name": "2012",
         "type": "bar",
         "uid": "7858b1f7-1127-11e9-829e-9cda3ee3f089",
         "x": [
          "30 and below",
          "31-35",
          "36-40",
          "41-45",
          "above 60"
         ],
         "y": [
          65,
          89,
          2,
          1,
          3
         ]
        },
        {
         "name": "2013",
         "type": "bar",
         "uid": "7858b1f8-1127-11e9-b4fd-9cda3ee3f089",
         "x": [
          "30 and below",
          "31-35",
          "36-40",
          "45-50",
          "51-55",
          "55-60",
          "above 60"
         ],
         "y": [
          40,
          31,
          3,
          1,
          1,
          2,
          7
         ]
        },
        {
         "name": "2014",
         "type": "bar",
         "uid": "7858b1f9-1127-11e9-9b2a-9cda3ee3f089",
         "x": [
          "30 and below",
          "31-35",
          "36-40",
          "41-45",
          "45-50",
          "51-55",
          "55-60",
          "above 60"
         ],
         "y": [
          101,
          56,
          40,
          36,
          32,
          29,
          29,
          60
         ]
        },
        {
         "name": "2015",
         "type": "bar",
         "uid": "7858b1fa-1127-11e9-aa3a-9cda3ee3f089",
         "x": [
          "30 and below",
          "31-35",
          "36-40",
          "41-45",
          "45-50",
          "51-55",
          "55-60",
          "above 60"
         ],
         "y": [
          156,
          14,
          3,
          2,
          1,
          1,
          2,
          6
         ]
        }
       ],
       "layout": {}
      },
      "text/html": [
       "<div id=\"9ab718d5-75ed-4d8f-9716-060d14bbd35c\" style=\"height: 525px; width: 100%;\" class=\"plotly-graph-div\"></div><script type=\"text/javascript\">require([\"plotly\"], function(Plotly) { window.PLOTLYENV=window.PLOTLYENV || {};window.PLOTLYENV.BASE_URL=\"https://plot.ly\";Plotly.newPlot(\"9ab718d5-75ed-4d8f-9716-060d14bbd35c\", [{\"name\": \"2016\", \"x\": [\"36-40\", \"55-60\"], \"y\": [1.0, 1.0], \"type\": \"bar\", \"uid\": \"79b9eea8-1127-11e9-9926-9cda3ee3f089\"}, {\"name\": \"2012\", \"x\": [\"30 and below\", \"31-35\", \"36-40\", \"41-45\", \"above 60\"], \"y\": [65.0, 89.0, 2.0, 1.0, 3.0], \"type\": \"bar\", \"uid\": \"79b9eea9-1127-11e9-87d3-9cda3ee3f089\"}, {\"name\": \"2013\", \"x\": [\"30 and below\", \"31-35\", \"36-40\", \"45-50\", \"51-55\", \"55-60\", \"above 60\"], \"y\": [40.0, 31.0, 3.0, 1.0, 1.0, 2.0, 7.0], \"type\": \"bar\", \"uid\": \"79b9eeaa-1127-11e9-ae72-9cda3ee3f089\"}, {\"name\": \"2014\", \"x\": [\"30 and below\", \"31-35\", \"36-40\", \"41-45\", \"45-50\", \"51-55\", \"55-60\", \"above 60\"], \"y\": [101.0, 56.0, 40.0, 36.0, 32.0, 29.0, 29.0, 60.0], \"type\": \"bar\", \"uid\": \"79b9eeab-1127-11e9-bf55-9cda3ee3f089\"}, {\"name\": \"2015\", \"x\": [\"30 and below\", \"31-35\", \"36-40\", \"41-45\", \"45-50\", \"51-55\", \"55-60\", \"above 60\"], \"y\": [156.0, 14.0, 3.0, 2.0, 1.0, 1.0, 2.0, 6.0], \"type\": \"bar\", \"uid\": \"79b9eeac-1127-11e9-9914-9cda3ee3f089\"}], {}, {\"showLink\": true, \"linkText\": \"Export to plot.ly\"})});</script>"
      ],
      "text/vnd.plotly.v1+html": [
       "<div id=\"9ab718d5-75ed-4d8f-9716-060d14bbd35c\" style=\"height: 525px; width: 100%;\" class=\"plotly-graph-div\"></div><script type=\"text/javascript\">require([\"plotly\"], function(Plotly) { window.PLOTLYENV=window.PLOTLYENV || {};window.PLOTLYENV.BASE_URL=\"https://plot.ly\";Plotly.newPlot(\"9ab718d5-75ed-4d8f-9716-060d14bbd35c\", [{\"name\": \"2016\", \"x\": [\"36-40\", \"55-60\"], \"y\": [1.0, 1.0], \"type\": \"bar\", \"uid\": \"79b9eea8-1127-11e9-9926-9cda3ee3f089\"}, {\"name\": \"2012\", \"x\": [\"30 and below\", \"31-35\", \"36-40\", \"41-45\", \"above 60\"], \"y\": [65.0, 89.0, 2.0, 1.0, 3.0], \"type\": \"bar\", \"uid\": \"79b9eea9-1127-11e9-87d3-9cda3ee3f089\"}, {\"name\": \"2013\", \"x\": [\"30 and below\", \"31-35\", \"36-40\", \"45-50\", \"51-55\", \"55-60\", \"above 60\"], \"y\": [40.0, 31.0, 3.0, 1.0, 1.0, 2.0, 7.0], \"type\": \"bar\", \"uid\": \"79b9eeaa-1127-11e9-ae72-9cda3ee3f089\"}, {\"name\": \"2014\", \"x\": [\"30 and below\", \"31-35\", \"36-40\", \"41-45\", \"45-50\", \"51-55\", \"55-60\", \"above 60\"], \"y\": [101.0, 56.0, 40.0, 36.0, 32.0, 29.0, 29.0, 60.0], \"type\": \"bar\", \"uid\": \"79b9eeab-1127-11e9-bf55-9cda3ee3f089\"}, {\"name\": \"2015\", \"x\": [\"30 and below\", \"31-35\", \"36-40\", \"41-45\", \"45-50\", \"51-55\", \"55-60\", \"above 60\"], \"y\": [156.0, 14.0, 3.0, 2.0, 1.0, 1.0, 2.0, 6.0], \"type\": \"bar\", \"uid\": \"79b9eeac-1127-11e9-9914-9cda3ee3f089\"}], {}, {\"showLink\": true, \"linkText\": \"Export to plot.ly\"})});</script>"
      ]
     },
     "metadata": {},
     "output_type": "display_data"
    }
   ],
   "source": [
    "plot_registration_year_wise(df_analysis,'Age Group')"
   ]
  },
  {
   "cell_type": "markdown",
   "metadata": {},
   "source": [
    "### Specialization"
   ]
  },
  {
   "cell_type": "code",
   "execution_count": 154,
   "metadata": {},
   "outputs": [
    {
     "name": "stderr",
     "output_type": "stream",
     "text": [
      "C:\\Program Files (x86)\\Microsoft Visual Studio\\Shared\\Anaconda3_64\\lib\\site-packages\\IPython\\core\\display.py:689: UserWarning:\n",
      "\n",
      "Consider using IPython.display.IFrame instead\n",
      "\n"
     ]
    },
    {
     "data": {
      "text/html": [
       "<iframe id=\"igraph\" scrolling=\"no\" style=\"border:none;\" seamless=\"seamless\" src=\"https://plot.ly/~schakrab17/141.embed\" height=\"525px\" width=\"100%\"></iframe>"
      ],
      "text/plain": [
       "<plotly.tools.PlotlyDisplay object>"
      ]
     },
     "execution_count": 154,
     "metadata": {},
     "output_type": "execute_result"
    }
   ],
   "source": [
    "df_analysis.Specialization.value_counts().iplot(kind='bar')"
   ]
  },
  {
   "cell_type": "markdown",
   "metadata": {},
   "source": [
    "#### Physicians with Specializations/Additional Qulaification registered year wise"
   ]
  },
  {
   "cell_type": "code",
   "execution_count": 155,
   "metadata": {},
   "outputs": [
    {
     "data": {
      "application/vnd.plotly.v1+json": {
       "data": [
        {
         "name": "2016",
         "type": "bar",
         "uid": "7ad2ae74-1127-11e9-bb08-9cda3ee3f089",
         "x": [
          "Surgery"
         ],
         "y": [
          1
         ]
        },
        {
         "name": "2012",
         "type": "bar",
         "uid": "7ad2ae75-1127-11e9-9296-9cda3ee3f089",
         "x": [
          "Gynaecology/Obstetrics",
          "Paediatrics/Child Health/Maternity and Child",
          "Psychiatry",
          "Surgery"
         ],
         "y": [
          1,
          1,
          1,
          1
         ]
        },
        {
         "name": "2013",
         "type": "bar",
         "uid": "7ad2ae76-1127-11e9-b535-9cda3ee3f089",
         "x": [
          "Gynaecology/Obstetrics",
          "Other",
          "Paediatrics/Child Health/Maternity and Child",
          "Pathology/Clinical Pathology"
         ],
         "y": [
          2,
          2,
          2,
          1
         ]
        },
        {
         "name": "2014",
         "type": "bar",
         "uid": "7ad2ae77-1127-11e9-9dfa-9cda3ee3f089",
         "x": [
          "Anaesthesiology",
          "Anatomy",
          "Biochemistry",
          "Community Medicine",
          "Dermatology/Venerology/Leprosy",
          "Diabetology",
          "Forensic Medicine/Forensic Medicine and Toxicology",
          "General Medicine",
          "Gynaecology/Obstetrics",
          "Laboratory Medicine",
          "Microbiology",
          "Opthalmology",
          "Orthopaedics",
          "Other",
          "Otorhinolaryngology/ENT",
          "Paediatrics/Child Health/Maternity and Child",
          "Pathology/Clinical Pathology",
          "Pharmacology",
          "Physiology",
          "Psychiatry",
          "Public Health",
          "Radiology/Radio Diagnosis/Radiation Medicine",
          "Sports Medicine",
          "Surgery",
          "Tropical Medicine"
         ],
         "y": [
          4,
          6,
          2,
          5,
          2,
          1,
          2,
          9,
          12,
          1,
          3,
          8,
          5,
          6,
          10,
          16,
          5,
          1,
          2,
          7,
          3,
          5,
          2,
          10,
          1
         ]
        },
        {
         "name": "2015",
         "type": "bar",
         "uid": "7ad2ae78-1127-11e9-bdee-9cda3ee3f089",
         "x": [
          "Anaesthesiology",
          "Anatomy",
          "Forensic Medicine/Forensic Medicine and Toxicology",
          "General Medicine",
          "Gynaecology/Obstetrics",
          "Orthopaedics",
          "Other",
          "Otorhinolaryngology/ENT",
          "Pathology/Clinical Pathology",
          "Pharmacology",
          "Surgery"
         ],
         "y": [
          3,
          1,
          1,
          1,
          2,
          3,
          3,
          1,
          1,
          1,
          2
         ]
        }
       ],
       "layout": {}
      },
      "text/html": [
       "<div id=\"e3eca65c-834b-4a77-ac88-6a7c7518e404\" style=\"height: 525px; width: 100%;\" class=\"plotly-graph-div\"></div><script type=\"text/javascript\">require([\"plotly\"], function(Plotly) { window.PLOTLYENV=window.PLOTLYENV || {};window.PLOTLYENV.BASE_URL=\"https://plot.ly\";Plotly.newPlot(\"e3eca65c-834b-4a77-ac88-6a7c7518e404\", [{\"name\": \"2016\", \"x\": [\"Surgery\"], \"y\": [1.0], \"type\": \"bar\", \"uid\": \"7adbae26-1127-11e9-a7ca-9cda3ee3f089\"}, {\"name\": \"2012\", \"x\": [\"Gynaecology/Obstetrics\", \"Paediatrics/Child Health/Maternity and Child\", \"Psychiatry\", \"Surgery\"], \"y\": [1.0, 1.0, 1.0, 1.0], \"type\": \"bar\", \"uid\": \"7adbae27-1127-11e9-801a-9cda3ee3f089\"}, {\"name\": \"2013\", \"x\": [\"Gynaecology/Obstetrics\", \"Other\", \"Paediatrics/Child Health/Maternity and Child\", \"Pathology/Clinical Pathology\"], \"y\": [2.0, 2.0, 2.0, 1.0], \"type\": \"bar\", \"uid\": \"7adbae28-1127-11e9-9858-9cda3ee3f089\"}, {\"name\": \"2014\", \"x\": [\"Anaesthesiology\", \"Anatomy\", \"Biochemistry\", \"Community Medicine\", \"Dermatology/Venerology/Leprosy\", \"Diabetology\", \"Forensic Medicine/Forensic Medicine and Toxicology\", \"General Medicine\", \"Gynaecology/Obstetrics\", \"Laboratory Medicine\", \"Microbiology\", \"Opthalmology\", \"Orthopaedics\", \"Other\", \"Otorhinolaryngology/ENT\", \"Paediatrics/Child Health/Maternity and Child\", \"Pathology/Clinical Pathology\", \"Pharmacology\", \"Physiology\", \"Psychiatry\", \"Public Health\", \"Radiology/Radio Diagnosis/Radiation Medicine\", \"Sports Medicine\", \"Surgery\", \"Tropical Medicine\"], \"y\": [4.0, 6.0, 2.0, 5.0, 2.0, 1.0, 2.0, 9.0, 12.0, 1.0, 3.0, 8.0, 5.0, 6.0, 10.0, 16.0, 5.0, 1.0, 2.0, 7.0, 3.0, 5.0, 2.0, 10.0, 1.0], \"type\": \"bar\", \"uid\": \"7adbae29-1127-11e9-8b2f-9cda3ee3f089\"}, {\"name\": \"2015\", \"x\": [\"Anaesthesiology\", \"Anatomy\", \"Forensic Medicine/Forensic Medicine and Toxicology\", \"General Medicine\", \"Gynaecology/Obstetrics\", \"Orthopaedics\", \"Other\", \"Otorhinolaryngology/ENT\", \"Pathology/Clinical Pathology\", \"Pharmacology\", \"Surgery\"], \"y\": [3.0, 1.0, 1.0, 1.0, 2.0, 3.0, 3.0, 1.0, 1.0, 1.0, 2.0], \"type\": \"bar\", \"uid\": \"7adbae2a-1127-11e9-91db-9cda3ee3f089\"}], {}, {\"showLink\": true, \"linkText\": \"Export to plot.ly\"})});</script>"
      ],
      "text/vnd.plotly.v1+html": [
       "<div id=\"e3eca65c-834b-4a77-ac88-6a7c7518e404\" style=\"height: 525px; width: 100%;\" class=\"plotly-graph-div\"></div><script type=\"text/javascript\">require([\"plotly\"], function(Plotly) { window.PLOTLYENV=window.PLOTLYENV || {};window.PLOTLYENV.BASE_URL=\"https://plot.ly\";Plotly.newPlot(\"e3eca65c-834b-4a77-ac88-6a7c7518e404\", [{\"name\": \"2016\", \"x\": [\"Surgery\"], \"y\": [1.0], \"type\": \"bar\", \"uid\": \"7adbae26-1127-11e9-a7ca-9cda3ee3f089\"}, {\"name\": \"2012\", \"x\": [\"Gynaecology/Obstetrics\", \"Paediatrics/Child Health/Maternity and Child\", \"Psychiatry\", \"Surgery\"], \"y\": [1.0, 1.0, 1.0, 1.0], \"type\": \"bar\", \"uid\": \"7adbae27-1127-11e9-801a-9cda3ee3f089\"}, {\"name\": \"2013\", \"x\": [\"Gynaecology/Obstetrics\", \"Other\", \"Paediatrics/Child Health/Maternity and Child\", \"Pathology/Clinical Pathology\"], \"y\": [2.0, 2.0, 2.0, 1.0], \"type\": \"bar\", \"uid\": \"7adbae28-1127-11e9-9858-9cda3ee3f089\"}, {\"name\": \"2014\", \"x\": [\"Anaesthesiology\", \"Anatomy\", \"Biochemistry\", \"Community Medicine\", \"Dermatology/Venerology/Leprosy\", \"Diabetology\", \"Forensic Medicine/Forensic Medicine and Toxicology\", \"General Medicine\", \"Gynaecology/Obstetrics\", \"Laboratory Medicine\", \"Microbiology\", \"Opthalmology\", \"Orthopaedics\", \"Other\", \"Otorhinolaryngology/ENT\", \"Paediatrics/Child Health/Maternity and Child\", \"Pathology/Clinical Pathology\", \"Pharmacology\", \"Physiology\", \"Psychiatry\", \"Public Health\", \"Radiology/Radio Diagnosis/Radiation Medicine\", \"Sports Medicine\", \"Surgery\", \"Tropical Medicine\"], \"y\": [4.0, 6.0, 2.0, 5.0, 2.0, 1.0, 2.0, 9.0, 12.0, 1.0, 3.0, 8.0, 5.0, 6.0, 10.0, 16.0, 5.0, 1.0, 2.0, 7.0, 3.0, 5.0, 2.0, 10.0, 1.0], \"type\": \"bar\", \"uid\": \"7adbae29-1127-11e9-8b2f-9cda3ee3f089\"}, {\"name\": \"2015\", \"x\": [\"Anaesthesiology\", \"Anatomy\", \"Forensic Medicine/Forensic Medicine and Toxicology\", \"General Medicine\", \"Gynaecology/Obstetrics\", \"Orthopaedics\", \"Other\", \"Otorhinolaryngology/ENT\", \"Pathology/Clinical Pathology\", \"Pharmacology\", \"Surgery\"], \"y\": [3.0, 1.0, 1.0, 1.0, 2.0, 3.0, 3.0, 1.0, 1.0, 1.0, 2.0], \"type\": \"bar\", \"uid\": \"7adbae2a-1127-11e9-91db-9cda3ee3f089\"}], {}, {\"showLink\": true, \"linkText\": \"Export to plot.ly\"})});</script>"
      ]
     },
     "metadata": {},
     "output_type": "display_data"
    }
   ],
   "source": [
    "plot_registration_year_wise(df_analysis,'Specialization')"
   ]
  },
  {
   "cell_type": "markdown",
   "metadata": {},
   "source": [
    "#### Specialization/Additional Qualification sex ratio"
   ]
  },
  {
   "cell_type": "code",
   "execution_count": 156,
   "metadata": {},
   "outputs": [
    {
     "data": {
      "text/html": [
       "<iframe id=\"igraph\" scrolling=\"no\" style=\"border:none;\" seamless=\"seamless\" src=\"https://plot.ly/~schakrab17/143.embed\" height=\"525px\" width=\"100%\"></iframe>"
      ],
      "text/plain": [
       "<plotly.tools.PlotlyDisplay object>"
      ]
     },
     "execution_count": 156,
     "metadata": {},
     "output_type": "execute_result"
    }
   ],
   "source": [
    "df_analysis.groupby(['Specialization'])['Sex'].value_counts().unstack(1).iplot(kind='bar')"
   ]
  },
  {
   "cell_type": "markdown",
   "metadata": {},
   "source": [
    "#### Sex ratio of samples with/without any Additional Qualification"
   ]
  },
  {
   "cell_type": "code",
   "execution_count": 157,
   "metadata": {},
   "outputs": [
    {
     "data": {
      "text/html": [
       "<iframe id=\"igraph\" scrolling=\"no\" style=\"border:none;\" seamless=\"seamless\" src=\"https://plot.ly/~schakrab17/145.embed\" height=\"525px\" width=\"100%\"></iframe>"
      ],
      "text/plain": [
       "<plotly.tools.PlotlyDisplay object>"
      ]
     },
     "execution_count": 157,
     "metadata": {},
     "output_type": "execute_result"
    }
   ],
   "source": [
    "df_analysis[df_analysis['Specialization'].isna()!=True]['Sex'].value_counts().iplot(kind='bar')"
   ]
  },
  {
   "cell_type": "code",
   "execution_count": 158,
   "metadata": {},
   "outputs": [
    {
     "data": {
      "text/html": [
       "<iframe id=\"igraph\" scrolling=\"no\" style=\"border:none;\" seamless=\"seamless\" src=\"https://plot.ly/~schakrab17/147.embed\" height=\"525px\" width=\"100%\"></iframe>"
      ],
      "text/plain": [
       "<plotly.tools.PlotlyDisplay object>"
      ]
     },
     "execution_count": 158,
     "metadata": {},
     "output_type": "execute_result"
    }
   ],
   "source": [
    "df_analysis[df_analysis['Specialization'].isna()==True]['Sex'].value_counts().iplot(kind='bar')"
   ]
  },
  {
   "cell_type": "markdown",
   "metadata": {},
   "source": [
    "### Registration Year"
   ]
  },
  {
   "cell_type": "code",
   "execution_count": 159,
   "metadata": {},
   "outputs": [
    {
     "data": {
      "text/html": [
       "<iframe id=\"igraph\" scrolling=\"no\" style=\"border:none;\" seamless=\"seamless\" src=\"https://plot.ly/~schakrab17/149.embed\" height=\"525px\" width=\"100%\"></iframe>"
      ],
      "text/plain": [
       "<plotly.tools.PlotlyDisplay object>"
      ]
     },
     "execution_count": 159,
     "metadata": {},
     "output_type": "execute_result"
    }
   ],
   "source": [
    "df_analysis.groupby(['Sex'])['Reg. Year'].value_counts().unstack(0).iplot(kind='bar')"
   ]
  },
  {
   "cell_type": "code",
   "execution_count": 160,
   "metadata": {},
   "outputs": [
    {
     "data": {
      "text/html": [
       "<iframe id=\"igraph\" scrolling=\"no\" style=\"border:none;\" seamless=\"seamless\" src=\"https://plot.ly/~schakrab17/151.embed\" height=\"525px\" width=\"100%\"></iframe>"
      ],
      "text/plain": [
       "<plotly.tools.PlotlyDisplay object>"
      ]
     },
     "execution_count": 160,
     "metadata": {},
     "output_type": "execute_result"
    }
   ],
   "source": [
    "df_analysis['Reg. Year'].value_counts().iplot(kind='bar')"
   ]
  },
  {
   "cell_type": "code",
   "execution_count": 161,
   "metadata": {},
   "outputs": [
    {
     "data": {
      "text/plain": [
       "160.0"
      ]
     },
     "execution_count": 161,
     "metadata": {},
     "output_type": "execute_result"
    }
   ],
   "source": [
    "df_analysis['Reg. Year'].value_counts().median()"
   ]
  },
  {
   "cell_type": "markdown",
   "metadata": {},
   "source": [
    "### Outside Tripura"
   ]
  },
  {
   "cell_type": "code",
   "execution_count": 162,
   "metadata": {},
   "outputs": [
    {
     "data": {
      "text/html": [
       "<div>\n",
       "<style scoped>\n",
       "    .dataframe tbody tr th:only-of-type {\n",
       "        vertical-align: middle;\n",
       "    }\n",
       "\n",
       "    .dataframe tbody tr th {\n",
       "        vertical-align: top;\n",
       "    }\n",
       "\n",
       "    .dataframe thead th {\n",
       "        text-align: right;\n",
       "    }\n",
       "</style>\n",
       "<table border=\"1\" class=\"dataframe\">\n",
       "  <thead>\n",
       "    <tr style=\"text-align: right;\">\n",
       "      <th></th>\n",
       "      <th>State</th>\n",
       "    </tr>\n",
       "  </thead>\n",
       "  <tbody>\n",
       "    <tr>\n",
       "      <th>tripura</th>\n",
       "      <td>705</td>\n",
       "    </tr>\n",
       "    <tr>\n",
       "      <th>west bengal</th>\n",
       "      <td>25</td>\n",
       "    </tr>\n",
       "    <tr>\n",
       "      <th>manipur</th>\n",
       "      <td>19</td>\n",
       "    </tr>\n",
       "    <tr>\n",
       "      <th>assam</th>\n",
       "      <td>14</td>\n",
       "    </tr>\n",
       "    <tr>\n",
       "      <th>uttar pradesh</th>\n",
       "      <td>7</td>\n",
       "    </tr>\n",
       "    <tr>\n",
       "      <th>haryana</th>\n",
       "      <td>6</td>\n",
       "    </tr>\n",
       "    <tr>\n",
       "      <th>kerala</th>\n",
       "      <td>5</td>\n",
       "    </tr>\n",
       "    <tr>\n",
       "      <th>nagaland</th>\n",
       "      <td>5</td>\n",
       "    </tr>\n",
       "    <tr>\n",
       "      <th>rajasthan</th>\n",
       "      <td>5</td>\n",
       "    </tr>\n",
       "    <tr>\n",
       "      <th>madhya pradesh</th>\n",
       "      <td>4</td>\n",
       "    </tr>\n",
       "    <tr>\n",
       "      <th>delhi</th>\n",
       "      <td>3</td>\n",
       "    </tr>\n",
       "    <tr>\n",
       "      <th>tamil nadu</th>\n",
       "      <td>3</td>\n",
       "    </tr>\n",
       "    <tr>\n",
       "      <th>mizoram</th>\n",
       "      <td>2</td>\n",
       "    </tr>\n",
       "    <tr>\n",
       "      <th>meghalaya</th>\n",
       "      <td>2</td>\n",
       "    </tr>\n",
       "    <tr>\n",
       "      <th>arunachal pradesh</th>\n",
       "      <td>2</td>\n",
       "    </tr>\n",
       "    <tr>\n",
       "      <th>andhra pradesh</th>\n",
       "      <td>2</td>\n",
       "    </tr>\n",
       "    <tr>\n",
       "      <th>jharkhand</th>\n",
       "      <td>1</td>\n",
       "    </tr>\n",
       "    <tr>\n",
       "      <th>chandigarh</th>\n",
       "      <td>1</td>\n",
       "    </tr>\n",
       "    <tr>\n",
       "      <th>orissa</th>\n",
       "      <td>1</td>\n",
       "    </tr>\n",
       "    <tr>\n",
       "      <th>bihar</th>\n",
       "      <td>1</td>\n",
       "    </tr>\n",
       "    <tr>\n",
       "      <th>gujarat</th>\n",
       "      <td>1</td>\n",
       "    </tr>\n",
       "    <tr>\n",
       "      <th>chhattisgarh</th>\n",
       "      <td>1</td>\n",
       "    </tr>\n",
       "  </tbody>\n",
       "</table>\n",
       "</div>"
      ],
      "text/plain": [
       "                   State\n",
       "tripura              705\n",
       "west bengal           25\n",
       "manipur               19\n",
       "assam                 14\n",
       "uttar pradesh          7\n",
       "haryana                6\n",
       "kerala                 5\n",
       "nagaland               5\n",
       "rajasthan              5\n",
       "madhya pradesh         4\n",
       "delhi                  3\n",
       "tamil nadu             3\n",
       "mizoram                2\n",
       "meghalaya              2\n",
       "arunachal pradesh      2\n",
       "andhra pradesh         2\n",
       "jharkhand              1\n",
       "chandigarh             1\n",
       "orissa                 1\n",
       "bihar                  1\n",
       "gujarat                1\n",
       "chhattisgarh           1"
      ]
     },
     "execution_count": 162,
     "metadata": {},
     "output_type": "execute_result"
    }
   ],
   "source": [
    "df_analysis.State.value_counts().to_frame()"
   ]
  },
  {
   "cell_type": "code",
   "execution_count": 163,
   "metadata": {
    "scrolled": false
   },
   "outputs": [
    {
     "data": {
      "text/html": [
       "<iframe id=\"igraph\" scrolling=\"no\" style=\"border:none;\" seamless=\"seamless\" src=\"https://plot.ly/~schakrab17/153.embed\" height=\"525px\" width=\"100%\"></iframe>"
      ],
      "text/plain": [
       "<plotly.tools.PlotlyDisplay object>"
      ]
     },
     "execution_count": 163,
     "metadata": {},
     "output_type": "execute_result"
    }
   ],
   "source": [
    "df_analysis[df_analysis['State']!='tripura'].groupby('Age Group')['State'].value_counts().unstack(0).iplot(kind='bar')"
   ]
  },
  {
   "cell_type": "markdown",
   "metadata": {},
   "source": [
    "### Basic observations"
   ]
  },
  {
   "cell_type": "code",
   "execution_count": 164,
   "metadata": {},
   "outputs": [
    {
     "data": {
      "text/html": [
       "<iframe id=\"igraph\" scrolling=\"no\" style=\"border:none;\" seamless=\"seamless\" src=\"https://plot.ly/~schakrab17/155.embed\" height=\"525px\" width=\"100%\"></iframe>"
      ],
      "text/plain": [
       "<plotly.tools.PlotlyDisplay object>"
      ]
     },
     "execution_count": 164,
     "metadata": {},
     "output_type": "execute_result"
    }
   ],
   "source": [
    "df_analysis.Sex.value_counts().iplot(kind='bar')"
   ]
  },
  {
   "cell_type": "code",
   "execution_count": 165,
   "metadata": {},
   "outputs": [
    {
     "data": {
      "text/html": [
       "<iframe id=\"igraph\" scrolling=\"no\" style=\"border:none;\" seamless=\"seamless\" src=\"https://plot.ly/~schakrab17/157.embed\" height=\"525px\" width=\"100%\"></iframe>"
      ],
      "text/plain": [
       "<plotly.tools.PlotlyDisplay object>"
      ]
     },
     "execution_count": 165,
     "metadata": {},
     "output_type": "execute_result"
    }
   ],
   "source": [
    "df_analysis['Age Group'].value_counts().iplot(kind='bar')"
   ]
  },
  {
   "cell_type": "code",
   "execution_count": 166,
   "metadata": {},
   "outputs": [
    {
     "data": {
      "text/html": [
       "<iframe id=\"igraph\" scrolling=\"no\" style=\"border:none;\" seamless=\"seamless\" src=\"https://plot.ly/~schakrab17/159.embed\" height=\"525px\" width=\"100%\"></iframe>"
      ],
      "text/plain": [
       "<plotly.tools.PlotlyDisplay object>"
      ]
     },
     "execution_count": 166,
     "metadata": {},
     "output_type": "execute_result"
    }
   ],
   "source": [
    "df_analysis.groupby(['Age Group'])['Sex'].value_counts().unstack(1).iplot(kind='bar')"
   ]
  },
  {
   "cell_type": "markdown",
   "metadata": {},
   "source": [
    "### Age Statistics"
   ]
  },
  {
   "cell_type": "code",
   "execution_count": 167,
   "metadata": {},
   "outputs": [
    {
     "data": {
      "text/plain": [
       "36.916564417177916"
      ]
     },
     "execution_count": 167,
     "metadata": {},
     "output_type": "execute_result"
    }
   ],
   "source": [
    "df_analysis.Age.mean()"
   ]
  },
  {
   "cell_type": "code",
   "execution_count": 168,
   "metadata": {},
   "outputs": [
    {
     "data": {
      "text/plain": [
       "31.0"
      ]
     },
     "execution_count": 168,
     "metadata": {},
     "output_type": "execute_result"
    }
   ],
   "source": [
    "df_analysis.Age.median()"
   ]
  },
  {
   "cell_type": "code",
   "execution_count": 169,
   "metadata": {},
   "outputs": [
    {
     "data": {
      "text/plain": [
       "(Reg. Year    2014.0\n",
       " Age            32.0\n",
       " dtype: float64, Reg. Year    2013.805415\n",
       " Age            39.153976\n",
       " dtype: float64)"
      ]
     },
     "execution_count": 169,
     "metadata": {},
     "output_type": "execute_result"
    }
   ],
   "source": [
    "df_analysis[df_analysis['Sex']=='Male'].median(),df_analysis[df_analysis['Sex']=='Male'].mean()"
   ]
  },
  {
   "cell_type": "code",
   "execution_count": 170,
   "metadata": {},
   "outputs": [
    {
     "data": {
      "text/plain": [
       "(Reg. Year    2014.0\n",
       " Age            30.0\n",
       " dtype: float64, Reg. Year    2013.549107\n",
       " Age            31.013393\n",
       " dtype: float64)"
      ]
     },
     "execution_count": 170,
     "metadata": {},
     "output_type": "execute_result"
    }
   ],
   "source": [
    "df_analysis[df_analysis['Sex']=='Female'].median(),df_analysis[df_analysis['Sex']=='Female'].mean()"
   ]
  }
 ],
 "metadata": {
  "kernelspec": {
   "display_name": "Python 3",
   "language": "python",
   "name": "python3"
  },
  "language_info": {
   "codemirror_mode": {
    "name": "ipython",
    "version": 3
   },
   "file_extension": ".py",
   "mimetype": "text/x-python",
   "name": "python",
   "nbconvert_exporter": "python",
   "pygments_lexer": "ipython3",
   "version": "3.6.7"
  }
 },
 "nbformat": 4,
 "nbformat_minor": 2
}
